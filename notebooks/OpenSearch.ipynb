{
 "cells": [
  {
   "cell_type": "code",
   "execution_count": 1,
   "metadata": {
    "collapsed": false
   },
   "outputs": [],
   "source": [
    "%reload_ext autoreload\n",
    "%autoreload 2\n",
    "\n",
    "import os\n",
    "import json\n",
    "import glob\n",
    "from semproc.rawresponse import RawResponse\n",
    "from semproc.parser import Parser\n",
    "from semproc.preprocessors.opensearch_preprocessors import OpenSearchReader\n",
    "from semproc.serializers.rdfgraphs import RdfGrapher"
   ]
  },
  {
   "cell_type": "code",
   "execution_count": 2,
   "metadata": {
    "collapsed": true
   },
   "outputs": [],
   "source": [
    "with open('../inputs/opensearch_ncddc_erddap.xml', 'r') as f:\n",
    "    response = f.read()\n",
    "\n",
    "rr = RawResponse(response, 'text/xml')\n",
    "response = rr.clean_raw_content()\n",
    "\n",
    "url = 'http://ecowatch.ncddc.noaa.gov/erddap/opensearch1.1/description.xml'\n",
    "identity = {\n",
    "    \"protocol\": \"OpenSearch\", \n",
    "     \"service\": {\n",
    "    \"version\": [\"1.1\"], \n",
    "    \"name\": \"OpenSearchDescription\"}\n",
    "}\n"
   ]
  },
  {
   "cell_type": "code",
   "execution_count": 3,
   "metadata": {
    "collapsed": false
   },
   "outputs": [],
   "source": [
    "reader = OpenSearchReader(identity, response, url, {'harvest_date': '2015-09-15T12:45:00Z'})\n",
    "reader.parse()"
   ]
  },
  {
   "cell_type": "code",
   "execution_count": 4,
   "metadata": {
    "collapsed": false
   },
   "outputs": [],
   "source": [
    "# reader.description"
   ]
  },
  {
   "cell_type": "code",
   "execution_count": 5,
   "metadata": {
    "collapsed": false
   },
   "outputs": [],
   "source": [
    "# and the turtle?\n",
    "grapher = RdfGrapher(reader.description)\n",
    "grapher.serialize()"
   ]
  },
  {
   "cell_type": "code",
   "execution_count": 6,
   "metadata": {
    "collapsed": false
   },
   "outputs": [
    {
     "name": "stdout",
     "output_type": "stream",
     "text": [
      "@prefix bcube: <http://purl.org/BCube/#> .\n",
      "@prefix bibo: <http://purl.org/ontology/bibo/#> .\n",
      "@prefix dc: <http://purl.org/dc/elements/1.1/> .\n",
      "@prefix dcat: <http://www.w3.org/TR/vocab-dcat/#> .\n",
      "@prefix dcterms: <http://purl.org/dc/terms/> .\n",
      "@prefix esip: <http://purl.org/esip/#> .\n",
      "@prefix foaf: <http://xmlns.com/foaf/0.1/> .\n",
      "@prefix owl: <http://www.w3.org/2002/07/owl#> .\n",
      "@prefix rdf: <http://www.w3.org/1999/02/22-rdf-syntax-ns#> .\n",
      "@prefix rdfs: <http://www.w3.org/2000/01/rdf-schema#> .\n",
      "@prefix vcard: <http://www.w3.org/TR/vcard-rdf/#> .\n",
      "@prefix xml: <http://www.w3.org/XML/1998/namespace> .\n",
      "@prefix xsd: <http://www.w3.org/2001/XMLSchema#> .\n",
      "\n",
      "<urn:uuid:06054006-5b20-4d8c-8ef9-ed68395caa3f> dcterms:references <urn:sha:0b4f2e62d67d1dec412c4c1fe97443055f1fddf40c24051b1d1ca851> ;\n",
      "    owl:a bibo:WebPage .\n",
      "\n",
      "<urn:uuid:0bfd7aa8-5258-4826-8305-2607384abfb8> a \"OpenSearch1.1:Description\" ;\n",
      "    bcube:dateCreated \"2015-09-15T12:45:00Z\" ;\n",
      "    bcube:lastUpdated \"2015-09-15T12:45:00Z\" ;\n",
      "    bcube:originatedFrom <urn:sha:b8ce97637fd2462a21eab2096acd9602cc5703f857231ea54f0f9f0e> ;\n",
      "    dc:conformsTo <urn:uuid:849c5b8d-a00d-461c-b268-74ffa213d796> ;\n",
      "    dc:description \"ERDDAP at NCDDC The ERDDAP at NCDDC is a data server that gives you a simple, consistent way to download subsets of scientific datasets in common file formats and make graphs and maps.\" ;\n",
      "    dcterms:title \"ERDDAP\" ;\n",
      "    owl:a bcube:service .\n",
      "\n",
      "<urn:uuid:53666ce1-7ce3-4457-9951-505136ded421> dcterms:references <urn:sha:a5a8d29896428fa8ef35071c5bc42a5b821acda1b9e02c8a00efcd58> ;\n",
      "    owl:a bibo:WebPage .\n",
      "\n",
      "<urn:sha:0b4f2e62d67d1dec412c4c1fe97443055f1fddf40c24051b1d1ca851> bcube:HTTPStatusCodeValue 200 ;\n",
      "    bcube:HTTPStatusFamilyCode 200 ;\n",
      "    bcube:HTTPStatusFamilyType \"Success message\" ;\n",
      "    bcube:atTime \"2015-09-15T12:45:00Z\" ;\n",
      "    bcube:hasConfidence \"Not Sure\" ;\n",
      "    bcube:hasUrlSource \"Generated\" ;\n",
      "    bcube:reasonPhrase \"OK\" ;\n",
      "    bcube:validatedOn \"2015-09-15T12:45:00Z\" ;\n",
      "    owl:a bcube:Url ;\n",
      "    vcard:hasUrl \"http://ecowatch.ncddc.noaa.gov/erddap/opensearch1.1/search?itemsPerPage=5&searchTerms=&format=rss\" .\n",
      "\n",
      "<urn:sha:a5a8d29896428fa8ef35071c5bc42a5b821acda1b9e02c8a00efcd58> bcube:HTTPStatusCodeValue 200 ;\n",
      "    bcube:HTTPStatusFamilyCode 200 ;\n",
      "    bcube:HTTPStatusFamilyType \"Success message\" ;\n",
      "    bcube:atTime \"2015-09-15T12:45:00Z\" ;\n",
      "    bcube:hasConfidence \"Not Sure\" ;\n",
      "    bcube:hasUrlSource \"Generated\" ;\n",
      "    bcube:reasonPhrase \"OK\" ;\n",
      "    bcube:validatedOn \"2015-09-15T12:45:00Z\" ;\n",
      "    owl:a bcube:Url ;\n",
      "    vcard:hasUrl \"http://ecowatch.ncddc.noaa.gov/erddap/opensearch1.1/search?itemsPerPage=5&searchTerms=&format=atom\" .\n",
      "\n",
      "<urn:sha:b8ce97637fd2462a21eab2096acd9602cc5703f857231ea54f0f9f0e> bcube:HTTPStatusCodeValue 200 ;\n",
      "    bcube:HTTPStatusFamilyCode 200 ;\n",
      "    bcube:HTTPStatusFamilyType \"Success message\" ;\n",
      "    bcube:atTime \"2015-09-15T12:45:00Z\" ;\n",
      "    bcube:hasConfidence \"Good\" ;\n",
      "    bcube:hasUrlSource \"Harvested\" ;\n",
      "    bcube:reasonPhrase \"OK\" ;\n",
      "    bcube:validatedOn \"2015-09-15T12:45:00Z\" ;\n",
      "    owl:a bcube:Url ;\n",
      "    vcard:hasUrl \"http://ecowatch.ncddc.noaa.gov/erddap/opensearch1.1/description.xml\" .\n",
      "\n",
      "<urn:uuid:849c5b8d-a00d-461c-b268-74ffa213d796> bcube:hasValue \"earth ncddc ncom nomad ocean oceans science\" ;\n",
      "    owl:a bcube:thesaurusSubset .\n",
      "\n",
      "\n"
     ]
    }
   ],
   "source": [
    "print grapher.emit_format()"
   ]
  },
  {
   "cell_type": "code",
   "execution_count": null,
   "metadata": {
    "collapsed": true
   },
   "outputs": [],
   "source": []
  }
 ],
 "metadata": {
  "kernelspec": {
   "display_name": "Python 2",
   "language": "python",
   "name": "python2"
  },
  "language_info": {
   "codemirror_mode": {
    "name": "ipython",
    "version": 2
   },
   "file_extension": ".py",
   "mimetype": "text/x-python",
   "name": "python",
   "nbconvert_exporter": "python",
   "pygments_lexer": "ipython2",
   "version": "2.7.10"
  }
 },
 "nbformat": 4,
 "nbformat_minor": 0
}
