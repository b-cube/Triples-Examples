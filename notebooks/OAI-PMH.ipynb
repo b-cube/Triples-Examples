{
 "cells": [
  {
   "cell_type": "markdown",
   "metadata": {},
   "source": [
    "OGC triples for WxS GetCapabilities as Catalog Records"
   ]
  },
  {
   "cell_type": "code",
   "execution_count": 5,
   "metadata": {
    "collapsed": false
   },
   "outputs": [],
   "source": [
    "%reload_ext autoreload\n",
    "%autoreload 2\n",
    "\n",
    "import os\n",
    "import json\n",
    "import glob\n",
    "from semproc.rawresponse import RawResponse\n",
    "from semproc.parser import Parser\n",
    "from semproc.preprocessors.oaipmh_preprocessors import OaiPmhReader\n",
    "from semproc.serializers.rdfgraphs import RdfGrapher"
   ]
  },
  {
   "cell_type": "code",
   "execution_count": 6,
   "metadata": {
    "collapsed": true
   },
   "outputs": [],
   "source": [
    "with open('../inputs/oaipmh_identify.xml', 'r') as f:\n",
    "    response = f.read()\n",
    "\n",
    "rr = RawResponse(response, 'text/xml')\n",
    "response = rr.clean_raw_content()\n",
    "    \n",
    "url = 'http://aura.abdn.ac.uk/dspace-oai/request?verb=IDENTIFY'\n",
    "identity = {\n",
    "    \"service\": {\n",
    "        \"name\": \"Identify\",\n",
    "        \"request\": \"Identify\",\n",
    "        \"version\": [\n",
    "            \"1\"\n",
    "        ]\n",
    "    },\n",
    "    \"protocol\": \"OAI-PMH\"\n",
    "}"
   ]
  },
  {
   "cell_type": "code",
   "execution_count": 7,
   "metadata": {
    "collapsed": true
   },
   "outputs": [],
   "source": [
    "reader = OaiPmhReader(identity, response, url, {'harvest_date': '2015-09-15T12:45:00Z'})"
   ]
  },
  {
   "cell_type": "code",
   "execution_count": 8,
   "metadata": {
    "collapsed": false
   },
   "outputs": [],
   "source": [
    "reader.parse()"
   ]
  },
  {
   "cell_type": "code",
   "execution_count": 9,
   "metadata": {
    "collapsed": false
   },
   "outputs": [
    {
     "data": {
      "text/plain": [
       "{'services': [{'dcterms:title': 'Aberdeen University Research Archive',\n",
       "   'object_id': 'urn:uuid:8da9ccef-720b-4637-be89-81fed742bc5c',\n",
       "   'rdf:type': 'OAI-PMH',\n",
       "   'relationships': [{'object_id': 'urn:sha:1a491c1428fe18ad50c9b8a6a4926b237cc677fbdfbdce4fa8a160b2',\n",
       "     'relate': 'bcube:originatedFrom'}],\n",
       "   'urls': [{'bcube:HTTPStatusCodeValue': 200,\n",
       "     'bcube:HTTPStatusFamilyCode': 200,\n",
       "     'bcube:HTTPStatusFamilyType': 'Success message',\n",
       "     'bcube:atTime': '2015-09-15T12:45:00Z',\n",
       "     'bcube:hasConfidence': 'Good',\n",
       "     'bcube:hasUrlSource': 'Harvested',\n",
       "     'bcube:reasonPhrase': 'OK',\n",
       "     'bcube:validatedOn': '2015-09-15T12:45:00Z',\n",
       "     'object_id': 'urn:sha:1a491c1428fe18ad50c9b8a6a4926b237cc677fbdfbdce4fa8a160b2',\n",
       "     'vcard:hasUrl': 'http://aura.abdn.ac.uk/dspace-oai/request?verb=IDENTIFY'}]}]}"
      ]
     },
     "execution_count": 9,
     "metadata": {},
     "output_type": "execute_result"
    }
   ],
   "source": [
    "reader.description"
   ]
  },
  {
   "cell_type": "code",
   "execution_count": 10,
   "metadata": {
    "collapsed": false,
    "scrolled": false
   },
   "outputs": [
    {
     "name": "stdout",
     "output_type": "stream",
     "text": [
      "@prefix bcube: <http://purl.org/BCube/#> .\n",
      "@prefix bibo: <http://purl.org/ontology/bibo/#> .\n",
      "@prefix dc: <http://purl.org/dc/elements/1.1/> .\n",
      "@prefix dcat: <http://www.w3.org/TR/vocab-dcat/#> .\n",
      "@prefix dcterms: <http://purl.org/dc/terms/> .\n",
      "@prefix esip: <http://purl.org/esip/#> .\n",
      "@prefix foaf: <http://xmlns.com/foaf/0.1/> .\n",
      "@prefix owl: <http://www.w3.org/2002/07/owl#> .\n",
      "@prefix rdf: <http://www.w3.org/1999/02/22-rdf-syntax-ns#> .\n",
      "@prefix rdfs: <http://www.w3.org/2000/01/rdf-schema#> .\n",
      "@prefix vcard: <http://www.w3.org/TR/vcard-rdf/#> .\n",
      "@prefix xml: <http://www.w3.org/XML/1998/namespace> .\n",
      "@prefix xsd: <http://www.w3.org/2001/XMLSchema#> .\n",
      "\n",
      "<urn:uuid:8da9ccef-720b-4637-be89-81fed742bc5c> a \"OAI-PMH\" ;\n",
      "    bcube:originatedFrom <urn:sha:1a491c1428fe18ad50c9b8a6a4926b237cc677fbdfbdce4fa8a160b2> ;\n",
      "    dcterms:title \"Aberdeen University Research Archive\" ;\n",
      "    owl:a bcube:service .\n",
      "\n",
      "<urn:sha:1a491c1428fe18ad50c9b8a6a4926b237cc677fbdfbdce4fa8a160b2> bcube:HTTPStatusCodeValue 200 ;\n",
      "    bcube:HTTPStatusFamilyCode 200 ;\n",
      "    bcube:HTTPStatusFamilyType \"Success message\" ;\n",
      "    bcube:atTime \"2015-09-15T12:45:00Z\" ;\n",
      "    bcube:hasConfidence \"Good\" ;\n",
      "    bcube:hasUrlSource \"Harvested\" ;\n",
      "    bcube:reasonPhrase \"OK\" ;\n",
      "    bcube:validatedOn \"2015-09-15T12:45:00Z\" ;\n",
      "    owl:a bcube:Url ;\n",
      "    vcard:hasUrl \"http://aura.abdn.ac.uk/dspace-oai/request?verb=IDENTIFY\" .\n",
      "\n",
      "\n"
     ]
    }
   ],
   "source": [
    "grapher = RdfGrapher(reader.description)\n",
    "grapher.serialize()\n",
    "print grapher.emit_format()"
   ]
  },
  {
   "cell_type": "code",
   "execution_count": null,
   "metadata": {
    "collapsed": true
   },
   "outputs": [],
   "source": []
  }
 ],
 "metadata": {
  "kernelspec": {
   "display_name": "Python 2",
   "language": "python",
   "name": "python2"
  },
  "language_info": {
   "codemirror_mode": {
    "name": "ipython",
    "version": 2
   },
   "file_extension": ".py",
   "mimetype": "text/x-python",
   "name": "python",
   "nbconvert_exporter": "python",
   "pygments_lexer": "ipython2",
   "version": "2.7.10"
  }
 },
 "nbformat": 4,
 "nbformat_minor": 0
}
