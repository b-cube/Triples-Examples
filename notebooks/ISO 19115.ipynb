{
 "cells": [
  {
   "cell_type": "code",
   "execution_count": 1,
   "metadata": {
    "collapsed": false
   },
   "outputs": [],
   "source": [
    "%reload_ext autoreload\n",
    "%autoreload 2\n",
    "\n",
    "import os\n",
    "import json\n",
    "import glob\n",
    "from semproc.rawresponse import RawResponse\n",
    "from semproc.parser import Parser\n",
    "from semproc.preprocessors.iso_preprocessors import IsoReader, MxParser\n",
    "from semproc.serializers.rdfgraphs import RdfGrapher"
   ]
  },
  {
   "cell_type": "code",
   "execution_count": 2,
   "metadata": {
    "collapsed": true
   },
   "outputs": [],
   "source": [
    "with open('../inputs/proto_iso_bluehub.xml', 'r') as f:\n",
    "    response = f.read()\n",
    "\n",
    "rr = RawResponse(response, 'text/xml')\n",
    "response = rr.clean_raw_content()\n",
    "\n",
    "url = 'https://bluehub.jrc.ec.europa.eu/erddap/metadata/iso/xml/noaa_pfeg_d543_8870_bc7f_iso.xml'\n",
    "identity = {\n",
    "    \"protocol\": \"ISO\", \n",
    "     \"metadata\": {\n",
    "    \"version\": [\"ISO 19115-2:2009(E)\"], \n",
    "    \"name\": \"19115\"}\n",
    "}\n"
   ]
  },
  {
   "cell_type": "code",
   "execution_count": 3,
   "metadata": {
    "collapsed": false
   },
   "outputs": [],
   "source": [
    "reader = IsoReader(identity, response, url, {'harvest_date': '2015-09-15T12:45:00Z'})"
   ]
  },
  {
   "cell_type": "code",
   "execution_count": 4,
   "metadata": {
    "collapsed": false
   },
   "outputs": [],
   "source": [
    "# reader.description"
   ]
  },
  {
   "cell_type": "code",
   "execution_count": 5,
   "metadata": {
    "collapsed": false
   },
   "outputs": [],
   "source": [
    "# reader.description['catalog_records']"
   ]
  },
  {
   "cell_type": "code",
   "execution_count": 6,
   "metadata": {
    "collapsed": false
   },
   "outputs": [],
   "source": [
    "# and the turtle?\n",
    "grapher = RdfGrapher(reader.description)\n",
    "grapher.serialize()"
   ]
  },
  {
   "cell_type": "code",
   "execution_count": 7,
   "metadata": {
    "collapsed": false,
    "scrolled": false
   },
   "outputs": [
    {
     "name": "stdout",
     "output_type": "stream",
     "text": [
      "@prefix bcube: <http://purl.org/BCube/#> .\n",
      "@prefix bibo: <http://purl.org/ontology/bibo/#> .\n",
      "@prefix dc: <http://purl.org/dc/elements/1.1/> .\n",
      "@prefix dcat: <http://www.w3.org/TR/vocab-dcat/#> .\n",
      "@prefix dcterms: <http://purl.org/dc/terms/> .\n",
      "@prefix esip: <http://purl.org/esip/#> .\n",
      "@prefix foaf: <http://xmlns.com/foaf/0.1/> .\n",
      "@prefix owl: <http://www.w3.org/2002/07/owl#> .\n",
      "@prefix rdf: <http://www.w3.org/1999/02/22-rdf-syntax-ns#> .\n",
      "@prefix rdfs: <http://www.w3.org/2000/01/rdf-schema#> .\n",
      "@prefix vcard: <http://www.w3.org/TR/vcard-rdf/#> .\n",
      "@prefix xml: <http://www.w3.org/XML/1998/namespace> .\n",
      "@prefix xsd: <http://www.w3.org/2001/XMLSchema#> .\n",
      "\n",
      "<urn:uuid:008d8919-bacd-4e7a-87b6-f7fe0def3d34> bcube:hasType \"theme\" ;\n",
      "    bcube:hasValue \"diffuse_attenuation_coefficient_of_downwelling_radiative_flux_in_sea_water\",\n",
      "        \"latitude\",\n",
      "        \"longitude\",\n",
      "        \"time\" ;\n",
      "    dc:partOf \"CF Standard Name Table v29\" ;\n",
      "    owl:a bcube:thesaurusSubset .\n",
      "\n",
      "<urn:uuid:0cd5a746-9542-4e1d-903d-6c26062d709b> bcube:HTTPStatusCodeValue 200 ;\n",
      "    bcube:HTTPStatusFamilyCode 200 ;\n",
      "    bcube:HTTPStatusFamilyType \"Success message\" ;\n",
      "    bcube:atTime \"2015-09-15T12:45:00Z\" ;\n",
      "    bcube:hasConfidence \"Good\" ;\n",
      "    bcube:hasUrlSource \"Harvested\" ;\n",
      "    bcube:reasonPhrase \"OK\" ;\n",
      "    bcube:validatedOn \"2015-09-15T12:45:00Z\" ;\n",
      "    dc:identifier \"urn:sha:4eaf6d197e57441768eda082ae24f20587d4c277e0e81011b661089e\" ;\n",
      "    owl:a bcube:Url ;\n",
      "    vcard:hasUrl \"https://bluehub.jrc.ec.europa.eu/erddap/griddap/erdVH2k4901day.html\" .\n",
      "\n",
      "<urn:uuid:456a115a-b39e-4d20-8018-ee974470e0a1> bcube:hasType \"project\" ;\n",
      "    bcube:hasValue \"Ocean Biology Processing Group (NASA/GSFC/OBPG)\" ;\n",
      "    owl:a bcube:thesaurusSubset .\n",
      "\n",
      "<urn:uuid:5663c264-0804-45e8-8b62-ab540e4327c1> bcube:dateCreated \"2015-09-15T12:45:00Z\" ;\n",
      "    bcube:hasMetadataRecord <urn:uuid:83a2f0bf-df37-461e-9aa2-18cea527c8e5> ;\n",
      "    bcube:lastUpdated \"2015-09-15T12:45:00Z\" ;\n",
      "    dc:conformsTo <urn:uuid:008d8919-bacd-4e7a-87b6-f7fe0def3d34>,\n",
      "        <urn:uuid:456a115a-b39e-4d20-8018-ee974470e0a1>,\n",
      "        <urn:uuid:5b3fc9b8-25ac-468b-9971-fed13c41a19d>,\n",
      "        <urn:uuid:d2750da8-ced0-4cce-a959-5fccc5c8e54d> ;\n",
      "    dc:description \"Level-3 Standard Mapped Image (SMI), Global, 4km, Diffuse Attenuation Coefficient K490, Daily composite data from the Visible and Infrared Imager/Radiometer Suite (VIIRS). VIIRS is a multi-disciplinary instrument that flies on the Suomi-NPP (National Polar-orbiting Partnership) satellite. Suomi-NPP is the initial spacecraft in the JPSS (Joint Polar Satellite Systems) series of spacecraft. JPSS is our Nation's next generation polar-orbiting operational environmental satellite system. JPSS is a collaborative program between NOAA and its acquisition agent NASA. VIIRS is the successor to MODIS for Earth science data product generation. (This version of the VH data was first released in December 2014.)\" ;\n",
      "    dc:identifier \"erdVH2k4901day\" ;\n",
      "    dc:spatial \"POLYGON ((-179.9792 -89.97918,-179.9792 89.97916,179.9792 89.97916,179.9792 -89.97918,-179.9792 -89.97918))\" ;\n",
      "    dcterms:references <urn:uuid:0cd5a746-9542-4e1d-903d-6c26062d709b>,\n",
      "        <urn:uuid:6a636903-02fb-4424-8035-c25a34901ab1> ;\n",
      "    dcterms:title \"VIIRSN, Suomi-NPP, Level-3 SMI, Global, 4km, K490, Daily\" ;\n",
      "    esip:eastBound \"179.9792\"^^xsd:float ;\n",
      "    esip:endDate \"2015-09-12\"^^xsd:date ;\n",
      "    esip:northBound \"89.97916\"^^xsd:float ;\n",
      "    esip:southBound \"-89.97918\"^^xsd:float ;\n",
      "    esip:startDate \"2012-01-02\"^^xsd:date ;\n",
      "    esip:westBound \"-179.9792\"^^xsd:float ;\n",
      "    owl:a dcat:Dataset .\n",
      "\n",
      "<urn:uuid:5b3fc9b8-25ac-468b-9971-fed13c41a19d> bcube:hasValue \"geoscientificInformation\" ;\n",
      "    dc:partOf \"IsoTopicCategories\" ;\n",
      "    owl:a bcube:thesaurusSubset .\n",
      "\n",
      "<urn:uuid:6a636903-02fb-4424-8035-c25a34901ab1> bcube:HTTPStatusCodeValue 200 ;\n",
      "    bcube:HTTPStatusFamilyCode 200 ;\n",
      "    bcube:HTTPStatusFamilyType \"Success message\" ;\n",
      "    bcube:atTime \"2015-09-15T12:45:00Z\" ;\n",
      "    bcube:hasConfidence \"Good\" ;\n",
      "    bcube:hasUrlSource \"Harvested\" ;\n",
      "    bcube:reasonPhrase \"OK\" ;\n",
      "    bcube:validatedOn \"2015-09-15T12:45:00Z\" ;\n",
      "    dc:identifier \"urn:sha:afc1dbffb4e9e210a7dbf86e0f728a4e14ddb436462026570cb68f44\" ;\n",
      "    owl:a bcube:Url ;\n",
      "    vcard:hasUrl \"https://bluehub.jrc.ec.europa.eu/erddap/griddap/erdVH2k4901day.graph\" .\n",
      "\n",
      "<urn:uuid:83a2f0bf-df37-461e-9aa2-18cea527c8e5> a \"ISO 19115:2003/19139\" ;\n",
      "    bcube:dateCreated \"2015-09-15T12:45:00Z\" ;\n",
      "    bcube:lastUpdated \"2015-09-15T12:45:00Z\" ;\n",
      "    bcube:originatedFrom <urn:uuid:f29c1c5e-8b9b-4a30-ba93-ab7f4bbf68f8> ;\n",
      "    owl:a dcat:CatalogRecord ;\n",
      "    foaf:primaryTopic <urn:uuid:5663c264-0804-45e8-8b62-ab540e4327c1> .\n",
      "\n",
      "<urn:uuid:d2750da8-ced0-4cce-a959-5fccc5c8e54d> bcube:hasType \"theme\" ;\n",
      "    bcube:hasValue \"4km\",\n",
      "        \"attentuation\",\n",
      "        \"coefficient\",\n",
      "        \"composite\",\n",
      "        \"daily\",\n",
      "        \"diffuse\",\n",
      "        \"diffuse attenuation coefficient\",\n",
      "        \"gsfc\",\n",
      "        \"image\",\n",
      "        \"joint\",\n",
      "        \"jpss\",\n",
      "        \"k490\",\n",
      "        \"level\",\n",
      "        \"level-3\",\n",
      "        \"mapped\",\n",
      "        \"mean\",\n",
      "        \"nasa\",\n",
      "        \"noaa\",\n",
      "        \"npoess\",\n",
      "        \"npp\",\n",
      "        \"obpg\",\n",
      "        \"ocean\",\n",
      "        \"ocean color\",\n",
      "        \"oceans\",\n",
      "        \"optical\",\n",
      "        \"orbiting\",\n",
      "        \"polar\",\n",
      "        \"properties\",\n",
      "        \"satellite\",\n",
      "        \"sea\",\n",
      "        \"seawater\",\n",
      "        \"smi\",\n",
      "        \"standard\",\n",
      "        \"suomi\",\n",
      "        \"viirs\",\n",
      "        \"viirsn\",\n",
      "        \"water\" ;\n",
      "    owl:a bcube:thesaurusSubset .\n",
      "\n",
      "<urn:uuid:f29c1c5e-8b9b-4a30-ba93-ab7f4bbf68f8> bcube:HTTPStatusCodeValue 200 ;\n",
      "    bcube:HTTPStatusFamilyCode 200 ;\n",
      "    bcube:HTTPStatusFamilyType \"Success message\" ;\n",
      "    bcube:atTime \"2015-09-15T12:45:00Z\" ;\n",
      "    bcube:hasConfidence \"Good\" ;\n",
      "    bcube:hasUrlSource \"Harvested\" ;\n",
      "    bcube:reasonPhrase \"OK\" ;\n",
      "    bcube:validatedOn \"2015-09-15T12:45:00Z\" ;\n",
      "    dc:identifier \"urn:sha:c2fb667c42f9774d79c895a499f319fe5795f4b3c157cc4d2cd01228\" ;\n",
      "    owl:a bcube:Url ;\n",
      "    vcard:hasUrl \"https://bluehub.jrc.ec.europa.eu/erddap/metadata/iso/xml/noaa_pfeg_d543_8870_bc7f_iso.xml\" .\n",
      "\n",
      "\n"
     ]
    }
   ],
   "source": [
    "print grapher.emit_format()"
   ]
  },
  {
   "cell_type": "code",
   "execution_count": null,
   "metadata": {
    "collapsed": true
   },
   "outputs": [],
   "source": []
  },
  {
   "cell_type": "code",
   "execution_count": null,
   "metadata": {
    "collapsed": true
   },
   "outputs": [],
   "source": []
  }
 ],
 "metadata": {
  "kernelspec": {
   "display_name": "Python 2",
   "language": "python",
   "name": "python2"
  },
  "language_info": {
   "codemirror_mode": {
    "name": "ipython",
    "version": 2
   },
   "file_extension": ".py",
   "mimetype": "text/x-python",
   "name": "python",
   "nbconvert_exporter": "python",
   "pygments_lexer": "ipython2",
   "version": "2.7.10"
  }
 },
 "nbformat": 4,
 "nbformat_minor": 0
}
