{
 "cells": [
  {
   "cell_type": "code",
   "execution_count": 1,
   "metadata": {
    "collapsed": false
   },
   "outputs": [],
   "source": [
    "%reload_ext autoreload\n",
    "%autoreload 2\n",
    "\n",
    "import os\n",
    "import json\n",
    "import glob\n",
    "from semproc.rawresponse import RawResponse\n",
    "from semproc.parser import Parser\n",
    "from semproc.preprocessors.iso_preprocessors import IsoReader, MxParser\n",
    "from semproc.serializers.rdfgraphs import RdfGrapher"
   ]
  },
  {
   "cell_type": "code",
   "execution_count": 2,
   "metadata": {
    "collapsed": true
   },
   "outputs": [],
   "source": [
    "with open('../inputs/proto_iso_bluehub.xml', 'r') as f:\n",
    "    response = f.read()\n",
    "\n",
    "rr = RawResponse(response, 'text/xml')\n",
    "response = rr.clean_raw_content()\n",
    "\n",
    "url = 'https://bluehub.jrc.ec.europa.eu/erddap/metadata/iso/xml/noaa_pfeg_d543_8870_bc7f_iso.xml'\n",
    "identity = {\n",
    "    \"protocol\": \"ISO\", \n",
    "     \"metadata\": {\n",
    "    \"version\": [\"ISO 19115-2:2009(E)\"], \n",
    "    \"name\": \"19115\"}\n",
    "}\n"
   ]
  },
  {
   "cell_type": "code",
   "execution_count": 3,
   "metadata": {
    "collapsed": false
   },
   "outputs": [],
   "source": [
    "reader = IsoReader(identity, response, url, {'harvest_date': '2015-09-15T12:45:00Z'})"
   ]
  },
  {
   "cell_type": "code",
   "execution_count": 4,
   "metadata": {
    "collapsed": false
   },
   "outputs": [],
   "source": [
    "# reader.description"
   ]
  },
  {
   "cell_type": "code",
   "execution_count": 5,
   "metadata": {
    "collapsed": false
   },
   "outputs": [],
   "source": [
    "# reader.description['catalog_records']"
   ]
  },
  {
   "cell_type": "code",
   "execution_count": 6,
   "metadata": {
    "collapsed": false
   },
   "outputs": [],
   "source": [
    "# and the turtle?\n",
    "grapher = RdfGrapher(reader.description)\n",
    "grapher.serialize()"
   ]
  },
  {
   "cell_type": "code",
   "execution_count": 7,
   "metadata": {
    "collapsed": false,
    "scrolled": false
   },
   "outputs": [
    {
     "name": "stdout",
     "output_type": "stream",
     "text": [
      "@prefix bcube: <http://purl.org/BCube/#> .\n",
      "@prefix bibo: <http://purl.org/ontology/bibo/#> .\n",
      "@prefix dc: <http://purl.org/dc/elements/1.1/> .\n",
      "@prefix dcat: <http://www.w3.org/TR/vocab-dcat/#> .\n",
      "@prefix dcterms: <http://purl.org/dc/terms/> .\n",
      "@prefix esip: <http://purl.org/esip/#> .\n",
      "@prefix foaf: <http://xmlns.com/foaf/0.1/> .\n",
      "@prefix owl: <http://www.w3.org/2002/07/owl#> .\n",
      "@prefix rdf: <http://www.w3.org/1999/02/22-rdf-syntax-ns#> .\n",
      "@prefix rdfs: <http://www.w3.org/2000/01/rdf-schema#> .\n",
      "@prefix vcard: <http://www.w3.org/TR/vcard-rdf/#> .\n",
      "@prefix xml: <http://www.w3.org/XML/1998/namespace> .\n",
      "@prefix xsd: <http://www.w3.org/2001/XMLSchema#> .\n",
      "\n",
      "<urn:sha:4eaf6d197e57441768eda082ae24f20587d4c277e0e81011b661089e> bcube:HTTPStatusCodeValue 200 ;\n",
      "    bcube:HTTPStatusFamilyCode 200 ;\n",
      "    bcube:HTTPStatusFamilyType \"Success message\" ;\n",
      "    bcube:atTime \"2015-09-15T12:45:00Z\" ;\n",
      "    bcube:hasConfidence \"Good\" ;\n",
      "    bcube:hasUrlSource \"Harvested\" ;\n",
      "    bcube:reasonPhrase \"OK\" ;\n",
      "    bcube:validatedOn \"2015-09-15T12:45:00Z\" ;\n",
      "    owl:a bcube:Url ;\n",
      "    vcard:hasUrl \"https://bluehub.jrc.ec.europa.eu/erddap/griddap/erdVH2k4901day.html\" .\n",
      "\n",
      "<urn:sha:afc1dbffb4e9e210a7dbf86e0f728a4e14ddb436462026570cb68f44> bcube:HTTPStatusCodeValue 200 ;\n",
      "    bcube:HTTPStatusFamilyCode 200 ;\n",
      "    bcube:HTTPStatusFamilyType \"Success message\" ;\n",
      "    bcube:atTime \"2015-09-15T12:45:00Z\" ;\n",
      "    bcube:hasConfidence \"Good\" ;\n",
      "    bcube:hasUrlSource \"Harvested\" ;\n",
      "    bcube:reasonPhrase \"OK\" ;\n",
      "    bcube:validatedOn \"2015-09-15T12:45:00Z\" ;\n",
      "    owl:a bcube:Url ;\n",
      "    vcard:hasUrl \"https://bluehub.jrc.ec.europa.eu/erddap/griddap/erdVH2k4901day.graph\" .\n",
      "\n",
      "<urn:sha:c2fb667c42f9774d79c895a499f319fe5795f4b3c157cc4d2cd01228> bcube:HTTPStatusCodeValue 200 ;\n",
      "    bcube:HTTPStatusFamilyCode 200 ;\n",
      "    bcube:HTTPStatusFamilyType \"Success message\" ;\n",
      "    bcube:atTime \"2015-09-15T12:45:00Z\" ;\n",
      "    bcube:hasConfidence \"Good\" ;\n",
      "    bcube:hasUrlSource \"Harvested\" ;\n",
      "    bcube:reasonPhrase \"OK\" ;\n",
      "    bcube:validatedOn \"2015-09-15T12:45:00Z\" ;\n",
      "    owl:a bcube:Url ;\n",
      "    vcard:hasUrl \"https://bluehub.jrc.ec.europa.eu/erddap/metadata/iso/xml/noaa_pfeg_d543_8870_bc7f_iso.xml\" .\n",
      "\n",
      "<urn:uuid:5b94088d-f047-4dba-ad4b-0f0421ba2ed9> bcube:hasType \"theme\" ;\n",
      "    bcube:hasValue \"diffuse_attenuation_coefficient_of_downwelling_radiative_flux_in_sea_water\",\n",
      "        \"latitude\",\n",
      "        \"longitude\",\n",
      "        \"time\" ;\n",
      "    dc:partOf \"CF Standard Name Table v29\" ;\n",
      "    owl:a bcube:thesaurusSubset .\n",
      "\n",
      "<urn:uuid:a48851e4-34e0-434d-a99b-e453ce6b6888> bcube:dateCreated \"2015-09-15T12:45:00Z\" ;\n",
      "    bcube:hasMetadataRecord <urn:uuid:c63834b7-7b09-4e08-a4e2-97150defc21d> ;\n",
      "    bcube:lastUpdated \"2015-09-15T12:45:00Z\" ;\n",
      "    dc:conformsTo <urn:uuid:5b94088d-f047-4dba-ad4b-0f0421ba2ed9>,\n",
      "        <urn:uuid:b4935e3b-b644-4dbb-98e8-05681a3dbc01>,\n",
      "        <urn:uuid:b816d200-677c-4f62-a3b7-837f4e4b8d93>,\n",
      "        <urn:uuid:cda57c02-a3fb-46b1-bb76-9f8b51daf6f4> ;\n",
      "    dc:description \"Level-3 Standard Mapped Image (SMI), Global, 4km, Diffuse Attenuation Coefficient K490, Daily composite data from the Visible and Infrared Imager/Radiometer Suite (VIIRS). VIIRS is a multi-disciplinary instrument that flies on the Suomi-NPP (National Polar-orbiting Partnership) satellite. Suomi-NPP is the initial spacecraft in the JPSS (Joint Polar Satellite Systems) series of spacecraft. JPSS is our Nation's next generation polar-orbiting operational environmental satellite system. JPSS is a collaborative program between NOAA and its acquisition agent NASA. VIIRS is the successor to MODIS for Earth science data product generation. (This version of the VH data was first released in December 2014.)\" ;\n",
      "    dc:identifier \"erdVH2k4901day\" ;\n",
      "    dc:spatial \"POLYGON ((-179.9792 -89.97918,-179.9792 89.97916,179.9792 89.97916,179.9792 -89.97918,-179.9792 -89.97918))\" ;\n",
      "    dcterms:references <urn:sha:4eaf6d197e57441768eda082ae24f20587d4c277e0e81011b661089e>,\n",
      "        <urn:sha:afc1dbffb4e9e210a7dbf86e0f728a4e14ddb436462026570cb68f44> ;\n",
      "    dcterms:title \"VIIRSN, Suomi-NPP, Level-3 SMI, Global, 4km, K490, Daily\" ;\n",
      "    esip:eastBound \"179.9792\"^^xsd:float ;\n",
      "    esip:endDate \"2015-09-12\"^^xsd:date ;\n",
      "    esip:northBound \"89.97916\"^^xsd:float ;\n",
      "    esip:southBound \"-89.97918\"^^xsd:float ;\n",
      "    esip:startDate \"2012-01-02\"^^xsd:date ;\n",
      "    esip:westBound \"-179.9792\"^^xsd:float ;\n",
      "    owl:a dcat:Dataset .\n",
      "\n",
      "<urn:uuid:b4935e3b-b644-4dbb-98e8-05681a3dbc01> bcube:hasType \"project\" ;\n",
      "    bcube:hasValue \"Ocean Biology Processing Group (NASA/GSFC/OBPG)\" ;\n",
      "    owl:a bcube:thesaurusSubset .\n",
      "\n",
      "<urn:uuid:b816d200-677c-4f62-a3b7-837f4e4b8d93> bcube:hasValue \"geoscientificInformation\" ;\n",
      "    dc:partOf \"IsoTopicCategories\" ;\n",
      "    owl:a bcube:thesaurusSubset .\n",
      "\n",
      "<urn:uuid:c63834b7-7b09-4e08-a4e2-97150defc21d> a \"ISO 19115:2003/19139\" ;\n",
      "    bcube:dateCreated \"2015-09-15T12:45:00Z\" ;\n",
      "    bcube:lastUpdated \"2015-09-15T12:45:00Z\" ;\n",
      "    bcube:originatedFrom <urn:sha:c2fb667c42f9774d79c895a499f319fe5795f4b3c157cc4d2cd01228> ;\n",
      "    owl:a dcat:CatalogRecord ;\n",
      "    foaf:primaryTopic <urn:uuid:a48851e4-34e0-434d-a99b-e453ce6b6888> .\n",
      "\n",
      "<urn:uuid:cda57c02-a3fb-46b1-bb76-9f8b51daf6f4> bcube:hasType \"theme\" ;\n",
      "\n",
      "    bcube:hasValue \"4km\",\n",
      "        \"attentuation\",\n",
      "        \"coefficient\",\n",
      "        \"composite\",\n",
      "        \"daily\",\n",
      "        \"diffuse\",\n",
      "        \"diffuse attenuation coefficient\",\n",
      "        \"gsfc\",\n",
      "        \"image\",\n",
      "        \"joint\",\n",
      "        \"jpss\",\n",
      "        \"k490\",\n",
      "        \"level\",\n",
      "        \"level-3\",\n",
      "        \"mapped\",\n",
      "        \"mean\",\n",
      "        \"nasa\",\n",
      "        \"noaa\",\n",
      "        \"npoess\",\n",
      "        \"npp\",\n",
      "        \"obpg\",\n",
      "        \"ocean\",\n",
      "        \"ocean color\",\n",
      "        \"oceans\",\n",
      "        \"optical\",\n",
      "        \"orbiting\",\n",
      "        \"polar\",\n",
      "        \"properties\",\n",
      "        \"satellite\",\n",
      "        \"sea\",\n",
      "        \"seawater\",\n",
      "        \"smi\",\n",
      "        \"standard\",\n",
      "        \"suomi\",\n",
      "        \"viirs\",\n",
      "        \"viirsn\",\n",
      "        \"water\" ;\n",
      "    owl:a bcube:thesaurusSubset .\n",
      "\n",
      "<urn:uuid:2d5bbaff-355e-410e-93e7-3a9fcb064199> bcube:hasType \"theme\" ;\n",
      "    bcube:hasValue \"diffuse_attenuation_coefficient_of_downwelling_radiative_flux_in_sea_water\",\n",
      "        \"latitude\",\n",
      "        \"longitude\",\n",
      "        \"time\" ;\n",
      "    dc:partOf \"CF Standard Name Table v29\" ;\n",
      "    owl:a bcube:thesaurusSubset .\n",
      "\n",
      "<urn:uuid:523228a3-0b80-4319-af03-8f28e9d5f520> bcube:dateCreated \"2015-09-15T12:45:00Z\" ;\n",
      "    bcube:hasMetadataRecord <urn:uuid:d8c5cdd8-3447-481e-9bee-d72203b0bfec> ;\n",
      "    bcube:lastUpdated \"2015-09-15T12:45:00Z\" ;\n",
      "    dc:conformsTo <urn:uuid:22215399-1413-4473-b3c1-fa3a55112073>,\n",
      "        <urn:uuid:2d5bbaff-355e-410e-93e7-3a9fcb064199>,\n",
      "        <urn:uuid:dc2a9203-70b7-49d4-b2fc-140d48a90cf4>,\n",
      "        <urn:uuid:e7985b80-96e2-4c13-b6a9-21e99d878349> ;\n",
      "    dc:description \"Level-3 Standard Mapped Image (SMI), Global, 4km, Diffuse Attenuation Coefficient K490, Daily composite data from the Visible and Infrared Imager/Radiometer Suite (VIIRS). VIIRS is a multi-disciplinary instrument that flies on the Suomi-NPP (National Polar-orbiting Partnership) satellite. Suomi-NPP is the initial spacecraft in the JPSS (Joint Polar Satellite Systems) series of spacecraft. JPSS is our Nation's next generation polar-orbiting operational environmental satellite system. JPSS is a collaborative program between NOAA and its acquisition agent NASA. VIIRS is the successor to MODIS for Earth science data product generation. (This version of the VH data was first released in December 2014.)\" ;\n",
      "    dc:identifier \"erdVH2k4901day\" ;\n",
      "    dc:spatial \"POLYGON ((-179.9792 -89.97918,-179.9792 89.97916,179.9792 89.97916,179.9792 -89.97918,-179.9792 -89.97918))\" ;\n",
      "    dcterms:references <urn:sha:4eaf6d197e57441768eda082ae24f20587d4c277e0e81011b661089e>,\n",
      "        <urn:sha:afc1dbffb4e9e210a7dbf86e0f728a4e14ddb436462026570cb68f44> ;\n",
      "    dcterms:title \"VIIRSN, Suomi-NPP, Level-3 SMI, Global, 4km, K490, Daily\" ;\n",
      "    esip:eastBound \"179.9792\"^^xsd:float ;\n",
      "    esip:endDate \"2015-09-12\"^^xsd:date ;\n",
      "    esip:northBound \"89.97916\"^^xsd:float ;\n",
      "    esip:southBound \"-89.97918\"^^xsd:float ;\n",
      "    esip:startDate \"2012-01-02\"^^xsd:date ;\n",
      "    esip:westBound \"-179.9792\"^^xsd:float ;\n",
      "    owl:a dcat:Dataset .\n",
      "\n",
      "<urn:uuid:d8c5cdd8-3447-481e-9bee-d72203b0bfec> a \"ISO 19115:2003/19139\" ;\n",
      "    bcube:dateCreated \"2015-09-15T12:45:00Z\" ;\n",
      "    bcube:lastUpdated \"2015-09-15T12:45:00Z\" ;\n",
      "    bcube:originatedFrom <urn:sha:c2fb667c42f9774d79c895a499f319fe5795f4b3c157cc4d2cd01228> ;\n",
      "    owl:a dcat:CatalogRecord ;\n",
      "    foaf:primaryTopic <urn:uuid:523228a3-0b80-4319-af03-8f28e9d5f520> .\n",
      "\n",
      "<urn:uuid:dc2a9203-70b7-49d4-b2fc-140d48a90cf4> bcube:hasValue \"geoscientificInformation\" ;\n",
      "    dc:partOf \"IsoTopicCategories\" ;\n",
      "    owl:a bcube:thesaurusSubset .\n",
      "\n",
      "<urn:uuid:e7985b80-96e2-4c13-b6a9-21e99d878349> bcube:hasType \"project\" ;\n",
      "    bcube:hasValue \"Ocean Biology Processing Group (NASA/GSFC/OBPG)\" ;\n",
      "    owl:a bcube:thesaurusSubset .\n",
      "\n"
     ]
    }
   ],
   "source": [
    "print grapher.emit_format()"
   ]
  },
  {
   "cell_type": "code",
   "execution_count": null,
   "metadata": {
    "collapsed": true
   },
   "outputs": [],
   "source": []
  },
  {
   "cell_type": "code",
   "execution_count": null,
   "metadata": {
    "collapsed": true
   },
   "outputs": [],
   "source": []
  }
 ],
 "metadata": {
  "kernelspec": {
   "display_name": "Python 2",
   "language": "python",
   "name": "python2"
  },
  "language_info": {
   "codemirror_mode": {
    "name": "ipython",
    "version": 2
   },
   "file_extension": ".py",
   "mimetype": "text/x-python",
   "name": "python",
   "nbconvert_exporter": "python",
   "pygments_lexer": "ipython2",
   "version": "2.7.10"
  }
 },
 "nbformat": 4,
 "nbformat_minor": 0
}
