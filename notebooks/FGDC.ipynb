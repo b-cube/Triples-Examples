{
 "cells": [
  {
   "cell_type": "markdown",
   "metadata": {},
   "source": [
    "##FGDC Triples\n",
    "\n",
    "[Jump to the turtle](#fgdc_triples)"
   ]
  },
  {
   "cell_type": "code",
   "execution_count": 33,
   "metadata": {
    "collapsed": false
   },
   "outputs": [],
   "source": [
    "%reload_ext autoreload\n",
    "%autoreload 2\n",
    "\n",
    "import os\n",
    "import json\n",
    "import glob\n",
    "from semproc.rawresponse import RawResponse\n",
    "from semproc.parser import Parser\n",
    "from semproc.preprocessors.metadata_preprocessors import FgdcItemReader\n",
    "from semproc.serializers.rdfgraphs import RdfGrapher"
   ]
  },
  {
   "cell_type": "code",
   "execution_count": 34,
   "metadata": {
    "collapsed": true
   },
   "outputs": [],
   "source": [
    "# load the proto-triples example\n",
    "with open('../inputs/fgdc_proto_example_1.xml', 'r') as f:\n",
    "    response = f.read()\n",
    "    \n",
    "rr = RawResponse(response, 'text/xml')\n",
    "response = rr.clean_raw_content()\n",
    "  \n",
    "url = 'https://bluehub.jrc.ec.europa.eu/erddap/metadata/fgdc/xml/noaa_pfeg_d543_8870_bc7f_fgdc.xml'\n",
    "identities = [\n",
    "    {\"protocol\": \"FGDC\", \n",
    "     \"metadata\": {\n",
    "            \"version\": [\"FGDC Content Standards for Digital Geospatial Metadata, FGDC-STD-001-1998\"], \n",
    "            \"name\": \"FGDC\"}\n",
    "    }\n",
    "]\n",
    "\n",
    "parser = Parser(response)"
   ]
  },
  {
   "cell_type": "code",
   "execution_count": 35,
   "metadata": {
    "collapsed": false
   },
   "outputs": [],
   "source": [
    "# execute the parse (this one takes xml)\n",
    "reader = FgdcItemReader(parser.xml, url, {'harvest_date': '2015-06-20T20:22:00.643Z'})\n",
    "reader.parse_item()"
   ]
  },
  {
   "cell_type": "code",
   "execution_count": 36,
   "metadata": {
    "collapsed": false
   },
   "outputs": [],
   "source": [
    "# the parsed JSON\n",
    "#reader.description"
   ]
  },
  {
   "cell_type": "markdown",
   "metadata": {},
   "source": [
    "<a id='fgdc_triples'></a>"
   ]
  },
  {
   "cell_type": "code",
   "execution_count": 37,
   "metadata": {
    "collapsed": false
   },
   "outputs": [
    {
     "name": "stdout",
     "output_type": "stream",
     "text": [
      "@prefix bcube: <http://purl.org/BCube/#> .\n",
      "@prefix bibo: <http://purl.org/ontology/bibo/#> .\n",
      "@prefix dc: <http://purl.org/dc/elements/1.1/> .\n",
      "@prefix dcat: <http://www.w3.org/TR/vocab-dcat/#> .\n",
      "@prefix dcterms: <http://purl.org/dc/terms/> .\n",
      "@prefix esip: <http://purl.org/esip/#> .\n",
      "@prefix foaf: <http://xmlns.com/foaf/0.1/> .\n",
      "@prefix owl: <http://www.w3.org/2002/07/owl#> .\n",
      "@prefix rdf: <http://www.w3.org/1999/02/22-rdf-syntax-ns#> .\n",
      "@prefix rdfs: <http://www.w3.org/2000/01/rdf-schema#> .\n",
      "@prefix vcard: <http://www.w3.org/TR/vcard-rdf/#> .\n",
      "@prefix xml: <http://www.w3.org/XML/1998/namespace> .\n",
      "@prefix xsd: <http://www.w3.org/2001/XMLSchema#> .\n",
      "\n",
      "<urn:sha:8df1983f1f9573be5059558fd20d718d9550720c873eb8930cdc6735> bcube:HTTPStatusCodeValue 200 ;\n",
      "    bcube:HTTPStatusFamilyCode 200 ;\n",
      "    bcube:HTTPStatusFamilyType \"Success message\" ;\n",
      "    bcube:atTime \"2015-06-20T20:22:00.643Z\" ;\n",
      "    bcube:hasConfidence \"Good\" ;\n",
      "    bcube:hasUrlSource \"Harvested\" ;\n",
      "    bcube:reasonPhrase \"OK\" ;\n",
      "    bcube:validatedOn \"2015-06-20T20:22:00.643Z\" ;\n",
      "    owl:a bcube:Url ;\n",
      "    vcard:hasUrl \"https://bluehub.jrc.ec.europa.eu/erddap/wms/noaa_pfeg_d543_8870_bc7f/request\" .\n",
      "\n",
      "<urn:sha:be86d663bf9cb281de03aff9ae3fa51c6728075d344e55ca3a376514> bcube:HTTPStatusCodeValue 200 ;\n",
      "    bcube:HTTPStatusFamilyCode 200 ;\n",
      "    bcube:HTTPStatusFamilyType \"Success message\" ;\n",
      "    bcube:atTime \"2015-06-20T20:22:00.643Z\" ;\n",
      "    bcube:hasConfidence \"Good\" ;\n",
      "    bcube:hasUrlSource \"Harvested\" ;\n",
      "    bcube:reasonPhrase \"OK\" ;\n",
      "    bcube:validatedOn \"2015-06-20T20:22:00.643Z\" ;\n",
      "    owl:a bcube:Url ;\n",
      "    vcard:hasUrl \"https://bluehub.jrc.ec.europa.eu/erddap/griddap/noaa_pfeg_d543_8870_bc7f.graph\" .\n",
      "\n",
      "<urn:sha:c8e6a320278b006f2f7b6b293fcab0331b77b84cfd63b47408537e85> bcube:HTTPStatusCodeValue 200 ;\n",
      "    bcube:HTTPStatusFamilyCode 200 ;\n",
      "    bcube:HTTPStatusFamilyType \"Success message\" ;\n",
      "    bcube:atTime \"2015-06-20T20:22:00.643Z\" ;\n",
      "    bcube:hasConfidence \"Good\" ;\n",
      "    bcube:hasUrlSource \"Harvested\" ;\n",
      "    bcube:reasonPhrase \"OK\" ;\n",
      "    bcube:validatedOn \"2015-06-20T20:22:00.643Z\" ;\n",
      "    owl:a bcube:Url ;\n",
      "    vcard:hasUrl \"https://bluehub.jrc.ec.europa.eu/erddap/griddap/noaa_pfeg_d543_8870_bc7f.html\" .\n",
      "\n",
      "<urn:sha:f65fb3d1efeee860adbbb53d3a20e80e1f50fe625e4887155f196a92> bcube:HTTPStatusCodeValue 200 ;\n",
      "    bcube:HTTPStatusFamilyCode 200 ;\n",
      "    bcube:HTTPStatusFamilyType \"Success message\" ;\n",
      "    bcube:atTime \"2015-06-20T20:22:00.643Z\" ;\n",
      "    bcube:hasConfidence \"Good\" ;\n",
      "    bcube:hasUrlSource \"Harvested\" ;\n",
      "    bcube:reasonPhrase \"OK\" ;\n",
      "    bcube:validatedOn \"2015-06-20T20:22:00.643Z\" ;\n",
      "    owl:a bcube:Url ;\n",
      "    vcard:hasUrl \"https://bluehub.jrc.ec.europa.eu/erddap/metadata/fgdc/xml/noaa_pfeg_d543_8870_bc7f_fgdc.xml\" .\n",
      "\n",
      "<urn:uuid:16059513-2b8c-4a64-a849-8ec828e46e83> a \"FGDC:CSDGM\" ;\n",
      "    bcube:dateCreated \"2015-06-20T20:22:00.643Z\" ;\n",
      "    bcube:lastUpdated \"2015-06-20T20:22:00.643Z\" ;\n",
      "    bcube:originatedFrom <urn:sha:f65fb3d1efeee860adbbb53d3a20e80e1f50fe625e4887155f196a92> ;\n",
      "    dc:conformsTo \"http://www.ngdc.noaa.gov/metadata/published/xsd/ngdcSchema/schema.xsd\" ;\n",
      "    owl:a dcat:CatalogRecord ;\n",
      "    foaf:primaryTopic <urn:uuid:bb3d6488-12e4-49e7-ba55-cd4c3f28af45> .\n",
      "\n",
      "<urn:uuid:1667abab-c819-4b04-a025-6d60c2d3f9bc> dcterms:references <urn:sha:8df1983f1f9573be5059558fd20d718d9550720c873eb8930cdc6735> ;\n",
      "    owl:a bibo:WebPage .\n",
      "\n",
      "<urn:uuid:46877042-4b17-40db-a783-431a1d314350> bcube:hasType \"theme\" ;\n",
      "    bcube:hasValue \"latitude\",\n",
      "        \"longitude\",\n",
      "        \"time\" ;\n",
      "    dc:partOf \"CF Standard Name Table v27\" ;\n",
      "    owl:a bcube:thesaurusSubset .\n",
      "\n",
      "<urn:uuid:5625b2c3-7942-4c6f-a88d-f07e0a59b282> bcube:hasType \"theme\" ;\n",
      "    bcube:hasValue \"conversion\",\n",
      "        \"data\",\n",
      "        \"fnmoc\",\n",
      "        \"level\",\n",
      "        \"mean\",\n",
      "        \"navg\",\n",
      "        \"observed\",\n",
      "        \"pressure\",\n",
      "        \"sea\",\n",
      "        \"theortically\",\n",
      "        \"value\" ;\n",
      "    dc:partOf \"Uncontrolled\" ;\n",
      "    owl:a bcube:thesaurusSubset .\n",
      "\n",
      "<urn:uuid:79c79f07-401d-4252-9da4-6582521f6386> owl:a foaf:Organization ;\n",
      "    foaf:name \"ERDDAP, version 1.60, at Maritime Affairs Unit of the Joint Research Centre\" .\n",
      "\n",
      "<urn:uuid:bb3d6488-12e4-49e7-ba55-cd4c3f28af45> bcube:dateCreated \"2015-06-20T20:22:00.643Z\" ;\n",
      "    bcube:hasMetadataRecord <urn:uuid:16059513-2b8c-4a64-a849-8ec828e46e83> ;\n",
      "    bcube:lastUpdated \"2015-06-20T20:22:00.643Z\" ;\n",
      "    dc:conformsTo <urn:uuid:46877042-4b17-40db-a783-431a1d314350>,\n",
      "        <urn:uuid:5625b2c3-7942-4c6f-a88d-f07e0a59b282> ;\n",
      "    dc:description \"Navy Global Environmental Model (NAVGEM) is a global numerical weather prediction computer model. It replaced NOGAPS as the prime model in the middle of February 2013 at the Navy Fleet Numerical Meteorology and Oceanography Center (FNMOC) Weather model synoptic site. [Wikipedia]\" ;\n",
      "    dc:spatial \"POLYGON ((-180 -90,-180 90,180 90,180 -90,-180 -90))\" ;\n",
      "    dcterms:identifier \"https://bluehub.jrc.ec.europa.eu:noaa_pfeg_d543_8870_bc7f\" ;\n",
      "    dcterms:publisher <urn:uuid:79c79f07-401d-4252-9da4-6582521f6386> ;\n",
      "    dcterms:references <urn:sha:be86d663bf9cb281de03aff9ae3fa51c6728075d344e55ca3a376514>,\n",
      "        <urn:sha:c8e6a320278b006f2f7b6b293fcab0331b77b84cfd63b47408537e85>,\n",
      "        <urn:uuid:1667abab-c819-4b04-a025-6d60c2d3f9bc> ;\n",
      "    dcterms:title \"Navy Global Environmental Model (NAVGEM), 0.5 degree, Pressure MSL\" ;\n",
      "    esip:eastBound \"180.0\"^^xsd:float ;\n",
      "    esip:endDate \"2014-08-13\"^^xsd:date ;\n",
      "    esip:northBound \"90.0\"^^xsd:float ;\n",
      "    esip:southBound \"-90.0\"^^xsd:float ;\n",
      "    esip:startDate \"2013-02-15\"^^xsd:date ;\n",
      "    esip:westBound \"-180.0\"^^xsd:float ;\n",
      "    owl:a dcat:Dataset .\n",
      "\n",
      "\n"
     ]
    }
   ],
   "source": [
    "# export the triples\n",
    "g= RdfGrapher(reader.description)\n",
    "g.serialize()\n",
    "ttl = g.emit_format()\n",
    "print ttl"
   ]
  },
  {
   "cell_type": "code",
   "execution_count": null,
   "metadata": {
    "collapsed": true
   },
   "outputs": [],
   "source": []
  },
  {
   "cell_type": "code",
   "execution_count": null,
   "metadata": {
    "collapsed": true
   },
   "outputs": [],
   "source": []
  }
 ],
 "metadata": {
  "kernelspec": {
   "display_name": "Python 2",
   "language": "python",
   "name": "python2"
  },
  "language_info": {
   "codemirror_mode": {
    "name": "ipython",
    "version": 2
   },
   "file_extension": ".py",
   "mimetype": "text/x-python",
   "name": "python",
   "nbconvert_exporter": "python",
   "pygments_lexer": "ipython2",
   "version": "2.7.10"
  }
 },
 "nbformat": 4,
 "nbformat_minor": 0
}
