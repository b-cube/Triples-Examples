{
 "cells": [
  {
   "cell_type": "markdown",
   "metadata": {},
   "source": [
    "##FGDC Triples\n",
    "\n",
    "[Jump to the turtle](#fgdc_triples)"
   ]
  },
  {
   "cell_type": "code",
   "execution_count": 1,
   "metadata": {
    "collapsed": false
   },
   "outputs": [],
   "source": [
    "%reload_ext autoreload\n",
    "%autoreload 2\n",
    "\n",
    "import os\n",
    "import json\n",
    "import glob\n",
    "from semproc.rawresponse import RawResponse\n",
    "from semproc.parser import Parser\n",
    "from semproc.preprocessors.metadata_preprocessors import FgdcItemReader\n",
    "from semproc.serializers.rdfgraphs import RdfGrapher"
   ]
  },
  {
   "cell_type": "code",
   "execution_count": 2,
   "metadata": {
    "collapsed": true
   },
   "outputs": [],
   "source": [
    "# load the proto-triples example\n",
    "with open('../inputs/fgdc_proto_example_1.xml', 'r') as f:\n",
    "    response = f.read()\n",
    "    \n",
    "rr = RawResponse(response, 'text/xml')\n",
    "response = rr.clean_raw_content()\n",
    "  \n",
    "url = 'https://bluehub.jrc.ec.europa.eu/erddap/metadata/fgdc/xml/noaa_pfeg_d543_8870_bc7f_fgdc.xml'\n",
    "identities = [\n",
    "    {\"protocol\": \"FGDC\", \n",
    "     \"metadata\": {\n",
    "            \"version\": [\"FGDC Content Standards for Digital Geospatial Metadata, FGDC-STD-001-1998\"], \n",
    "            \"name\": \"FGDC\"}\n",
    "    }\n",
    "]\n",
    "\n",
    "parser = Parser(response)"
   ]
  },
  {
   "cell_type": "code",
   "execution_count": 3,
   "metadata": {
    "collapsed": false
   },
   "outputs": [],
   "source": [
    "# execute the parse (this one takes xml)\n",
    "reader = FgdcItemReader(parser.xml, url, {'harvest_date': '2015-06-20T20:22:00.643Z'})\n",
    "reader.parse_item()"
   ]
  },
  {
   "cell_type": "code",
   "execution_count": 4,
   "metadata": {
    "collapsed": false
   },
   "outputs": [],
   "source": [
    "# the parsed JSON\n",
    "#reader.description"
   ]
  },
  {
   "cell_type": "markdown",
   "metadata": {},
   "source": [
    "<a id='fgdc_triples'></a>"
   ]
  },
  {
   "cell_type": "code",
   "execution_count": 5,
   "metadata": {
    "collapsed": false
   },
   "outputs": [
    {
     "name": "stdout",
     "output_type": "stream",
     "text": [
      "@prefix bcube: <http://purl.org/BCube/#> .\n",
      "@prefix bibo: <http://purl.org/ontology/bibo/#> .\n",
      "@prefix dc: <http://purl.org/dc/elements/1.1/> .\n",
      "@prefix dcat: <http://www.w3.org/TR/vocab-dcat/#> .\n",
      "@prefix dcterms: <http://purl.org/dc/terms/> .\n",
      "@prefix esip: <http://purl.org/esip/#> .\n",
      "@prefix foaf: <http://xmlns.com/foaf/0.1/> .\n",
      "@prefix owl: <http://www.w3.org/2002/07/owl#> .\n",
      "@prefix rdf: <http://www.w3.org/1999/02/22-rdf-syntax-ns#> .\n",
      "@prefix rdfs: <http://www.w3.org/2000/01/rdf-schema#> .\n",
      "@prefix vcard: <http://www.w3.org/TR/vcard-rdf/#> .\n",
      "@prefix xml: <http://www.w3.org/XML/1998/namespace> .\n",
      "@prefix xsd: <http://www.w3.org/2001/XMLSchema#> .\n",
      "\n",
      "<urn:uuid:0cdaff6c-ea11-43e9-8bdc-103d51b1acec> bcube:HTTPStatusCodeValue 200 ;\n",
      "    bcube:HTTPStatusFamilyCode 200 ;\n",
      "    bcube:HTTPStatusFamilyType \"Success message\" ;\n",
      "    bcube:atTime \"2015-06-20T20:22:00.643Z\" ;\n",
      "    bcube:hasConfidence \"Good\" ;\n",
      "    bcube:hasUrlSource \"Harvested\" ;\n",
      "    bcube:reasonPhrase \"OK\" ;\n",
      "    bcube:validatedOn \"2015-06-20T20:22:00.643Z\" ;\n",
      "    dc:identifier \"urn:sha:f65fb3d1efeee860adbbb53d3a20e80e1f50fe625e4887155f196a92\" ;\n",
      "    owl:a bcube:Url ;\n",
      "    vcard:hasUrl \"https://bluehub.jrc.ec.europa.eu/erddap/metadata/fgdc/xml/noaa_pfeg_d543_8870_bc7f_fgdc.xml\" .\n",
      "\n",
      "<urn:uuid:22a1606d-a84d-4279-85cb-7efa08ac711d> bcube:HTTPStatusCodeValue 200 ;\n",
      "    bcube:HTTPStatusFamilyCode 200 ;\n",
      "    bcube:HTTPStatusFamilyType \"Success message\" ;\n",
      "    bcube:atTime \"2015-06-20T20:22:00.643Z\" ;\n",
      "    bcube:hasConfidence \"Good\" ;\n",
      "    bcube:hasUrlSource \"Harvested\" ;\n",
      "    bcube:reasonPhrase \"OK\" ;\n",
      "    bcube:validatedOn \"2015-06-20T20:22:00.643Z\" ;\n",
      "    dc:identifier \"urn:sha:f65fb3d1efeee860adbbb53d3a20e80e1f50fe625e4887155f196a92\" ;\n",
      "    owl:a bcube:Url ;\n",
      "    vcard:hasUrl \"https://bluehub.jrc.ec.europa.eu/erddap/griddap/noaa_pfeg_d543_8870_bc7f.graph\" .\n",
      "\n",
      "<urn:uuid:46303196-e8c5-48c4-8e6f-9abd43dad9af> bcube:HTTPStatusCodeValue 200 ;\n",
      "    bcube:HTTPStatusFamilyCode 200 ;\n",
      "    bcube:HTTPStatusFamilyType \"Success message\" ;\n",
      "    bcube:atTime \"2015-06-20T20:22:00.643Z\" ;\n",
      "    bcube:hasConfidence \"Good\" ;\n",
      "    bcube:hasUrlSource \"Harvested\" ;\n",
      "    bcube:reasonPhrase \"OK\" ;\n",
      "    bcube:validatedOn \"2015-06-20T20:22:00.643Z\" ;\n",
      "    dc:identifier \"urn:sha:f65fb3d1efeee860adbbb53d3a20e80e1f50fe625e4887155f196a92\" ;\n",
      "    owl:a bcube:Url ;\n",
      "    vcard:hasUrl \"https://bluehub.jrc.ec.europa.eu/erddap/griddap/noaa_pfeg_d543_8870_bc7f.html\" .\n",
      "\n",
      "<urn:uuid:7543b43c-350f-4639-ac3d-069da67975ca> bcube:hasType \"theme\" ;\n",
      "    bcube:hasValue \"latitude\",\n",
      "        \"longitude\",\n",
      "        \"time\" ;\n",
      "    dc:partOf \"CF Standard Name Table v27\" ;\n",
      "    owl:a bcube:thesaurusSubset .\n",
      "\n",
      "<urn:uuid:9b21b7b3-18c9-4c48-8598-f832c390494b> bcube:HTTPStatusCodeValue 200 ;\n",
      "    bcube:HTTPStatusFamilyCode 200 ;\n",
      "    bcube:HTTPStatusFamilyType \"Success message\" ;\n",
      "    bcube:atTime \"2015-06-20T20:22:00.643Z\" ;\n",
      "    bcube:hasConfidence \"Good\" ;\n",
      "    bcube:hasUrlSource \"Harvested\" ;\n",
      "    bcube:reasonPhrase \"OK\" ;\n",
      "    bcube:validatedOn \"2015-06-20T20:22:00.643Z\" ;\n",
      "    dc:identifier \"urn:sha:f65fb3d1efeee860adbbb53d3a20e80e1f50fe625e4887155f196a92\" ;\n",
      "    owl:a bcube:Url ;\n",
      "    vcard:hasUrl \"https://bluehub.jrc.ec.europa.eu/erddap/wms/noaa_pfeg_d543_8870_bc7f/request\" .\n",
      "\n",
      "<urn:uuid:ac7fc979-748b-491b-b28d-6df7a4a125eb> owl:a foaf:Organization ;\n",
      "    foaf:name \"ERDDAP, version 1.60, at Maritime Affairs Unit of the Joint Research Centre\" .\n",
      "\n",
      "<urn:uuid:bcb65c89-4f3b-47a4-89b7-2121819d260b> dcterms:references <urn:uuid:9b21b7b3-18c9-4c48-8598-f832c390494b> ;\n",
      "    owl:a bibo:WebPage .\n",
      "\n",
      "<urn:uuid:dfb0c94f-8f53-4705-87f3-f549aab60eec> bcube:hasType \"theme\" ;\n",
      "    bcube:hasValue \"conversion\",\n",
      "        \"data\",\n",
      "        \"fnmoc\",\n",
      "        \"level\",\n",
      "        \"mean\",\n",
      "        \"navg\",\n",
      "        \"observed\",\n",
      "        \"pressure\",\n",
      "        \"sea\",\n",
      "        \"theortically\",\n",
      "        \"value\" ;\n",
      "    dc:partOf \"Uncontrolled\" ;\n",
      "    owl:a bcube:thesaurusSubset .\n",
      "\n",
      "<urn:uuid:e033dde3-8f03-44ac-86b6-a916d5ee952f> bcube:dateCreated \"2015-06-20T20:22:00.643Z\" ;\n",
      "    bcube:hasMetadataRecord <urn:uuid:eab50ca2-5764-4d62-b5d4-233ec8ae8e95> ;\n",
      "    bcube:lastUpdated \"2015-06-20T20:22:00.643Z\" ;\n",
      "    dc:conformsTo <urn:uuid:7543b43c-350f-4639-ac3d-069da67975ca>,\n",
      "        <urn:uuid:dfb0c94f-8f53-4705-87f3-f549aab60eec> ;\n",
      "    dc:description \"Navy Global Environmental Model (NAVGEM) is a global numerical weather prediction computer model. It replaced NOGAPS as the prime model in the middle of February 2013 at the Navy Fleet Numerical Meteorology and Oceanography Center (FNMOC) Weather model synoptic site. [Wikipedia]\" ;\n",
      "    dc:spatial \"POLYGON ((-180 -90,-180 90,180 90,180 -90,-180 -90))\" ;\n",
      "    dcterms:identifier \"https://bluehub.jrc.ec.europa.eu:noaa_pfeg_d543_8870_bc7f\" ;\n",
      "    dcterms:publisher <urn:uuid:ac7fc979-748b-491b-b28d-6df7a4a125eb> ;\n",
      "    dcterms:references <urn:uuid:22a1606d-a84d-4279-85cb-7efa08ac711d>,\n",
      "        <urn:uuid:46303196-e8c5-48c4-8e6f-9abd43dad9af>,\n",
      "        <urn:uuid:bcb65c89-4f3b-47a4-89b7-2121819d260b> ;\n",
      "    dcterms:title \"Navy Global Environmental Model (NAVGEM), 0.5 degree, Pressure MSL\" ;\n",
      "    esip:eastBound \"180.0\"^^xsd:float ;\n",
      "    esip:endDate \"2014-08-13\"^^xsd:date ;\n",
      "    esip:northBound \"90.0\"^^xsd:float ;\n",
      "    esip:southBound \"-90.0\"^^xsd:float ;\n",
      "    esip:startDate \"2013-02-15\"^^xsd:date ;\n",
      "    esip:westBound \"-180.0\"^^xsd:float ;\n",
      "    owl:a dcat:Dataset .\n",
      "\n",
      "<urn:uuid:eab50ca2-5764-4d62-b5d4-233ec8ae8e95> a \"FGDC:CSDGM\" ;\n",
      "    bcube:dateCreated \"2015-06-20T20:22:00.643Z\" ;\n",
      "    bcube:lastUpdated \"2015-06-20T20:22:00.643Z\" ;\n",
      "    bcube:originatedFrom <urn:uuid:0cdaff6c-ea11-43e9-8bdc-103d51b1acec> ;\n",
      "    owl:a dcat:CatalogRecord ;\n",
      "    foaf:primaryTopic <urn:uuid:e033dde3-8f03-44ac-86b6-a916d5ee952f> .\n",
      "\n",
      "\n"
     ]
    }
   ],
   "source": [
    "# export the triples\n",
    "g= RdfGrapher(reader.description)\n",
    "g.serialize()\n",
    "ttl = g.emit_format()\n",
    "print ttl"
   ]
  },
  {
   "cell_type": "code",
   "execution_count": null,
   "metadata": {
    "collapsed": true
   },
   "outputs": [],
   "source": []
  },
  {
   "cell_type": "code",
   "execution_count": null,
   "metadata": {
    "collapsed": true
   },
   "outputs": [],
   "source": []
  }
 ],
 "metadata": {
  "kernelspec": {
   "display_name": "Python 2",
   "language": "python",
   "name": "python2"
  },
  "language_info": {
   "codemirror_mode": {
    "name": "ipython",
    "version": 2
   },
   "file_extension": ".py",
   "mimetype": "text/x-python",
   "name": "python",
   "nbconvert_exporter": "python",
   "pygments_lexer": "ipython2",
   "version": "2.7.10"
  }
 },
 "nbformat": 4,
 "nbformat_minor": 0
}
