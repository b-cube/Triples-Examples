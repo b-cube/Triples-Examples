{
 "cells": [
  {
   "cell_type": "markdown",
   "metadata": {},
   "source": [
    "##FGDC Triples\n",
    "\n",
    "[Jump to the turtle](#fgdc_triples)"
   ]
  },
  {
   "cell_type": "code",
   "execution_count": 38,
   "metadata": {
    "collapsed": false
   },
   "outputs": [],
   "source": [
    "%reload_ext autoreload\n",
    "%autoreload 2\n",
    "\n",
    "import os\n",
    "import json\n",
    "import glob\n",
    "from semproc.rawresponse import RawResponse\n",
    "from semproc.parser import Parser\n",
    "from semproc.preprocessors.metadata_preprocessors import FgdcItemReader\n",
    "from semproc.serializers.rdfgraphs import RdfGrapher"
   ]
  },
  {
   "cell_type": "code",
   "execution_count": 39,
   "metadata": {
    "collapsed": true
   },
   "outputs": [],
   "source": [
    "# load the proto-triples example\n",
    "with open('../inputs/fgdc_proto_example_1.xml', 'r') as f:\n",
    "    response = f.read()\n",
    "    \n",
    "rr = RawResponse(response, 'text/xml')\n",
    "response = rr.clean_raw_content()\n",
    "  \n",
    "url = 'https://bluehub.jrc.ec.europa.eu/erddap/metadata/fgdc/xml/noaa_pfeg_d543_8870_bc7f_fgdc.xml'\n",
    "identities = [\n",
    "    {\"protocol\": \"FGDC\", \n",
    "     \"metadata\": {\n",
    "            \"version\": [\"FGDC Content Standards for Digital Geospatial Metadata, FGDC-STD-001-1998\"], \n",
    "            \"name\": \"FGDC\"}\n",
    "    }\n",
    "]\n",
    "\n",
    "parser = Parser(response)"
   ]
  },
  {
   "cell_type": "code",
   "execution_count": 40,
   "metadata": {
    "collapsed": false
   },
   "outputs": [],
   "source": [
    "# execute the parse (this one takes xml)\n",
    "reader = FgdcItemReader(parser.xml, url, {'harvest_date': '2015-06-20T20:22:00.643Z'})\n",
    "reader.parse_item()"
   ]
  },
  {
   "cell_type": "code",
   "execution_count": 41,
   "metadata": {
    "collapsed": false
   },
   "outputs": [],
   "source": [
    "# the parsed JSON\n",
    "#reader.description"
   ]
  },
  {
   "cell_type": "markdown",
   "metadata": {},
   "source": [
    "<a id='fgdc_triples'></a>"
   ]
  },
  {
   "cell_type": "code",
   "execution_count": 42,
   "metadata": {
    "collapsed": false
   },
   "outputs": [
    {
     "name": "stdout",
     "output_type": "stream",
     "text": [
      "@prefix bcube: <http://purl.org/BCube/#> .\n",
      "@prefix bibo: <http://purl.org/ontology/bibo/#> .\n",
      "@prefix dc: <http://purl.org/dc/elements/1.1/> .\n",
      "@prefix dcat: <http://www.w3.org/TR/vocab-dcat/#> .\n",
      "@prefix dcterms: <http://purl.org/dc/terms/> .\n",
      "@prefix esip: <http://purl.org/esip/#> .\n",
      "@prefix foaf: <http://xmlns.com/foaf/0.1/> .\n",
      "@prefix owl: <http://www.w3.org/2002/07/owl#> .\n",
      "@prefix rdf: <http://www.w3.org/1999/02/22-rdf-syntax-ns#> .\n",
      "@prefix rdfs: <http://www.w3.org/2000/01/rdf-schema#> .\n",
      "@prefix vcard: <http://www.w3.org/TR/vcard-rdf/#> .\n",
      "@prefix xml: <http://www.w3.org/XML/1998/namespace> .\n",
      "@prefix xsd: <http://www.w3.org/2001/XMLSchema#> .\n",
      "\n",
      "<urn:sha:8df1983f1f9573be5059558fd20d718d9550720c873eb8930cdc6735> bcube:HTTPStatusCodeValue 200 ;\n",
      "    bcube:HTTPStatusFamilyCode 200 ;\n",
      "    bcube:HTTPStatusFamilyType \"Success message\" ;\n",
      "    bcube:atTime \"2015-06-20T20:22:00.643Z\" ;\n",
      "    bcube:hasConfidence \"Good\" ;\n",
      "    bcube:hasUrlSource \"Harvested\" ;\n",
      "    bcube:reasonPhrase \"OK\" ;\n",
      "    bcube:validatedOn \"2015-06-20T20:22:00.643Z\" ;\n",
      "    owl:a bcube:Url ;\n",
      "    vcard:hasUrl \"https://bluehub.jrc.ec.europa.eu/erddap/wms/noaa_pfeg_d543_8870_bc7f/request\" .\n",
      "\n",
      "<urn:sha:be86d663bf9cb281de03aff9ae3fa51c6728075d344e55ca3a376514> bcube:HTTPStatusCodeValue 200 ;\n",
      "    bcube:HTTPStatusFamilyCode 200 ;\n",
      "    bcube:HTTPStatusFamilyType \"Success message\" ;\n",
      "    bcube:atTime \"2015-06-20T20:22:00.643Z\" ;\n",
      "    bcube:hasConfidence \"Good\" ;\n",
      "    bcube:hasUrlSource \"Harvested\" ;\n",
      "    bcube:reasonPhrase \"OK\" ;\n",
      "    bcube:validatedOn \"2015-06-20T20:22:00.643Z\" ;\n",
      "    owl:a bcube:Url ;\n",
      "    vcard:hasUrl \"https://bluehub.jrc.ec.europa.eu/erddap/griddap/noaa_pfeg_d543_8870_bc7f.graph\" .\n",
      "\n",
      "<urn:sha:c8e6a320278b006f2f7b6b293fcab0331b77b84cfd63b47408537e85> bcube:HTTPStatusCodeValue 200 ;\n",
      "    bcube:HTTPStatusFamilyCode 200 ;\n",
      "    bcube:HTTPStatusFamilyType \"Success message\" ;\n",
      "    bcube:atTime \"2015-06-20T20:22:00.643Z\" ;\n",
      "    bcube:hasConfidence \"Good\" ;\n",
      "    bcube:hasUrlSource \"Harvested\" ;\n",
      "    bcube:reasonPhrase \"OK\" ;\n",
      "    bcube:validatedOn \"2015-06-20T20:22:00.643Z\" ;\n",
      "    owl:a bcube:Url ;\n",
      "    vcard:hasUrl \"https://bluehub.jrc.ec.europa.eu/erddap/griddap/noaa_pfeg_d543_8870_bc7f.html\" .\n",
      "\n",
      "<urn:sha:f65fb3d1efeee860adbbb53d3a20e80e1f50fe625e4887155f196a92> bcube:HTTPStatusCodeValue 200 ;\n",
      "    bcube:HTTPStatusFamilyCode 200 ;\n",
      "    bcube:HTTPStatusFamilyType \"Success message\" ;\n",
      "    bcube:atTime \"2015-06-20T20:22:00.643Z\" ;\n",
      "    bcube:hasConfidence \"Good\" ;\n",
      "    bcube:hasUrlSource \"Harvested\" ;\n",
      "    bcube:reasonPhrase \"OK\" ;\n",
      "    bcube:validatedOn \"2015-06-20T20:22:00.643Z\" ;\n",
      "    owl:a bcube:Url ;\n",
      "    vcard:hasUrl \"https://bluehub.jrc.ec.europa.eu/erddap/metadata/fgdc/xml/noaa_pfeg_d543_8870_bc7f_fgdc.xml\" .\n",
      "\n",
      "<urn:uuid:07eee2d8-c7b9-4700-8355-5950872d45a1> bcube:hasType \"theme\" ;\n",
      "\n",
      "<urn:uuid:0f6ec526-6b04-49c7-8bad-beee4cafa205> dcterms:references <urn:sha:8df1983f1f9573be5059558fd20d718d9550720c873eb8930cdc6735> ;\n",
      "    owl:a bibo:WebPage .\n",
      "\n",
      "<urn:uuid:2e1ef94b-22d2-444a-b0ba-d046d91eebfd> bcube:dateCreated \"2015-06-20T20:22:00.643Z\" ;\n",
      "    bcube:hasMetadataRecord <urn:uuid:98d7a40d-24a5-4a26-b08c-10ee756031c8> ;\n",
      "    bcube:lastUpdated \"2015-06-20T20:22:00.643Z\" ;\n",
      "    dc:conformsTo <urn:uuid:99e90c2b-1cfb-46d6-9b87-a231f9c04efa>,\n",
      "        <urn:uuid:b8109750-3def-466d-97e1-d4776c165410> ;\n",
      "    dc:description \"Navy Global Environmental Model (NAVGEM) is a global numerical weather prediction computer model. It replaced NOGAPS as the prime model in the middle of February 2013 at the Navy Fleet Numerical Meteorology and Oceanography Center (FNMOC) Weather model synoptic site. [Wikipedia]\" ;\n",
      "    dc:spatial \"POLYGON ((-180 -90,-180 90,180 90,180 -90,-180 -90))\" ;\n",
      "    dcterms:identifier \"https://bluehub.jrc.ec.europa.eu:noaa_pfeg_d543_8870_bc7f\" ;\n",
      "    dcterms:publisher <urn:uuid:482d9a14-3d47-4616-88e3-eeebf48d7a5d> ;\n",
      "    dcterms:references <urn:sha:be86d663bf9cb281de03aff9ae3fa51c6728075d344e55ca3a376514>,\n",
      "        <urn:sha:c8e6a320278b006f2f7b6b293fcab0331b77b84cfd63b47408537e85>,\n",
      "        <urn:uuid:0f6ec526-6b04-49c7-8bad-beee4cafa205> ;\n",
      "    dcterms:title \"Navy Global Environmental Model (NAVGEM), 0.5 degree, Pressure MSL\" ;\n",
      "    esip:eastBound \"180.0\"^^xsd:float ;\n",
      "    esip:endDate \"2014-08-13\"^^xsd:date ;\n",
      "    esip:northBound \"90.0\"^^xsd:float ;\n",
      "    esip:southBound \"-90.0\"^^xsd:float ;\n",
      "    esip:startDate \"2013-02-15\"^^xsd:date ;\n",
      "    esip:westBound \"-180.0\"^^xsd:float ;\n",
      "    owl:a dcat:Dataset .\n",
      "\n",
      "<urn:uuid:482d9a14-3d47-4616-88e3-eeebf48d7a5d> owl:a foaf:Organization ;\n",
      "    foaf:name \"ERDDAP, version 1.60, at Maritime Affairs Unit of the Joint Research Centre\" .\n",
      "\n",
      "<urn:uuid:98d7a40d-24a5-4a26-b08c-10ee756031c8> a \"FGDC:CSDGM\" ;\n",
      "    bcube:dateCreated \"2015-06-20T20:22:00.643Z\" ;\n",
      "    bcube:lastUpdated \"2015-06-20T20:22:00.643Z\" ;\n",
      "    bcube:originatedFrom <urn:sha:f65fb3d1efeee860adbbb53d3a20e80e1f50fe625e4887155f196a92> ;\n",
      "    owl:a dcat:CatalogRecord ;\n",
      "    foaf:primaryTopic <urn:uuid:2e1ef94b-22d2-444a-b0ba-d046d91eebfd> .\n",
      "\n",
      "<urn:uuid:99e90c2b-1cfb-46d6-9b87-a231f9c04efa> bcube:hasType \"theme\" ;\n",
      "    bcube:hasValue \"latitude\",\n",
      "        \"longitude\",\n",
      "        \"time\" ;\n",
      "    dc:partOf \"CF Standard Name Table v27\" ;\n",
      "    owl:a bcube:thesaurusSubset .\n",
      "\n",
      "<urn:uuid:b8109750-3def-466d-97e1-d4776c165410> bcube:hasType \"theme\" ;\n",
      "    bcube:hasValue \"conversion\",\n",
      "        \"data\",\n",
      "        \"fnmoc\",\n",
      "        \"level\",\n",
      "        \"mean\",\n",
      "        \"navg\",\n",
      "        \"observed\",\n",
      "        \"pressure\",\n",
      "        \"sea\",\n",
      "        \"theortically\",\n",
      "        \"value\" ;\n",
      "    dc:partOf \"Uncontrolled\" ;\n",
      "    owl:a bcube:thesaurusSubset .\n",
      "\n",
      "<urn:uuid:1cb8f718-bb44-41e0-bb74-2925ada15028> a \"FGDC:CSDGM\" ;\n",
      "    bcube:dateCreated \"2015-06-20T20:22:00.643Z\" ;\n",
      "    bcube:lastUpdated \"2015-06-20T20:22:00.643Z\" ;\n",
      "    bcube:originatedFrom <urn:sha:f65fb3d1efeee860adbbb53d3a20e80e1f50fe625e4887155f196a92> ;\n",
      "    owl:a dcat:CatalogRecord ;\n",
      "    foaf:primaryTopic <urn:uuid:ae12adcf-291c-43d3-8ade-08875ab776c8> .\n",
      "\n",
      "<urn:uuid:7f68f106-3977-4653-9e38-62fc81d22247> dcterms:references <urn:sha:8df1983f1f9573be5059558fd20d718d9550720c873eb8930cdc6735> ;\n",
      "    owl:a bibo:WebPage .\n",
      "\n",
      "<urn:uuid:a76a422f-4391-427f-851b-5758980045af> owl:a foaf:Organization ;\n",
      "    foaf:name \"ERDDAP, version 1.60, at Maritime Affairs Unit of the Joint Research Centre\" .\n",
      "\n",
      "<urn:uuid:ae12adcf-291c-43d3-8ade-08875ab776c8> bcube:dateCreated \"2015-06-20T20:22:00.643Z\" ;\n",
      "    bcube:hasMetadataRecord <urn:uuid:1cb8f718-bb44-41e0-bb74-2925ada15028> ;\n",
      "    bcube:lastUpdated \"2015-06-20T20:22:00.643Z\" ;\n",
      "    dc:conformsTo <urn:uuid:07eee2d8-c7b9-4700-8355-5950872d45a1>,\n",
      "        <urn:uuid:ba12ad41-fbf1-4ec2-af6d-2370434a7802> ;\n",
      "    dc:description \"Navy Global Environmental Model (NAVGEM) is a global numerical weather prediction computer model. It replaced NOGAPS as the prime model in the middle of February 2013 at the Navy Fleet Numerical Meteorology and Oceanography Center (FNMOC) Weather model synoptic site. [Wikipedia]\" ;\n",
      "    dc:spatial \"POLYGON ((-180 -90,-180 90,180 90,180 -90,-180 -90))\" ;\n",
      "    dcterms:identifier \"https://bluehub.jrc.ec.europa.eu:noaa_pfeg_d543_8870_bc7f\" ;\n",
      "    dcterms:publisher <urn:uuid:a76a422f-4391-427f-851b-5758980045af> ;\n",
      "    dcterms:references <urn:sha:be86d663bf9cb281de03aff9ae3fa51c6728075d344e55ca3a376514>,\n",
      "        <urn:sha:c8e6a320278b006f2f7b6b293fcab0331b77b84cfd63b47408537e85>,\n",
      "        <urn:uuid:7f68f106-3977-4653-9e38-62fc81d22247> ;\n",
      "    dcterms:title \"Navy Global Environmental Model (NAVGEM), 0.5 degree, Pressure MSL\" ;\n",
      "    esip:eastBound \"180.0\"^^xsd:float ;\n",
      "    esip:endDate \"2014-08-13\"^^xsd:date ;\n",
      "    esip:northBound \"90.0\"^^xsd:float ;\n",
      "    esip:southBound \"-90.0\"^^xsd:float ;\n",
      "    esip:startDate \"2013-02-15\"^^xsd:date ;\n",
      "    esip:westBound \"-180.0\"^^xsd:float ;\n",
      "    owl:a dcat:Dataset .\n",
      "\n",
      "<urn:uuid:ba12ad41-fbf1-4ec2-af6d-2370434a7802> bcube:hasType \"theme\" ;\n",
      "    bcube:hasValue \"latitude\",\n",
      "        \"longitude\",\n",
      "        \"time\" ;\n",
      "    dc:partOf \"CF Standard Name Table v27\" ;\n",
      "    owl:a bcube:thesaurusSubset .\n",
      "\n"
     ]
    }
   ],
   "source": [
    "# export the triples\n",
    "g= RdfGrapher(reader.description)\n",
    "g.serialize()\n",
    "ttl = g.emit_format()\n",
    "print ttl"
   ]
  },
  {
   "cell_type": "code",
   "execution_count": null,
   "metadata": {
    "collapsed": true
   },
   "outputs": [],
   "source": []
  },
  {
   "cell_type": "code",
   "execution_count": null,
   "metadata": {
    "collapsed": true
   },
   "outputs": [],
   "source": []
  }
 ],
 "metadata": {
  "kernelspec": {
   "display_name": "Python 2",
   "language": "python",
   "name": "python2"
  },
  "language_info": {
   "codemirror_mode": {
    "name": "ipython",
    "version": 2
   },
   "file_extension": ".py",
   "mimetype": "text/x-python",
   "name": "python",
   "nbconvert_exporter": "python",
   "pygments_lexer": "ipython2",
   "version": "2.7.10"
  }
 },
 "nbformat": 4,
 "nbformat_minor": 0
}
