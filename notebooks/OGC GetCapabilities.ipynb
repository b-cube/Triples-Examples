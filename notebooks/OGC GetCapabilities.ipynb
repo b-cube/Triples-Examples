{
 "cells": [
  {
   "cell_type": "markdown",
   "metadata": {},
   "source": [
    "###OGC triples for WxS GetCapabilities as Catalog Records\n",
    "\n",
    "\n",
    "[WMS ttl](#wms_triples)\n",
    "\n",
    "[WFS ttl](#wfs_triples)\n",
    "\n",
    "[WCS ttl](#wcs_triples)"
   ]
  },
  {
   "cell_type": "code",
   "execution_count": 41,
   "metadata": {
    "collapsed": false
   },
   "outputs": [],
   "source": [
    "%reload_ext autoreload\n",
    "%autoreload 2\n",
    "\n",
    "import os\n",
    "import json\n",
    "import glob\n",
    "from semproc.rawresponse import RawResponse\n",
    "from semproc.parser import Parser\n",
    "from semproc.preprocessors.ogc_preprocessors import OgcReader\n",
    "from semproc.serializers.rdfgraphs import RdfGrapher"
   ]
  },
  {
   "cell_type": "code",
   "execution_count": 42,
   "metadata": {
    "collapsed": true
   },
   "outputs": [],
   "source": [
    "with open('../inputs/wms_v1.3.0.xml', 'r') as f:\n",
    "    response = f.read()\n",
    "\n",
    "rr = RawResponse(response, 'text/xml')\n",
    "response = rr.clean_raw_content()\n",
    "    \n",
    "url = 'http://ferret.pmel.noaa.gov/thredds/wms/las/woa05_monthly/data_ferret.pmel.noaa.gov_thredds_dodsC_data_PMEL_WOA05nc_monthly_o0112mn1.nc.jnl'\n",
    "identity = {\n",
    "    \"service\": {\n",
    "        \"name\": \"WMS\",\n",
    "        \"request\": \"GetCapabilities\",\n",
    "        \"version\": [\n",
    "            \"1.3.0\"\n",
    "        ]\n",
    "    },\n",
    "    \"protocol\": \"OGC\"\n",
    "}"
   ]
  },
  {
   "cell_type": "code",
   "execution_count": 43,
   "metadata": {
    "collapsed": true
   },
   "outputs": [],
   "source": [
    "reader = OgcReader(identity, response, url, {'harvest_date': '2015-09-15T12:45:00Z'})"
   ]
  },
  {
   "cell_type": "code",
   "execution_count": 44,
   "metadata": {
    "collapsed": false
   },
   "outputs": [],
   "source": [
    "reader.parse()"
   ]
  },
  {
   "cell_type": "code",
   "execution_count": 45,
   "metadata": {
    "collapsed": true
   },
   "outputs": [],
   "source": [
    "# reader.description"
   ]
  },
  {
   "cell_type": "markdown",
   "metadata": {},
   "source": [
    "<a id='wms_triples'></a>"
   ]
  },
  {
   "cell_type": "code",
   "execution_count": 46,
   "metadata": {
    "collapsed": false,
    "scrolled": false
   },
   "outputs": [
    {
     "name": "stdout",
     "output_type": "stream",
     "text": [
      "@prefix bcube: <http://purl.org/BCube/#> .\n",
      "@prefix bibo: <http://purl.org/ontology/bibo/#> .\n",
      "@prefix dc: <http://purl.org/dc/elements/1.1/> .\n",
      "@prefix dcat: <http://www.w3.org/TR/vocab-dcat/#> .\n",
      "@prefix dcterms: <http://purl.org/dc/terms/> .\n",
      "@prefix esip: <http://purl.org/esip/#> .\n",
      "@prefix foaf: <http://xmlns.com/foaf/0.1/> .\n",
      "@prefix owl: <http://www.w3.org/2002/07/owl#> .\n",
      "@prefix rdf: <http://www.w3.org/1999/02/22-rdf-syntax-ns#> .\n",
      "@prefix rdfs: <http://www.w3.org/2000/01/rdf-schema#> .\n",
      "@prefix vcard: <http://www.w3.org/TR/vcard-rdf/#> .\n",
      "@prefix xml: <http://www.w3.org/XML/1998/namespace> .\n",
      "@prefix xsd: <http://www.w3.org/2001/XMLSchema#> .\n",
      "\n",
      "<urn:uuid:fee6c55d-e3ca-4ca0-ab62-90be89574974> a \"OGC:WMS\" ;\n",
      "    bcube:contains <urn:uuid:31e7f950-dc38-418a-9278-ad8018b3f4c4> ;\n",
      "    bcube:dateCreated \"2015-09-15T12:45:00Z\" ;\n",
      "    bcube:lastUpdated \"2015-09-15T12:45:00Z\" ;\n",
      "    bcube:originatedFrom <urn:sha:89c0265fb336ecbb52b9997aede4c7730d61334d49a103cd66e98e48> ;\n",
      "    dc:conformsTo <urn:uuid:09715d13-4101-4849-9b4f-69f3aa3f1c13> ;\n",
      "    dc:description \"Scientific Data\" ;\n",
      "    owl:a bcube:service .\n",
      "\n",
      "<urn:sha:036d1994a2f5a593628f335878b3f649dbb3231c85366c8ae1c3052b> bcube:HTTPStatusCodeValue 200 ;\n",
      "    bcube:HTTPStatusFamilyCode 200 ;\n",
      "    bcube:HTTPStatusFamilyType \"Success message\" ;\n",
      "    bcube:atTime \"2015-09-15T12:45:00Z\" ;\n",
      "    bcube:hasConfidence \"Good\" ;\n",
      "    bcube:hasUrlSource \"Generated\" ;\n",
      "    bcube:reasonPhrase \"OK\" ;\n",
      "    bcube:validatedOn \"2015-09-15T12:45:00Z\" ;\n",
      "    owl:a bcube:Url ;\n",
      "    vcard:hasUrl \"http://ferret.pmel.noaa.gov/thredds/wms/las/woa05_monthly/data_ferret.pmel.noaa.gov_thredds_dodsC_data_PMEL_WOA05nc_monthly_o0112mn1.nc.jnl?layers=o0112mn1&width=500&version=1.3.0&bbox=-180.0%2C-89.5%2C180.0%2C89.5&service=WMS&format=image%2Fpng&styles=&crs=CRS%3A84&request=GetMap&height=500\" .\n",
      "\n",
      "<urn:sha:89c0265fb336ecbb52b9997aede4c7730d61334d49a103cd66e98e48> bcube:HTTPStatusCodeValue 200 ;\n",
      "    bcube:HTTPStatusFamilyCode 200 ;\n",
      "    bcube:HTTPStatusFamilyType \"Success message\" ;\n",
      "    bcube:atTime \"2015-09-15T12:45:00Z\" ;\n",
      "    bcube:hasConfidence \"Good\" ;\n",
      "    bcube:hasUrlSource \"Harvested\" ;\n",
      "    bcube:reasonPhrase \"OK\" ;\n",
      "    bcube:validatedOn \"2015-09-15T12:45:00Z\" ;\n",
      "    owl:a bcube:Url ;\n",
      "    vcard:hasUrl \"http://ferret.pmel.noaa.gov/thredds/wms/las/woa05_monthly/data_ferret.pmel.noaa.gov_thredds_dodsC_data_PMEL_WOA05nc_monthly_o0112mn1.nc.jnl\" .\n",
      "\n",
      "<urn:uuid:09715d13-4101-4849-9b4f-69f3aa3f1c13> bcube:hasValue \"atmosphere\",\n",
      "        \"climate\",\n",
      "        \"earth science\",\n",
      "        \"meteorology\",\n",
      "        \"ocean\" ;\n",
      "    owl:a bcube:thesaurusSubset .\n",
      "\n",
      "<urn:uuid:31e7f950-dc38-418a-9278-ad8018b3f4c4> bcube:dateCreated \"2015-09-15T12:45:00Z\" ;\n",
      "    bcube:lastUpdated \"2015-09-15T12:45:00Z\" ;\n",
      "    dc:description \"Dissolved Oxygen\" ;\n",
      "    dc:spatial \"POLYGON ((-180.0 -89.5,-180.0 89.5,180.0 89.5,180.0 -89.5,-180.0 -89.5))\" ;\n",
      "    dc:title \"dissolved_oxygen\" ;\n",
      "    dcterms:references <urn:sha:036d1994a2f5a593628f335878b3f649dbb3231c85366c8ae1c3052b> ;\n",
      "    esip:eastBound \"180.0\"^^xsd:float ;\n",
      "    esip:northBound \"89.5\"^^xsd:float ;\n",
      "    esip:southBound \"-89.5\"^^xsd:float ;\n",
      "    esip:westBound \"-180.0\"^^xsd:float ;\n",
      "    owl:a bcube:Layer .\n",
      "\n",
      "\n"
     ]
    }
   ],
   "source": [
    "grapher = RdfGrapher(reader.description)\n",
    "grapher.serialize()\n",
    "print grapher.emit_format()"
   ]
  },
  {
   "cell_type": "markdown",
   "metadata": {
    "collapsed": true
   },
   "source": [
    "Moving on to our other WxS options, starting with WFS.\n",
    "\n",
    "(The supplied url is for testing - it is not the correct service for the response content.)\n",
    "\n",
    "<a id='wfs_triples'></a>"
   ]
  },
  {
   "cell_type": "code",
   "execution_count": 47,
   "metadata": {
    "collapsed": false,
    "scrolled": false
   },
   "outputs": [
    {
     "name": "stdout",
     "output_type": "stream",
     "text": [
      "@prefix bcube: <http://purl.org/BCube/#> .\n",
      "@prefix bibo: <http://purl.org/ontology/bibo/#> .\n",
      "@prefix dc: <http://purl.org/dc/elements/1.1/> .\n",
      "@prefix dcat: <http://www.w3.org/TR/vocab-dcat/#> .\n",
      "@prefix dcterms: <http://purl.org/dc/terms/> .\n",
      "@prefix esip: <http://purl.org/esip/#> .\n",
      "@prefix foaf: <http://xmlns.com/foaf/0.1/> .\n",
      "@prefix owl: <http://www.w3.org/2002/07/owl#> .\n",
      "@prefix rdf: <http://www.w3.org/1999/02/22-rdf-syntax-ns#> .\n",
      "@prefix rdfs: <http://www.w3.org/2000/01/rdf-schema#> .\n",
      "@prefix vcard: <http://www.w3.org/TR/vcard-rdf/#> .\n",
      "@prefix xml: <http://www.w3.org/XML/1998/namespace> .\n",
      "@prefix xsd: <http://www.w3.org/2001/XMLSchema#> .\n",
      "\n",
      "<urn:uuid:5ee76c1c-d6ac-46fc-811a-1493d7225262> a \"OGC:WFS\" ;\n",
      "    bcube:contains <urn:uuid:03955cd0-a1e6-4dc3-8f84-860ceed547fc>,\n",
      "        <urn:uuid:23c57f49-4c8d-4fb7-89e8-78a9554d6b3f>,\n",
      "        <urn:uuid:ae976c1d-6a00-4544-a242-bfa34df916ce> ;\n",
      "    bcube:dateCreated \"2015-09-15T12:45:00Z\" ;\n",
      "    bcube:lastUpdated \"2015-09-15T12:45:00Z\" ;\n",
      "    bcube:originatedFrom <urn:sha:89c0265fb336ecbb52b9997aede4c7730d61334d49a103cd66e98e48> ;\n",
      "    dc:conformsTo <urn:uuid:8837e4ff-d54c-4881-b224-48ec0ad4f549> ;\n",
      "    dc:description \"Estimates of the number and size of undiscovered mineral deposits containing gold, silver, copper, lead, and zinc in the US, by type of deposit.\" ;\n",
      "    owl:a bcube:service .\n",
      "\n",
      "<urn:uuid:e8a1d9a7-93f1-4997-b459-4e68e3afb9f6> bcube:originatedFrom <urn:sha:d2db93911fbfeae23ee061ae4651497702563ea40b6664af45653905> ;\n",
      "    dc:describes <urn:uuid:03955cd0-a1e6-4dc3-8f84-860ceed547fc> ;\n",
      "    owl:a dcat:CatalogRecord .\n",
      "\n",
      "<urn:sha:04852aa6cc6aa13b20b1dc49b5f0d8216cdb43f78b8463a0d10ef56f> bcube:HTTPStatusCodeValue 200 ;\n",
      "    bcube:HTTPStatusFamilyCode 200 ;\n",
      "    bcube:HTTPStatusFamilyType \"Success message\" ;\n",
      "    bcube:atTime \"2015-09-15T12:45:00Z\" ;\n",
      "    bcube:hasConfidence \"Good\" ;\n",
      "    bcube:hasUrlSource \"Generated\" ;\n",
      "    bcube:reasonPhrase \"OK\" ;\n",
      "    bcube:validatedOn \"2015-09-15T12:45:00Z\" ;\n",
      "    owl:a bcube:Url ;\n",
      "    vcard:hasUrl \"http://ferret.pmel.noaa.gov/thredds/wms/las/woa05_monthly/data_ferret.pmel.noaa.gov_thredds_dodsC_data_PMEL_WOA05nc_monthly_o0112mn1.nc.jnl?featureid=Duluth_CuNiPGE&typenames=namespace%3Afeaturetype&version=1.1.0&request=GetFeature&service=WFS\" .\n",
      "\n",
      "<urn:sha:69f100a83f5da2ebfdae697d9f7ae735c67a1c972f7726b0db1892a7> bcube:HTTPStatusCodeValue 200 ;\n",
      "    bcube:HTTPStatusFamilyCode 200 ;\n",
      "    bcube:HTTPStatusFamilyType \"Success message\" ;\n",
      "    bcube:atTime \"2015-09-15T12:45:00Z\" ;\n",
      "    bcube:hasConfidence \"Good\" ;\n",
      "    bcube:hasUrlSource \"Generated\" ;\n",
      "    bcube:reasonPhrase \"OK\" ;\n",
      "    bcube:validatedOn \"2015-09-15T12:45:00Z\" ;\n",
      "    owl:a bcube:Url ;\n",
      "    vcard:hasUrl \"http://ferret.pmel.noaa.gov/thredds/wms/las/woa05_monthly/data_ferret.pmel.noaa.gov_thredds_dodsC_data_PMEL_WOA05nc_monthly_o0112mn1.nc.jnl?featureid=Distal_disseminated_AgAu&typenames=namespace%3Afeaturetype&version=1.1.0&request=GetFeature&service=WFS\" .\n",
      "\n",
      "<urn:sha:7f0a39cd20fb75e38b7bf2adfe714a1fb274a771ab3ef3b75f9a4f3f> bcube:HTTPStatusCodeValue 200 ;\n",
      "    bcube:HTTPStatusFamilyCode 200 ;\n",
      "    bcube:HTTPStatusFamilyType \"Success message\" ;\n",
      "    bcube:atTime \"2015-09-15T12:45:00Z\" ;\n",
      "    bcube:hasConfidence \"Good\" ;\n",
      "    bcube:hasUrlSource \"Generated\" ;\n",
      "    bcube:reasonPhrase \"OK\" ;\n",
      "    bcube:validatedOn \"2015-09-15T12:45:00Z\" ;\n",
      "    owl:a bcube:Url ;\n",
      "    vcard:hasUrl \"http://ferret.pmel.noaa.gov/thredds/wms/las/woa05_monthly/data_ferret.pmel.noaa.gov_thredds_dodsC_data_PMEL_WOA05nc_monthly_o0112mn1.nc.jnl?featureid=Alkaline_AuTe&typenames=namespace%3Afeaturetype&version=1.1.0&request=GetFeature&service=WFS\" .\n",
      "\n",
      "<urn:sha:89c0265fb336ecbb52b9997aede4c7730d61334d49a103cd66e98e48> bcube:HTTPStatusCodeValue 200 ;\n",
      "    bcube:HTTPStatusFamilyCode 200 ;\n",
      "    bcube:HTTPStatusFamilyType \"Success message\" ;\n",
      "    bcube:atTime \"2015-09-15T12:45:00Z\" ;\n",
      "    bcube:hasConfidence \"Good\" ;\n",
      "    bcube:hasUrlSource \"Harvested\" ;\n",
      "    bcube:reasonPhrase \"OK\" ;\n",
      "    bcube:validatedOn \"2015-09-15T12:45:00Z\" ;\n",
      "    owl:a bcube:Url ;\n",
      "    vcard:hasUrl \"http://ferret.pmel.noaa.gov/thredds/wms/las/woa05_monthly/data_ferret.pmel.noaa.gov_thredds_dodsC_data_PMEL_WOA05nc_monthly_o0112mn1.nc.jnl\" .\n",
      "\n",
      "<urn:sha:d2db93911fbfeae23ee061ae4651497702563ea40b6664af45653905> bcube:HTTPStatusCodeValue 200 ;\n",
      "    bcube:HTTPStatusFamilyCode 200 ;\n",
      "    bcube:HTTPStatusFamilyType \"Success message\" ;\n",
      "    bcube:atTime \"2015-09-15T12:45:00Z\" ;\n",
      "    bcube:hasConfidence \"Good\" ;\n",
      "    bcube:hasUrlSource \"Harvested\" ;\n",
      "    bcube:reasonPhrase \"OK\" ;\n",
      "    bcube:validatedOn \"2015-09-15T12:45:00Z\" ;\n",
      "    owl:a bcube:Url ;\n",
      "    vcard:hasUrl \"http://mrdata.usgs.gov/metadata/nmra.xml\" .\n",
      "\n",
      "<urn:uuid:23c57f49-4c8d-4fb7-89e8-78a9554d6b3f> bcube:dateCreated \"2015-09-15T12:45:00Z\" ;\n",
      "    bcube:lastUpdated \"2015-09-15T12:45:00Z\" ;\n",
      "    dc:description \"Estimates of the number and size of undiscovered mineral deposits of this type\" ;\n",
      "    dc:spatial \"POLYGON ((-165 24,-165 73,-66 73,-66 24,-165 24))\" ;\n",
      "    dc:title \"Permissive tracts for Distal disseminated Ag-Au\" ;\n",
      "    dcterms:references <urn:sha:69f100a83f5da2ebfdae697d9f7ae735c67a1c972f7726b0db1892a7> ;\n",
      "    esip:eastBound \"-66.0\"^^xsd:float ;\n",
      "    esip:northBound \"73.0\"^^xsd:float ;\n",
      "    esip:southBound \"24.0\"^^xsd:float ;\n",
      "    esip:westBound \"-165.0\"^^xsd:float ;\n",
      "    owl:a bcube:Layer .\n",
      "\n",
      "<urn:uuid:8837e4ff-d54c-4881-b224-48ec0ad4f549> bcube:hasValue \"metallic mineral resources; natural resource assessment; gold; silver; copper; lead; zinc\" ;\n",
      "    owl:a bcube:thesaurusSubset .\n",
      "\n",
      "<urn:uuid:ae976c1d-6a00-4544-a242-bfa34df916ce> bcube:dateCreated \"2015-09-15T12:45:00Z\" ;\n",
      "    bcube:lastUpdated \"2015-09-15T12:45:00Z\" ;\n",
      "    dc:description \"Estimates of the number and size of undiscovered mineral deposits of this type\" ;\n",
      "    dc:spatial \"POLYGON ((-165 24,-165 73,-66 73,-66 24,-165 24))\" ;\n",
      "    dc:title \"Permissive tracts for Alkaline Au-Te\" ;\n",
      "    dcterms:references <urn:sha:7f0a39cd20fb75e38b7bf2adfe714a1fb274a771ab3ef3b75f9a4f3f> ;\n",
      "    esip:eastBound \"-66.0\"^^xsd:float ;\n",
      "    esip:northBound \"73.0\"^^xsd:float ;\n",
      "    esip:southBound \"24.0\"^^xsd:float ;\n",
      "    esip:westBound \"-165.0\"^^xsd:float ;\n",
      "    owl:a bcube:Layer .\n",
      "\n",
      "<urn:uuid:03955cd0-a1e6-4dc3-8f84-860ceed547fc> bcube:dateCreated \"2015-09-15T12:45:00Z\" ;\n",
      "    bcube:lastUpdated \"2015-09-15T12:45:00Z\" ;\n",
      "    dc:description \"Estimates of the number and size of undiscovered mineral deposits of this type\" ;\n",
      "    dc:spatial \"POLYGON ((-165 24,-165 73,-66 73,-66 24,-165 24))\" ;\n",
      "    dc:title \"Permissive tracts for Duluth Cu-Ni-PGE\" ;\n",
      "    dcterms:references <urn:sha:04852aa6cc6aa13b20b1dc49b5f0d8216cdb43f78b8463a0d10ef56f> ;\n",
      "    esip:eastBound \"-66.0\"^^xsd:float ;\n",
      "    esip:northBound \"73.0\"^^xsd:float ;\n",
      "    esip:southBound \"24.0\"^^xsd:float ;\n",
      "    esip:westBound \"-165.0\"^^xsd:float ;\n",
      "    owl:a bcube:Layer .\n",
      "\n",
      "\n"
     ]
    }
   ],
   "source": [
    "with open('../inputs/wfs_v1_1_0.xml', 'r') as f:\n",
    "    response = f.read()\n",
    "\n",
    "rr = RawResponse(response, 'text/xml')\n",
    "response = rr.clean_raw_content()\n",
    "    \n",
    "url = 'http://ferret.pmel.noaa.gov/thredds/wms/las/woa05_monthly/data_ferret.pmel.noaa.gov_thredds_dodsC_data_PMEL_WOA05nc_monthly_o0112mn1.nc.jnl'\n",
    "identity = {\n",
    "    \"service\": {\n",
    "        \"name\": \"WFS\",\n",
    "        \"request\": \"GetCapabilities\",\n",
    "        \"version\": [\n",
    "            \"1.1.0\"\n",
    "        ]\n",
    "    },\n",
    "    \"protocol\": \"OGC\"\n",
    "}\n",
    "\n",
    "reader = OgcReader(identity, response, url, {'harvest_date': '2015-09-15T12:45:00Z'})\n",
    "reader.parse()\n",
    "grapher = RdfGrapher(reader.description)\n",
    "grapher.serialize()\n",
    "print grapher.emit_format()"
   ]
  },
  {
   "cell_type": "code",
   "execution_count": 16,
   "metadata": {
    "collapsed": false,
    "scrolled": true
   },
   "outputs": [],
   "source": [
    "# x = reader._get_service_reader('WFS', '1.1.0')\n",
    "# reader._parse_getcap_datasets(x)"
   ]
  },
  {
   "cell_type": "markdown",
   "metadata": {},
   "source": [
    "Once more for WCS, although it does generally have a more limited GetCapabilities.\n",
    "\n",
    "<a id='wcs_triples'></a>"
   ]
  },
  {
   "cell_type": "code",
   "execution_count": 8,
   "metadata": {
    "collapsed": false
   },
   "outputs": [
    {
     "name": "stdout",
     "output_type": "stream",
     "text": [
      "@prefix bcube: <http://purl.org/BCube/#> .\n",
      "@prefix bibo: <http://purl.org/ontology/bibo/#> .\n",
      "@prefix dc: <http://purl.org/dc/elements/1.1/> .\n",
      "@prefix dcat: <http://www.w3.org/TR/vocab-dcat/#> .\n",
      "@prefix dcterms: <http://purl.org/dc/terms/> .\n",
      "@prefix esip: <http://purl.org/esip/#> .\n",
      "@prefix foaf: <http://xmlns.com/foaf/0.1/> .\n",
      "@prefix owl: <http://www.w3.org/2002/07/owl#> .\n",
      "@prefix rdf: <http://www.w3.org/1999/02/22-rdf-syntax-ns#> .\n",
      "@prefix rdfs: <http://www.w3.org/2000/01/rdf-schema#> .\n",
      "@prefix vcard: <http://www.w3.org/TR/vcard-rdf/#> .\n",
      "@prefix xml: <http://www.w3.org/XML/1998/namespace> .\n",
      "@prefix xsd: <http://www.w3.org/2001/XMLSchema#> .\n",
      "\n",
      "<urn:uuid:1983b504-ed55-4be7-966a-8225aa0f15b1> a \"OGC:WCS\" ;\n",
      "    bcube:contains <urn:uuid:3d19760f-615c-4991-ac78-67f6a9bcccfc> ;\n",
      "    bcube:dateCreated \"2015-09-15T12:45:00Z\" ;\n",
      "    bcube:lastUpdated \"2015-09-15T12:45:00Z\" ;\n",
      "    bcube:originatedFrom <urn:sha:89c0265fb336ecbb52b9997aede4c7730d61334d49a103cd66e98e48> ;\n",
      "    owl:a bcube:service .\n",
      "\n",
      "<urn:sha:54ecd04bb9b3213c1e7d835b723405d7efe1ee43804f30f3dacda938> bcube:HTTPStatusCodeValue 200 ;\n",
      "    bcube:HTTPStatusFamilyCode 200 ;\n",
      "    bcube:HTTPStatusFamilyType \"Success message\" ;\n",
      "    bcube:atTime \"2015-09-15T12:45:00Z\" ;\n",
      "    bcube:hasConfidence \"Not Sure\" ;\n",
      "    bcube:hasUrlSource \"Generated\" ;\n",
      "    bcube:reasonPhrase \"OK\" ;\n",
      "    bcube:validatedOn \"2015-09-15T12:45:00Z\" ;\n",
      "    owl:a bcube:Url ;\n",
      "    vcard:hasUrl \"http://ferret.pmel.noaa.gov/thredds/wms/las/woa05_monthly/data_ferret.pmel.noaa.gov_thredds_dodsC_data_PMEL_WOA05nc_monthly_o0112mn1.nc.jnl?width=500&version=1.1.2&coverage=1&service=WCS&crs=CRS%3A84&format=GTiff&request=GetCoverage&bbox=-99.3072997539%2C16.8492171061%2C-79.1682045358%2C31.0960075335&height=500\" .\n",
      "\n",
      "<urn:sha:89c0265fb336ecbb52b9997aede4c7730d61334d49a103cd66e98e48> bcube:HTTPStatusCodeValue 200 ;\n",
      "    bcube:HTTPStatusFamilyCode 200 ;\n",
      "    bcube:HTTPStatusFamilyType \"Success message\" ;\n",
      "    bcube:atTime \"2015-09-15T12:45:00Z\" ;\n",
      "    bcube:hasConfidence \"Good\" ;\n",
      "    bcube:hasUrlSource \"Harvested\" ;\n",
      "    bcube:reasonPhrase \"OK\" ;\n",
      "    bcube:validatedOn \"2015-09-15T12:45:00Z\" ;\n",
      "    owl:a bcube:Url ;\n",
      "    vcard:hasUrl \"http://ferret.pmel.noaa.gov/thredds/wms/las/woa05_monthly/data_ferret.pmel.noaa.gov_thredds_dodsC_data_PMEL_WOA05nc_monthly_o0112mn1.nc.jnl\" .\n",
      "\n",
      "<urn:uuid:3d19760f-615c-4991-ac78-67f6a9bcccfc> bcube:dateCreated \"2015-09-15T12:45:00Z\" ;\n",
      "\n",
      "\n"
     ]
    }
   ],
   "source": [
    "with open('../inputs/wfs_v1_1_0.xml', 'r') as f:\n",
    "    response = f.read()\n",
    "\n",
    "rr = RawResponse(response, 'text/xml')\n",
    "response = rr.clean_raw_content()\n",
    "    \n",
    "url = 'http://ferret.pmel.noaa.gov/thredds/wms/las/woa05_monthly/data_ferret.pmel.noaa.gov_thredds_dodsC_data_PMEL_WOA05nc_monthly_o0112mn1.nc.jnl'\n",
    "identity = {\n",
    "    \"service\": {\n",
    "        \"name\": \"WFS\",\n",
    "        \"request\": \"GetCapabilities\",\n",
    "        \"version\": [\n",
    "            \"1.1.0\"\n",
    "        ]\n",
    "    },\n",
    "    \"protocol\": \"OGC\"\n",
    "}\n",
    "\n",
    "reader = OgcReader(identity, response, url, {'harvest_date': '2015-09-15T12:45:00Z'})\n",
    "reader.parse()\n",
    "grapher = RdfGrapher(reader.description)\n",
    "grapher.serialize()\n",
    "print grapher.emit_format()"
   ]
  },
  {
   "cell_type": "code",
   "execution_count": 16,
   "metadata": {
    "collapsed": false,
    "scrolled": true
   },
   "outputs": [],
   "source": [
    "# x = reader._get_service_reader('WFS', '1.1.0')\n",
    "# reader._parse_getcap_datasets(x)"
   ]
  },
  {
   "cell_type": "markdown",
   "metadata": {},
   "source": [
    "Once more for WCS, although it does generally have a more limited GetCapabilities.\n",
    "\n",
    "<a id='wcs_triples'></a>"
   ]
  },
  {
   "cell_type": "code",
   "execution_count": 48,
   "metadata": {
    "collapsed": false
   },
   "outputs": [
    {
     "name": "stdout",
     "output_type": "stream",
     "text": [
      "@prefix bcube: <http://purl.org/BCube/#> .\n",
      "@prefix bibo: <http://purl.org/ontology/bibo/#> .\n",
      "@prefix dc: <http://purl.org/dc/elements/1.1/> .\n",
      "@prefix dcat: <http://www.w3.org/TR/vocab-dcat/#> .\n",
      "@prefix dcterms: <http://purl.org/dc/terms/> .\n",
      "@prefix esip: <http://purl.org/esip/#> .\n",
      "@prefix foaf: <http://xmlns.com/foaf/0.1/> .\n",
      "@prefix owl: <http://www.w3.org/2002/07/owl#> .\n",
      "@prefix rdf: <http://www.w3.org/1999/02/22-rdf-syntax-ns#> .\n",
      "@prefix rdfs: <http://www.w3.org/2000/01/rdf-schema#> .\n",
      "@prefix vcard: <http://www.w3.org/TR/vcard-rdf/#> .\n",
      "@prefix xml: <http://www.w3.org/XML/1998/namespace> .\n",
      "@prefix xsd: <http://www.w3.org/2001/XMLSchema#> .\n",
      "\n",
      "<urn:uuid:bb1c1cfc-0fae-44d7-9695-7974a6f12749> a \"OGC:WCS\" ;\n",
      "    bcube:contains <urn:uuid:faaefd03-382a-4277-8d89-a2eb14432c11> ;\n",
      "    bcube:dateCreated \"2015-09-15T12:45:00Z\" ;\n",
      "    bcube:lastUpdated \"2015-09-15T12:45:00Z\" ;\n",
      "    bcube:originatedFrom <urn:sha:89c0265fb336ecbb52b9997aede4c7730d61334d49a103cd66e98e48> ;\n",
      "    owl:a bcube:service .\n",
      "\n",
      "<urn:sha:54ecd04bb9b3213c1e7d835b723405d7efe1ee43804f30f3dacda938> bcube:HTTPStatusCodeValue 200 ;\n",
      "    bcube:HTTPStatusFamilyCode 200 ;\n",
      "    bcube:HTTPStatusFamilyType \"Success message\" ;\n",
      "    bcube:atTime \"2015-09-15T12:45:00Z\" ;\n",
      "    bcube:hasConfidence \"Good\" ;\n",
      "    bcube:hasUrlSource \"Generated\" ;\n",
      "    bcube:reasonPhrase \"OK\" ;\n",
      "    bcube:validatedOn \"2015-09-15T12:45:00Z\" ;\n",
      "    owl:a bcube:Url ;\n",
      "    vcard:hasUrl \"http://ferret.pmel.noaa.gov/thredds/wms/las/woa05_monthly/data_ferret.pmel.noaa.gov_thredds_dodsC_data_PMEL_WOA05nc_monthly_o0112mn1.nc.jnl?width=500&version=1.1.2&coverage=1&service=WCS&crs=CRS%3A84&format=GTiff&request=GetCoverage&bbox=-99.3072997539%2C16.8492171061%2C-79.1682045358%2C31.0960075335&height=500\" .\n",
      "\n",
      "<urn:sha:89c0265fb336ecbb52b9997aede4c7730d61334d49a103cd66e98e48> bcube:HTTPStatusCodeValue 200 ;\n",
      "    bcube:HTTPStatusFamilyCode 200 ;\n",
      "    bcube:HTTPStatusFamilyType \"Success message\" ;\n",
      "    bcube:atTime \"2015-09-15T12:45:00Z\" ;\n",
      "    bcube:hasConfidence \"Good\" ;\n",
      "    bcube:hasUrlSource \"Harvested\" ;\n",
      "    bcube:reasonPhrase \"OK\" ;\n",
      "    bcube:validatedOn \"2015-09-15T12:45:00Z\" ;\n",
      "    owl:a bcube:Url ;\n",
      "    vcard:hasUrl \"http://ferret.pmel.noaa.gov/thredds/wms/las/woa05_monthly/data_ferret.pmel.noaa.gov_thredds_dodsC_data_PMEL_WOA05nc_monthly_o0112mn1.nc.jnl\" .\n",
      "\n",
      "<urn:uuid:faaefd03-382a-4277-8d89-a2eb14432c11> bcube:dateCreated \"2015-09-15T12:45:00Z\" ;\n",
      "    bcube:lastUpdated \"2015-09-15T12:45:00Z\" ;\n",
      "    dc:description \"Gridded, high resolution ocean surface vector winds and wind stresses on a global 0.25\\\\xc2\\\\xb0 grid. This is the seasonal fall average of wind speeds from 1990 to 2010. Speeds are recorded in meters per second.\" ;\n",
      "    dc:spatial \"POLYGON ((-99.307299753899997 16.849217106099999,-99.307299753899997 31.0960075335,-79.168204535800001 31.0960075335,-79.168204535800001 16.849217106099999,-99.307299753899997 16.849217106099999))\" ;\n",
      "    dc:title \"Wind Speed_1\" ;\n",
      "    dcterms:references <urn:sha:54ecd04bb9b3213c1e7d835b723405d7efe1ee43804f30f3dacda938> ;\n",
      "    esip:eastBound \"-79.1682045358\"^^xsd:float ;\n",
      "    esip:northBound \"31.0960075335\"^^xsd:float ;\n",
      "    esip:southBound \"16.8492171061\"^^xsd:float ;\n",
      "    esip:westBound \"-99.3072997539\"^^xsd:float ;\n",
      "    owl:a bcube:Layer .\n",
      "\n",
      "\n"
     ]
    }
   ],
   "source": [
    "with open('../inputs/wcs_v1_1_2.xml', 'r') as f:\n",
    "    response = f.read()\n",
    "\n",
    "rr = RawResponse(response.encode('string_escape'), 'text/xml')\n",
    "response = rr.clean_raw_content()\n",
    "    \n",
    "url = 'http://ferret.pmel.noaa.gov/thredds/wms/las/woa05_monthly/data_ferret.pmel.noaa.gov_thredds_dodsC_data_PMEL_WOA05nc_monthly_o0112mn1.nc.jnl'\n",
    "identity = {\n",
    "    \"service\": {\n",
    "        \"name\": \"WCS\",\n",
    "        \"request\": \"GetCapabilities\",\n",
    "        \"version\": [\n",
    "            \"1.1.2\"\n",
    "        ]\n",
    "    },\n",
    "    \"protocol\": \"OGC\"\n",
    "}\n",
    "\n",
    "reader = OgcReader(identity, response, url, {'harvest_date': '2015-09-15T12:45:00Z'})\n",
    "reader.parse()\n",
    "grapher = RdfGrapher(reader.description)\n",
    "grapher.serialize()\n",
    "print grapher.emit_format()"
   ]
  },
  {
   "cell_type": "code",
   "execution_count": null,
   "metadata": {
    "collapsed": true
   },
   "outputs": [],
   "source": []
  }
 ],
 "metadata": {
  "kernelspec": {
   "display_name": "Python 2",
   "language": "python",
   "name": "python2"
  },
  "language_info": {
   "codemirror_mode": {
    "name": "ipython",
    "version": 2
   },
   "file_extension": ".py",
   "mimetype": "text/x-python",
   "name": "python",
   "nbconvert_exporter": "python",
   "pygments_lexer": "ipython2",
   "version": "2.7.10"
  }
 },
 "nbformat": 4,
 "nbformat_minor": 0
}
