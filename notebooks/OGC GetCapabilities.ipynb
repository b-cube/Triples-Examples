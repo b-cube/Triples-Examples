{
 "cells": [
  {
   "cell_type": "markdown",
   "metadata": {},
   "source": [
    "###OGC triples for WxS GetCapabilities as Catalog Records\n",
    "\n",
    "\n",
    "[WMS ttl](#wms_triples)\n",
    "\n",
    "[WFS ttl](#wfs_triples)\n",
    "\n",
    "[WCS ttl](#wcs_triples)"
   ]
  },
  {
   "cell_type": "code",
   "execution_count": 1,
   "metadata": {
    "collapsed": false
   },
   "outputs": [],
   "source": [
    "%reload_ext autoreload\n",
    "%autoreload 2\n",
    "\n",
    "import os\n",
    "import json\n",
    "import glob\n",
    "from semproc.rawresponse import RawResponse\n",
    "from semproc.parser import Parser\n",
    "from semproc.preprocessors.ogc_preprocessors import OgcReader\n",
    "from semproc.serializers.rdfgraphs import RdfGrapher"
   ]
  },
  {
   "cell_type": "code",
   "execution_count": 2,
   "metadata": {
    "collapsed": true
   },
   "outputs": [],
   "source": [
    "with open('../inputs/wms_v1.3.0.xml', 'r') as f:\n",
    "    response = f.read()\n",
    "\n",
    "rr = RawResponse(response, 'text/xml')\n",
    "response = rr.clean_raw_content()\n",
    "    \n",
    "url = 'http://ferret.pmel.noaa.gov/thredds/wms/las/woa05_monthly/data_ferret.pmel.noaa.gov_thredds_dodsC_data_PMEL_WOA05nc_monthly_o0112mn1.nc.jnl'\n",
    "identity = {\n",
    "    \"service\": {\n",
    "        \"name\": \"WMS\",\n",
    "        \"request\": \"GetCapabilities\",\n",
    "        \"version\": [\n",
    "            \"1.3.0\"\n",
    "        ]\n",
    "    },\n",
    "    \"protocol\": \"OGC\"\n",
    "}"
   ]
  },
  {
   "cell_type": "code",
   "execution_count": 3,
   "metadata": {
    "collapsed": true
   },
   "outputs": [],
   "source": [
    "reader = OgcReader(identity, response, url, {'harvest_date': '2015-09-15T12:45:00Z'})"
   ]
  },
  {
   "cell_type": "code",
   "execution_count": 4,
   "metadata": {
    "collapsed": false
   },
   "outputs": [],
   "source": [
    "reader.parse()"
   ]
  },
  {
   "cell_type": "code",
   "execution_count": 5,
   "metadata": {
    "collapsed": true
   },
   "outputs": [],
   "source": [
    "# reader.description"
   ]
  },
  {
   "cell_type": "markdown",
   "metadata": {},
   "source": [
    "<a id='wms_triples'></a>"
   ]
  },
  {
   "cell_type": "code",
   "execution_count": 6,
   "metadata": {
    "collapsed": false,
    "scrolled": false
   },
   "outputs": [
    {
     "name": "stdout",
     "output_type": "stream",
     "text": [
      "@prefix bcube: <http://purl.org/BCube/#> .\n",
      "@prefix bibo: <http://purl.org/ontology/bibo/#> .\n",
      "@prefix dc: <http://purl.org/dc/elements/1.1/> .\n",
      "@prefix dcat: <http://www.w3.org/TR/vocab-dcat/#> .\n",
      "@prefix dcterms: <http://purl.org/dc/terms/> .\n",
      "@prefix esip: <http://purl.org/esip/#> .\n",
      "@prefix foaf: <http://xmlns.com/foaf/0.1/> .\n",
      "@prefix owl: <http://www.w3.org/2002/07/owl#> .\n",
      "@prefix rdf: <http://www.w3.org/1999/02/22-rdf-syntax-ns#> .\n",
      "@prefix rdfs: <http://www.w3.org/2000/01/rdf-schema#> .\n",
      "@prefix vcard: <http://www.w3.org/TR/vcard-rdf/#> .\n",
      "@prefix xml: <http://www.w3.org/XML/1998/namespace> .\n",
      "@prefix xsd: <http://www.w3.org/2001/XMLSchema#> .\n",
      "\n",
      "<urn:uuid:2b16b949-59ff-41bf-ade7-77301bdc9b9d> a \"OGC:WMS\" ;\n",
      "    bcube:contains <urn:uuid:53116795-a6d8-42d6-b812-30669c89d2c2> ;\n",
      "    bcube:dateCreated \"2015-09-15T12:45:00Z\" ;\n",
      "    bcube:lastUpdated \"2015-09-15T12:45:00Z\" ;\n",
      "    bcube:originatedFrom <urn:sha:89c0265fb336ecbb52b9997aede4c7730d61334d49a103cd66e98e48> ;\n",
      "    dc:conformsTo <urn:uuid:79c6056b-675b-4f3b-a3a4-a295e4d22611> ;\n",
      "    dc:description \"Scientific Data\" ;\n",
      "    owl:a bcube:service .\n",
      "\n",
      "<urn:sha:036d1994a2f5a593628f335878b3f649dbb3231c85366c8ae1c3052b> bcube:HTTPStatusCodeValue 200 ;\n",
      "    bcube:HTTPStatusFamilyCode 200 ;\n",
      "    bcube:HTTPStatusFamilyType \"Success message\" ;\n",
      "    bcube:atTime \"2015-09-15T12:45:00Z\" ;\n",
      "    bcube:hasConfidence \"Not Sure\" ;\n",
      "    bcube:hasUrlSource \"Generated\" ;\n",
      "    bcube:reasonPhrase \"OK\" ;\n",
      "    bcube:validatedOn \"2015-09-15T12:45:00Z\" ;\n",
      "    owl:a bcube:Url ;\n",
      "    vcard:hasUrl \"http://ferret.pmel.noaa.gov/thredds/wms/las/woa05_monthly/data_ferret.pmel.noaa.gov_thredds_dodsC_data_PMEL_WOA05nc_monthly_o0112mn1.nc.jnl?layers=o0112mn1&width=500&version=1.3.0&bbox=-180.0%2C-89.5%2C180.0%2C89.5&service=WMS&format=image%2Fpng&styles=&crs=CRS%3A84&request=GetMap&height=500\" .\n",
      "\n",
      "<urn:sha:89c0265fb336ecbb52b9997aede4c7730d61334d49a103cd66e98e48> bcube:HTTPStatusCodeValue 200 ;\n",
      "    bcube:HTTPStatusFamilyCode 200 ;\n",
      "    bcube:HTTPStatusFamilyType \"Success message\" ;\n",
      "    bcube:atTime \"2015-09-15T12:45:00Z\" ;\n",
      "    bcube:hasConfidence \"Good\" ;\n",
      "    bcube:hasUrlSource \"Harvested\" ;\n",
      "    bcube:reasonPhrase \"OK\" ;\n",
      "    bcube:validatedOn \"2015-09-15T12:45:00Z\" ;\n",
      "    owl:a bcube:Url ;\n",
      "    vcard:hasUrl \"http://ferret.pmel.noaa.gov/thredds/wms/las/woa05_monthly/data_ferret.pmel.noaa.gov_thredds_dodsC_data_PMEL_WOA05nc_monthly_o0112mn1.nc.jnl\" .\n",
      "\n",
      "<urn:uuid:53116795-a6d8-42d6-b812-30669c89d2c2> bcube:dateCreated \"2015-09-15T12:45:00Z\" ;\n",
      "    bcube:lastUpdated \"2015-09-15T12:45:00Z\" ;\n",
      "    dc:description \"Dissolved Oxygen\" ;\n",
      "    dc:spatial \"POLYGON ((-180.0 -89.5,-180.0 89.5,180.0 89.5,180.0 -89.5,-180.0 -89.5))\" ;\n",
      "    dc:title \"dissolved_oxygen\" ;\n",
      "    dcterms:references <urn:sha:036d1994a2f5a593628f335878b3f649dbb3231c85366c8ae1c3052b> ;\n",
      "    esip:eastBound \"180.0\"^^xsd:float ;\n",
      "    esip:northBound \"89.5\"^^xsd:float ;\n",
      "    esip:southBound \"-89.5\"^^xsd:float ;\n",
      "    esip:westBound \"-180.0\"^^xsd:float ;\n",
      "    owl:a bcube:Layer .\n",
      "\n",
      "<urn:uuid:79c6056b-675b-4f3b-a3a4-a295e4d22611> bcube:hasValue \"atmosphere\",\n",
      "        \"climate\",\n",
      "        \"earth science\",\n",
      "        \"meteorology\",\n",
      "        \"ocean\" ;\n",
      "    owl:a bcube:thesaurusSubset .\n",
      "\n",
      "\n"
     ]
    }
   ],
   "source": [
    "grapher = RdfGrapher(reader.description)\n",
    "grapher.serialize()\n",
    "print grapher.emit_format()"
   ]
  },
  {
   "cell_type": "markdown",
   "metadata": {
    "collapsed": true
   },
   "source": [
    "Moving on to our other WxS options, starting with WFS.\n",
    "\n",
    "(The supplied url is for testing - it is not the correct service for the response content.)\n",
    "\n",
    "<a id='wfs_triples'></a>"
   ]
  },
  {
   "cell_type": "code",
   "execution_count": 7,
   "metadata": {
    "collapsed": false,
    "scrolled": false
   },
   "outputs": [
    {
     "name": "stdout",
     "output_type": "stream",
     "text": [
      "@prefix bcube: <http://purl.org/BCube/#> .\n",
      "@prefix bibo: <http://purl.org/ontology/bibo/#> .\n",
      "@prefix dc: <http://purl.org/dc/elements/1.1/> .\n",
      "@prefix dcat: <http://www.w3.org/TR/vocab-dcat/#> .\n",
      "@prefix dcterms: <http://purl.org/dc/terms/> .\n",
      "@prefix esip: <http://purl.org/esip/#> .\n",
      "@prefix foaf: <http://xmlns.com/foaf/0.1/> .\n",
      "@prefix owl: <http://www.w3.org/2002/07/owl#> .\n",
      "@prefix rdf: <http://www.w3.org/1999/02/22-rdf-syntax-ns#> .\n",
      "@prefix rdfs: <http://www.w3.org/2000/01/rdf-schema#> .\n",
      "@prefix vcard: <http://www.w3.org/TR/vcard-rdf/#> .\n",
      "@prefix xml: <http://www.w3.org/XML/1998/namespace> .\n",
      "@prefix xsd: <http://www.w3.org/2001/XMLSchema#> .\n",
      "\n",
      "<urn:uuid:64c1f58a-a605-4951-8c9f-8c2b648d1e62> a \"OGC:WFS\" ;\n",
      "    bcube:contains <urn:uuid:119724b7-8682-4d95-b663-f8a479d5a357>,\n",
      "        <urn:uuid:5bf3cc3c-a18a-4938-bf77-736e222c2568>,\n",
      "        <urn:uuid:c589a188-7b7c-4981-ac3e-3a1af633437d> ;\n",
      "    bcube:dateCreated \"2015-09-15T12:45:00Z\" ;\n",
      "    bcube:lastUpdated \"2015-09-15T12:45:00Z\" ;\n",
      "    bcube:originatedFrom <urn:sha:89c0265fb336ecbb52b9997aede4c7730d61334d49a103cd66e98e48> ;\n",
      "    dc:conformsTo <urn:uuid:bafa21c4-444a-4f86-8628-27b50a7c9f3a> ;\n",
      "    dc:description \"Estimates of the number and size of undiscovered mineral deposits containing gold, silver, copper, lead, and zinc in the US, by type of deposit.\" ;\n",
      "    owl:a bcube:service .\n",
      "\n",
      "<urn:uuid:6777eb6c-6bd0-451d-b890-6eb24cf823ef> bcube:originatedFrom <urn:sha:d2db93911fbfeae23ee061ae4651497702563ea40b6664af45653905> ;\n",
      "    dc:describes <urn:uuid:119724b7-8682-4d95-b663-f8a479d5a357> ;\n",
      "    owl:a dcat:CatalogRecord .\n",
      "\n",
      "<urn:sha:04852aa6cc6aa13b20b1dc49b5f0d8216cdb43f78b8463a0d10ef56f> bcube:HTTPStatusCodeValue 200 ;\n",
      "    bcube:HTTPStatusFamilyCode 200 ;\n",
      "    bcube:HTTPStatusFamilyType \"Success message\" ;\n",
      "    bcube:atTime \"2015-09-15T12:45:00Z\" ;\n",
      "    bcube:hasConfidence \"Not Sure\" ;\n",
      "    bcube:hasUrlSource \"Generated\" ;\n",
      "    bcube:reasonPhrase \"OK\" ;\n",
      "    bcube:validatedOn \"2015-09-15T12:45:00Z\" ;\n",
      "    owl:a bcube:Url ;\n",
      "    vcard:hasUrl \"http://ferret.pmel.noaa.gov/thredds/wms/las/woa05_monthly/data_ferret.pmel.noaa.gov_thredds_dodsC_data_PMEL_WOA05nc_monthly_o0112mn1.nc.jnl?featureid=Duluth_CuNiPGE&typenames=namespace%3Afeaturetype&version=1.1.0&request=GetFeature&service=WFS\" .\n",
      "\n",
      "<urn:sha:69f100a83f5da2ebfdae697d9f7ae735c67a1c972f7726b0db1892a7> bcube:HTTPStatusCodeValue 200 ;\n",
      "    bcube:HTTPStatusFamilyCode 200 ;\n",
      "    bcube:HTTPStatusFamilyType \"Success message\" ;\n",
      "    bcube:atTime \"2015-09-15T12:45:00Z\" ;\n",
      "    bcube:hasConfidence \"Not Sure\" ;\n",
      "    bcube:hasUrlSource \"Generated\" ;\n",
      "    bcube:reasonPhrase \"OK\" ;\n",
      "    bcube:validatedOn \"2015-09-15T12:45:00Z\" ;\n",
      "    owl:a bcube:Url ;\n",
      "    vcard:hasUrl \"http://ferret.pmel.noaa.gov/thredds/wms/las/woa05_monthly/data_ferret.pmel.noaa.gov_thredds_dodsC_data_PMEL_WOA05nc_monthly_o0112mn1.nc.jnl?featureid=Distal_disseminated_AgAu&typenames=namespace%3Afeaturetype&version=1.1.0&request=GetFeature&service=WFS\" .\n",
      "\n",
      "<urn:sha:7f0a39cd20fb75e38b7bf2adfe714a1fb274a771ab3ef3b75f9a4f3f> bcube:HTTPStatusCodeValue 200 ;\n",
      "    bcube:HTTPStatusFamilyCode 200 ;\n",
      "    bcube:HTTPStatusFamilyType \"Success message\" ;\n",
      "    bcube:atTime \"2015-09-15T12:45:00Z\" ;\n",
      "    bcube:hasConfidence \"Not Sure\" ;\n",
      "    bcube:hasUrlSource \"Generated\" ;\n",
      "    bcube:reasonPhrase \"OK\" ;\n",
      "    bcube:validatedOn \"2015-09-15T12:45:00Z\" ;\n",
      "    owl:a bcube:Url ;\n",
      "    vcard:hasUrl \"http://ferret.pmel.noaa.gov/thredds/wms/las/woa05_monthly/data_ferret.pmel.noaa.gov_thredds_dodsC_data_PMEL_WOA05nc_monthly_o0112mn1.nc.jnl?featureid=Alkaline_AuTe&typenames=namespace%3Afeaturetype&version=1.1.0&request=GetFeature&service=WFS\" .\n",
      "\n",
      "<urn:sha:89c0265fb336ecbb52b9997aede4c7730d61334d49a103cd66e98e48> bcube:HTTPStatusCodeValue 200 ;\n",
      "    bcube:HTTPStatusFamilyCode 200 ;\n",
      "    bcube:HTTPStatusFamilyType \"Success message\" ;\n",
      "    bcube:atTime \"2015-09-15T12:45:00Z\" ;\n",
      "    bcube:hasConfidence \"Good\" ;\n",
      "    bcube:hasUrlSource \"Harvested\" ;\n",
      "    bcube:reasonPhrase \"OK\" ;\n",
      "    bcube:validatedOn \"2015-09-15T12:45:00Z\" ;\n",
      "    owl:a bcube:Url ;\n",
      "    vcard:hasUrl \"http://ferret.pmel.noaa.gov/thredds/wms/las/woa05_monthly/data_ferret.pmel.noaa.gov_thredds_dodsC_data_PMEL_WOA05nc_monthly_o0112mn1.nc.jnl\" .\n",
      "\n",
      "<urn:sha:d2db93911fbfeae23ee061ae4651497702563ea40b6664af45653905> bcube:HTTPStatusCodeValue 200 ;\n",
      "    bcube:HTTPStatusFamilyCode 200 ;\n",
      "    bcube:HTTPStatusFamilyType \"Success message\" ;\n",
      "    bcube:atTime \"2015-09-15T12:45:00Z\" ;\n",
      "    bcube:hasConfidence \"Good\" ;\n",
      "    bcube:hasUrlSource \"Harvested\" ;\n",
      "    bcube:reasonPhrase \"OK\" ;\n",
      "    bcube:validatedOn \"2015-09-15T12:45:00Z\" ;\n",
      "    owl:a bcube:Url ;\n",
      "    vcard:hasUrl \"http://mrdata.usgs.gov/metadata/nmra.xml\" .\n",
      "\n",
      "<urn:uuid:5bf3cc3c-a18a-4938-bf77-736e222c2568> bcube:dateCreated \"2015-09-15T12:45:00Z\" ;\n",
      "    bcube:lastUpdated \"2015-09-15T12:45:00Z\" ;\n",
      "    dc:description \"Estimates of the number and size of undiscovered mineral deposits of this type\" ;\n",
      "    dc:spatial \"POLYGON ((-165 24,-165 73,-66 73,-66 24,-165 24))\" ;\n",
      "    dc:title \"Permissive tracts for Distal disseminated Ag-Au\" ;\n",
      "    dcterms:references <urn:sha:69f100a83f5da2ebfdae697d9f7ae735c67a1c972f7726b0db1892a7> ;\n",
      "    esip:eastBound \"-66.0\"^^xsd:float ;\n",
      "    esip:northBound \"73.0\"^^xsd:float ;\n",
      "    esip:southBound \"24.0\"^^xsd:float ;\n",
      "    esip:westBound \"-165.0\"^^xsd:float ;\n",
      "    owl:a bcube:Layer .\n",
      "\n",
      "<urn:uuid:bafa21c4-444a-4f86-8628-27b50a7c9f3a> bcube:hasValue \"metallic mineral resources; natural resource assessment; gold; silver; copper; lead; zinc\" ;\n",
      "    owl:a bcube:thesaurusSubset .\n",
      "\n",
      "<urn:uuid:c589a188-7b7c-4981-ac3e-3a1af633437d> bcube:dateCreated \"2015-09-15T12:45:00Z\" ;\n",
      "    bcube:lastUpdated \"2015-09-15T12:45:00Z\" ;\n",
      "    dc:description \"Estimates of the number and size of undiscovered mineral deposits of this type\" ;\n",
      "    dc:spatial \"POLYGON ((-165 24,-165 73,-66 73,-66 24,-165 24))\" ;\n",
      "    dc:title \"Permissive tracts for Alkaline Au-Te\" ;\n",
      "    dcterms:references <urn:sha:7f0a39cd20fb75e38b7bf2adfe714a1fb274a771ab3ef3b75f9a4f3f> ;\n",
      "    esip:eastBound \"-66.0\"^^xsd:float ;\n",
      "    esip:northBound \"73.0\"^^xsd:float ;\n",
      "    esip:southBound \"24.0\"^^xsd:float ;\n",
      "    esip:westBound \"-165.0\"^^xsd:float ;\n",
      "    owl:a bcube:Layer .\n",
      "\n",
      "<urn:uuid:119724b7-8682-4d95-b663-f8a479d5a357> bcube:dateCreated \"2015-09-15T12:45:00Z\" ;\n",
      "    bcube:lastUpdated \"2015-09-15T12:45:00Z\" ;\n",
      "    dc:description \"Estimates of the number and size of undiscovered mineral deposits of this type\" ;\n",
      "    dc:spatial \"POLYGON ((-165 24,-165 73,-66 73,-66 24,-165 24))\" ;\n",
      "    dc:title \"Permissive tracts for Duluth Cu-Ni-PGE\" ;\n",
      "    dcterms:references <urn:sha:04852aa6cc6aa13b20b1dc49b5f0d8216cdb43f78b8463a0d10ef56f> ;\n",
      "    esip:eastBound \"-66.0\"^^xsd:float ;\n",
      "    esip:northBound \"73.0\"^^xsd:float ;\n",
      "    esip:southBound \"24.0\"^^xsd:float ;\n",
      "    esip:westBound \"-165.0\"^^xsd:float ;\n",
      "    owl:a bcube:Layer .\n",
      "\n",
      "\n"
     ]
    }
   ],
   "source": [
    "with open('../inputs/wfs_v1_1_0.xml', 'r') as f:\n",
    "    response = f.read()\n",
    "\n",
    "rr = RawResponse(response, 'text/xml')\n",
    "response = rr.clean_raw_content()\n",
    "    \n",
    "url = 'http://ferret.pmel.noaa.gov/thredds/wms/las/woa05_monthly/data_ferret.pmel.noaa.gov_thredds_dodsC_data_PMEL_WOA05nc_monthly_o0112mn1.nc.jnl'\n",
    "identity = {\n",
    "    \"service\": {\n",
    "        \"name\": \"WFS\",\n",
    "        \"request\": \"GetCapabilities\",\n",
    "        \"version\": [\n",
    "            \"1.1.0\"\n",
    "        ]\n",
    "    },\n",
    "    \"protocol\": \"OGC\"\n",
    "}\n",
    "\n",
    "reader = OgcReader(identity, response, url, {'harvest_date': '2015-09-15T12:45:00Z'})\n",
    "reader.parse()\n",
    "grapher = RdfGrapher(reader.description)\n",
    "grapher.serialize()\n",
    "print grapher.emit_format()"
   ]
  },
  {
   "cell_type": "code",
   "execution_count": 16,
   "metadata": {
    "collapsed": false,
    "scrolled": true
   },
   "outputs": [],
   "source": [
    "# x = reader._get_service_reader('WFS', '1.1.0')\n",
    "# reader._parse_getcap_datasets(x)"
   ]
  },
  {
   "cell_type": "markdown",
   "metadata": {},
   "source": [
    "Once more for WCS, although it does generally have a more limited GetCapabilities.\n",
    "\n",
    "<a id='wcs_triples'></a>"
   ]
  },
  {
   "cell_type": "code",
   "execution_count": 8,
   "metadata": {
    "collapsed": false
   },
   "outputs": [
    {
     "name": "stdout",
     "output_type": "stream",
     "text": [
      "@prefix bcube: <http://purl.org/BCube/#> .\n",
      "@prefix bibo: <http://purl.org/ontology/bibo/#> .\n",
      "@prefix dc: <http://purl.org/dc/elements/1.1/> .\n",
      "@prefix dcat: <http://www.w3.org/TR/vocab-dcat/#> .\n",
      "@prefix dcterms: <http://purl.org/dc/terms/> .\n",
      "@prefix esip: <http://purl.org/esip/#> .\n",
      "@prefix foaf: <http://xmlns.com/foaf/0.1/> .\n",
      "@prefix owl: <http://www.w3.org/2002/07/owl#> .\n",
      "@prefix rdf: <http://www.w3.org/1999/02/22-rdf-syntax-ns#> .\n",
      "@prefix rdfs: <http://www.w3.org/2000/01/rdf-schema#> .\n",
      "@prefix vcard: <http://www.w3.org/TR/vcard-rdf/#> .\n",
      "@prefix xml: <http://www.w3.org/XML/1998/namespace> .\n",
      "@prefix xsd: <http://www.w3.org/2001/XMLSchema#> .\n",
      "\n",
      "<urn:uuid:1983b504-ed55-4be7-966a-8225aa0f15b1> a \"OGC:WCS\" ;\n",
      "    bcube:contains <urn:uuid:3d19760f-615c-4991-ac78-67f6a9bcccfc> ;\n",
      "    bcube:dateCreated \"2015-09-15T12:45:00Z\" ;\n",
      "    bcube:lastUpdated \"2015-09-15T12:45:00Z\" ;\n",
      "    bcube:originatedFrom <urn:sha:89c0265fb336ecbb52b9997aede4c7730d61334d49a103cd66e98e48> ;\n",
      "    owl:a bcube:service .\n",
      "\n",
      "<urn:sha:54ecd04bb9b3213c1e7d835b723405d7efe1ee43804f30f3dacda938> bcube:HTTPStatusCodeValue 200 ;\n",
      "    bcube:HTTPStatusFamilyCode 200 ;\n",
      "    bcube:HTTPStatusFamilyType \"Success message\" ;\n",
      "    bcube:atTime \"2015-09-15T12:45:00Z\" ;\n",
      "    bcube:hasConfidence \"Not Sure\" ;\n",
      "    bcube:hasUrlSource \"Generated\" ;\n",
      "    bcube:reasonPhrase \"OK\" ;\n",
      "    bcube:validatedOn \"2015-09-15T12:45:00Z\" ;\n",
      "    owl:a bcube:Url ;\n",
      "    vcard:hasUrl \"http://ferret.pmel.noaa.gov/thredds/wms/las/woa05_monthly/data_ferret.pmel.noaa.gov_thredds_dodsC_data_PMEL_WOA05nc_monthly_o0112mn1.nc.jnl?width=500&version=1.1.2&coverage=1&service=WCS&crs=CRS%3A84&format=GTiff&request=GetCoverage&bbox=-99.3072997539%2C16.8492171061%2C-79.1682045358%2C31.0960075335&height=500\" .\n",
      "\n",
      "<urn:sha:89c0265fb336ecbb52b9997aede4c7730d61334d49a103cd66e98e48> bcube:HTTPStatusCodeValue 200 ;\n",
      "    bcube:HTTPStatusFamilyCode 200 ;\n",
      "    bcube:HTTPStatusFamilyType \"Success message\" ;\n",
      "    bcube:atTime \"2015-09-15T12:45:00Z\" ;\n",
      "    bcube:hasConfidence \"Good\" ;\n",
      "    bcube:hasUrlSource \"Harvested\" ;\n",
      "    bcube:reasonPhrase \"OK\" ;\n",
      "    bcube:validatedOn \"2015-09-15T12:45:00Z\" ;\n",
      "    owl:a bcube:Url ;\n",
      "    vcard:hasUrl \"http://ferret.pmel.noaa.gov/thredds/wms/las/woa05_monthly/data_ferret.pmel.noaa.gov_thredds_dodsC_data_PMEL_WOA05nc_monthly_o0112mn1.nc.jnl\" .\n",
      "\n",
      "<urn:uuid:3d19760f-615c-4991-ac78-67f6a9bcccfc> bcube:dateCreated \"2015-09-15T12:45:00Z\" ;\n",
      "    bcube:lastUpdated \"2015-09-15T12:45:00Z\" ;\n",
      "    dc:description \"Gridded, high resolution ocean surface vector winds and wind stresses on a global 0.25\\\\xc2\\\\xb0 grid. This is the seasonal fall average of wind speeds from 1990 to 2010. Speeds are recorded in meters per second.\" ;\n",
      "    dc:spatial \"POLYGON ((-99.307299753899997 16.849217106099999,-99.307299753899997 31.0960075335,-79.168204535800001 31.0960075335,-79.168204535800001 16.849217106099999,-99.307299753899997 16.849217106099999))\" ;\n",
      "    dc:title \"Wind Speed_1\" ;\n",
      "    dcterms:references <urn:sha:54ecd04bb9b3213c1e7d835b723405d7efe1ee43804f30f3dacda938> ;\n",
      "    esip:eastBound \"-79.1682045358\"^^xsd:float ;\n",
      "    esip:northBound \"31.0960075335\"^^xsd:float ;\n",
      "    esip:southBound \"16.8492171061\"^^xsd:float ;\n",
      "    esip:westBound \"-99.3072997539\"^^xsd:float ;\n",
      "    owl:a bcube:Layer .\n",
      "\n",
      "\n"
     ]
    }
   ],
   "source": [
    "with open('../inputs/wcs_v1_1_2.xml', 'r') as f:\n",
    "    response = f.read()\n",
    "\n",
    "rr = RawResponse(response.encode('string_escape'), 'text/xml')\n",
    "response = rr.clean_raw_content()\n",
    "    \n",
    "url = 'http://ferret.pmel.noaa.gov/thredds/wms/las/woa05_monthly/data_ferret.pmel.noaa.gov_thredds_dodsC_data_PMEL_WOA05nc_monthly_o0112mn1.nc.jnl'\n",
    "identity = {\n",
    "    \"service\": {\n",
    "        \"name\": \"WCS\",\n",
    "        \"request\": \"GetCapabilities\",\n",
    "        \"version\": [\n",
    "            \"1.1.2\"\n",
    "        ]\n",
    "    },\n",
    "    \"protocol\": \"OGC\"\n",
    "}\n",
    "\n",
    "reader = OgcReader(identity, response, url, {'harvest_date': '2015-09-15T12:45:00Z'})\n",
    "reader.parse()\n",
    "grapher = RdfGrapher(reader.description)\n",
    "grapher.serialize()\n",
    "print grapher.emit_format()"
   ]
  },
  {
   "cell_type": "code",
   "execution_count": null,
   "metadata": {
    "collapsed": true
   },
   "outputs": [],
   "source": []
  }
 ],
 "metadata": {
  "kernelspec": {
   "display_name": "Python 2",
   "language": "python",
   "name": "python2"
  },
  "language_info": {
   "codemirror_mode": {
    "name": "ipython",
    "version": 2
   },
   "file_extension": ".py",
   "mimetype": "text/x-python",
   "name": "python",
   "nbconvert_exporter": "python",
   "pygments_lexer": "ipython2",
   "version": "2.7.10"
  }
 },
 "nbformat": 4,
 "nbformat_minor": 0
}
