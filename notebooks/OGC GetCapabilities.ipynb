{
 "cells": [
  {
   "cell_type": "markdown",
   "metadata": {},
   "source": [
    "###OGC triples for WxS GetCapabilities as Catalog Records\n",
    "\n",
    "\n",
    "[WMS ttl](#wms_triples)\n",
    "\n",
    "[WFS ttl](#wfs_triples)\n",
    "\n",
    "[WCS ttl](#wcs_triples)"
   ]
  },
  {
   "cell_type": "code",
   "execution_count": 35,
   "metadata": {
    "collapsed": false
   },
   "outputs": [],
   "source": [
    "%reload_ext autoreload\n",
    "%autoreload 2\n",
    "\n",
    "import os\n",
    "import json\n",
    "import glob\n",
    "from semproc.rawresponse import RawResponse\n",
    "from semproc.parser import Parser\n",
    "from semproc.preprocessors.ogc_preprocessors import OgcReader\n",
    "from semproc.serializers.rdfgraphs import RdfGrapher"
   ]
  },
  {
   "cell_type": "code",
   "execution_count": 36,
   "metadata": {
    "collapsed": true
   },
   "outputs": [],
   "source": [
    "with open('../inputs/wms_v1.3.0.xml', 'r') as f:\n",
    "    response = f.read()\n",
    "\n",
    "rr = RawResponse(response, 'text/xml')\n",
    "response = rr.clean_raw_content()\n",
    "    \n",
    "url = 'http://ferret.pmel.noaa.gov/thredds/wms/las/woa05_monthly/data_ferret.pmel.noaa.gov_thredds_dodsC_data_PMEL_WOA05nc_monthly_o0112mn1.nc.jnl'\n",
    "identity = {\n",
    "    \"service\": {\n",
    "        \"name\": \"WMS\",\n",
    "        \"request\": \"GetCapabilities\",\n",
    "        \"version\": [\n",
    "            \"1.3.0\"\n",
    "        ]\n",
    "    },\n",
    "    \"protocol\": \"OGC\"\n",
    "}"
   ]
  },
  {
   "cell_type": "code",
   "execution_count": 37,
   "metadata": {
    "collapsed": true
   },
   "outputs": [],
   "source": [
    "reader = OgcReader(identity, response, url, {'harvest_date': '2015-09-15T12:45:00Z'})"
   ]
  },
  {
   "cell_type": "code",
   "execution_count": 38,
   "metadata": {
    "collapsed": false
   },
   "outputs": [],
   "source": [
    "reader.parse()"
   ]
  },
  {
   "cell_type": "code",
   "execution_count": 39,
   "metadata": {
    "collapsed": true
   },
   "outputs": [],
   "source": [
    "# reader.description"
   ]
  },
  {
   "cell_type": "markdown",
   "metadata": {},
   "source": [
    "<a id='wms_triples'></a>"
   ]
  },
  {
   "cell_type": "code",
   "execution_count": 40,
   "metadata": {
    "collapsed": false,
    "scrolled": false
   },
   "outputs": [
    {
     "name": "stdout",
     "output_type": "stream",
     "text": [
      "@prefix bcube: <http://purl.org/BCube/#> .\n",
      "@prefix bibo: <http://purl.org/ontology/bibo/#> .\n",
      "@prefix dc: <http://purl.org/dc/elements/1.1/> .\n",
      "@prefix dcat: <http://www.w3.org/TR/vocab-dcat/#> .\n",
      "@prefix dcterms: <http://purl.org/dc/terms/> .\n",
      "@prefix esip: <http://purl.org/esip/#> .\n",
      "@prefix foaf: <http://xmlns.com/foaf/0.1/> .\n",
      "@prefix owl: <http://www.w3.org/2002/07/owl#> .\n",
      "@prefix rdf: <http://www.w3.org/1999/02/22-rdf-syntax-ns#> .\n",
      "@prefix rdfs: <http://www.w3.org/2000/01/rdf-schema#> .\n",
      "@prefix vcard: <http://www.w3.org/TR/vcard-rdf/#> .\n",
      "@prefix xml: <http://www.w3.org/XML/1998/namespace> .\n",
      "@prefix xsd: <http://www.w3.org/2001/XMLSchema#> .\n",
      "\n",
      "<urn:uuid:0f04a439-525c-4c21-92d7-08a019c80f51> a \"OGC:WMS\" ;\n",
      "    bcube:contains <urn:uuid:b26a7ad2-d8a3-44f7-ac35-ed37fd905b72> ;\n",
      "    bcube:dateCreated \"2015-09-15T12:45:00Z\" ;\n",
      "    bcube:lastUpdated \"2015-09-15T12:45:00Z\" ;\n",
      "    bcube:originatedFrom <urn:sha:89c0265fb336ecbb52b9997aede4c7730d61334d49a103cd66e98e48> ;\n",
      "    dc:conformsTo <urn:uuid:d2619909-63db-402b-9adf-24219e0a6d8b> ;\n",
      "    dc:description \"Scientific Data\" ;\n",
      "    owl:a bcube:service .\n",
      "\n",
      "<urn:sha:4d52936ffa84ce279d640b2b9cfca6c9aedfa415a46dc42347f24d9d> bcube:HTTPStatusCodeValue 200 ;\n",
      "    bcube:HTTPStatusFamilyCode 200 ;\n",
      "    bcube:HTTPStatusFamilyType \"Success message\" ;\n",
      "    bcube:atTime \"2015-09-15T12:45:00Z\" ;\n",
      "    bcube:hasConfidence \"Good\" ;\n",
      "    bcube:hasUrlSource \"Generated\" ;\n",
      "    bcube:reasonPhrase \"OK\" ;\n",
      "    bcube:validatedOn \"2015-09-15T12:45:00Z\" ;\n",
      "    owl:a bcube:Url ;\n",
      "    vcard:hasUrl \"http://ferret.pmel.noaa.gov/thredds/wms/las/woa05_monthly/data_ferret.pmel.noaa.gov_thredds_dodsC_data_PMEL_WOA05nc_monthly_o0112mn1.nc.jnl?layers=o0112mn1&crs=CRS%3A84&service=WMS&format=image%2Fpng&request=GetMap&height=500&width=500&version=1.3.0&bbox=-180.0%2C-89.5%2C180.0%2C89.5\" .\n",
      "\n",
      "<urn:sha:89c0265fb336ecbb52b9997aede4c7730d61334d49a103cd66e98e48> bcube:HTTPStatusCodeValue 200 ;\n",
      "    bcube:HTTPStatusFamilyCode 200 ;\n",
      "    bcube:HTTPStatusFamilyType \"Success message\" ;\n",
      "    bcube:atTime \"2015-09-15T12:45:00Z\" ;\n",
      "    bcube:hasConfidence \"Good\" ;\n",
      "    bcube:hasUrlSource \"Harvested\" ;\n",
      "    bcube:reasonPhrase \"OK\" ;\n",
      "    bcube:validatedOn \"2015-09-15T12:45:00Z\" ;\n",
      "    owl:a bcube:Url ;\n",
      "    vcard:hasUrl \"http://ferret.pmel.noaa.gov/thredds/wms/las/woa05_monthly/data_ferret.pmel.noaa.gov_thredds_dodsC_data_PMEL_WOA05nc_monthly_o0112mn1.nc.jnl\" .\n",
      "\n",
      "<urn:uuid:b26a7ad2-d8a3-44f7-ac35-ed37fd905b72> bcube:dateCreated \"2015-09-15T12:45:00Z\" ;\n",
      "    bcube:lastUpdated \"2015-09-15T12:45:00Z\" ;\n",
      "    dc:description \"Dissolved Oxygen\" ;\n",
      "    dc:spatial \"POLYGON ((-180.0 -89.5,-180.0 89.5,180.0 89.5,180.0 -89.5,-180.0 -89.5))\" ;\n",
      "    dc:title \"dissolved_oxygen\" ;\n",
      "    dcterms:references <urn:sha:4d52936ffa84ce279d640b2b9cfca6c9aedfa415a46dc42347f24d9d> ;\n",
      "    esip:eastBound \"180.0\"^^xsd:float ;\n",
      "    esip:northBound \"89.5\"^^xsd:float ;\n",
      "    esip:southBound \"-89.5\"^^xsd:float ;\n",
      "    esip:westBound \"-180.0\"^^xsd:float ;\n",
      "    owl:a bcube:Layer .\n",
      "\n",
      "<urn:uuid:d2619909-63db-402b-9adf-24219e0a6d8b> bcube:hasValue \"atmosphere\",\n",
      "        \"climate\",\n",
      "        \"earth science\",\n",
      "        \"meteorology\",\n",
      "        \"ocean\" ;\n",
      "    owl:a bcube:thesaurusSubset .\n",
      "\n",
      "\n"
     ]
    }
   ],
   "source": [
    "grapher = RdfGrapher(reader.description)\n",
    "grapher.serialize()\n",
    "print grapher.emit_format()"
   ]
  },
  {
   "cell_type": "markdown",
   "metadata": {
    "collapsed": true
   },
   "source": [
    "Moving on to our other WxS options, starting with WFS.\n",
    "\n",
    "<a id='wfs_triples'></a>"
   ]
  },
  {
   "cell_type": "code",
   "execution_count": 15,
   "metadata": {
    "collapsed": false,
    "scrolled": true
   },
   "outputs": [
    {
     "name": "stdout",
     "output_type": "stream",
     "text": [
      "@prefix bcube: <http://purl.org/BCube/#> .\n",
      "@prefix bibo: <http://purl.org/ontology/bibo/#> .\n",
      "@prefix dc: <http://purl.org/dc/elements/1.1/> .\n",
      "@prefix dcat: <http://www.w3.org/TR/vocab-dcat/#> .\n",
      "@prefix dcterms: <http://purl.org/dc/terms/> .\n",
      "@prefix esip: <http://purl.org/esip/#> .\n",
      "@prefix foaf: <http://xmlns.com/foaf/0.1/> .\n",
      "@prefix owl: <http://www.w3.org/2002/07/owl#> .\n",
      "@prefix rdf: <http://www.w3.org/1999/02/22-rdf-syntax-ns#> .\n",
      "@prefix rdfs: <http://www.w3.org/2000/01/rdf-schema#> .\n",
      "@prefix vcard: <http://www.w3.org/TR/vcard-rdf/#> .\n",
      "@prefix xml: <http://www.w3.org/XML/1998/namespace> .\n",
      "@prefix xsd: <http://www.w3.org/2001/XMLSchema#> .\n",
      "\n",
      "<urn:uuid:3cc5528d-1f8c-4101-b5d1-25256c073255> a \"OGC:WFS\" ;\n",
      "    bcube:contains <urn:uuid:396b03d1-d5e2-421d-89e0-b790c13b68c7>,\n",
      "        <urn:uuid:43e39455-a8ec-408f-968e-99af5bf528b5>,\n",
      "        <urn:uuid:f8034383-7ee7-4eae-b93c-ad51d884f797> ;\n",
      "    bcube:dateCreated \"2015-09-15T12:45:00Z\" ;\n",
      "    bcube:lastUpdated \"2015-09-15T12:45:00Z\" ;\n",
      "    bcube:originatedFrom <urn:sha:89c0265fb336ecbb52b9997aede4c7730d61334d49a103cd66e98e48> ;\n",
      "    dc:conformsTo <urn:uuid:9eff67f2-e5e0-48ea-a10c-98c4898700d1> ;\n",
      "    dc:description \"Estimates of the number and size of undiscovered mineral deposits containing gold, silver, copper, lead, and zinc in the US, by type of deposit.\" ;\n",
      "    owl:a bcube:service .\n",
      "\n",
      "<urn:uuid:e8713160-71a6-4bb4-b4e4-573a2f99b563> bcube:originatedFrom <urn:sha:d2db93911fbfeae23ee061ae4651497702563ea40b6664af45653905> ;\n",
      "    dc:describes <urn:uuid:43e39455-a8ec-408f-968e-99af5bf528b5> ;\n",
      "    owl:a dcat:CatalogRecord .\n",
      "\n",
      "<urn:sha:89c0265fb336ecbb52b9997aede4c7730d61334d49a103cd66e98e48> bcube:HTTPStatusCodeValue 200 ;\n",
      "    bcube:HTTPStatusFamilyCode 200 ;\n",
      "    bcube:HTTPStatusFamilyType \"Success message\" ;\n",
      "    bcube:atTime \"2015-09-15T12:45:00Z\" ;\n",
      "    bcube:hasConfidence \"Good\" ;\n",
      "    bcube:hasUrlSource \"Harvested\" ;\n",
      "    bcube:reasonPhrase \"OK\" ;\n",
      "    bcube:validatedOn \"2015-09-15T12:45:00Z\" ;\n",
      "    owl:a bcube:Url ;\n",
      "    vcard:hasUrl \"http://ferret.pmel.noaa.gov/thredds/wms/las/woa05_monthly/data_ferret.pmel.noaa.gov_thredds_dodsC_data_PMEL_WOA05nc_monthly_o0112mn1.nc.jnl\" .\n",
      "\n",
      "<urn:sha:d2db93911fbfeae23ee061ae4651497702563ea40b6664af45653905> bcube:HTTPStatusCodeValue 200 ;\n",
      "    bcube:HTTPStatusFamilyCode 200 ;\n",
      "    bcube:HTTPStatusFamilyType \"Success message\" ;\n",
      "    bcube:atTime \"2015-09-15T12:45:00Z\" ;\n",
      "    bcube:hasConfidence \"Good\" ;\n",
      "    bcube:hasUrlSource \"Harvested\" ;\n",
      "    bcube:reasonPhrase \"OK\" ;\n",
      "    bcube:validatedOn \"2015-09-15T12:45:00Z\" ;\n",
      "    owl:a bcube:Url ;\n",
      "    vcard:hasUrl \"http://mrdata.usgs.gov/metadata/nmra.xml\" .\n",
      "\n",
      "<urn:uuid:396b03d1-d5e2-421d-89e0-b790c13b68c7> bcube:dateCreated \"2015-09-15T12:45:00Z\" ;\n",
      "    bcube:lastUpdated \"2015-09-15T12:45:00Z\" ;\n",
      "    dc:description \"Estimates of the number and size of undiscovered mineral deposits of this type\" ;\n",
      "    dc:spatial \"POLYGON ((-165 24,-165 73,-66 73,-66 24,-165 24))\" ;\n",
      "    dc:title \"Permissive tracts for Alkaline Au-Te\" ;\n",
      "    dcterms:references <urn:sha:457e0c66941f7c4069c334684f58642ee57c005b30f9225d3e956b87> ;\n",
      "    esip:eastBound \"-66.0\"^^xsd:float ;\n",
      "    esip:northBound \"73.0\"^^xsd:float ;\n",
      "    esip:southBound \"24.0\"^^xsd:float ;\n",
      "    esip:westBound \"-165.0\"^^xsd:float ;\n",
      "    owl:a bcube:Layer .\n",
      "\n",
      "<urn:uuid:9eff67f2-e5e0-48ea-a10c-98c4898700d1> bcube:hasValue \"metallic mineral resources; natural resource assessment; gold; silver; copper; lead; zinc\" ;\n",
      "    owl:a bcube:thesaurusSubset .\n",
      "\n",
      "<urn:uuid:f8034383-7ee7-4eae-b93c-ad51d884f797> bcube:dateCreated \"2015-09-15T12:45:00Z\" ;\n",
      "    bcube:lastUpdated \"2015-09-15T12:45:00Z\" ;\n",
      "    dc:description \"Estimates of the number and size of undiscovered mineral deposits of this type\" ;\n",
      "    dc:spatial \"POLYGON ((-165 24,-165 73,-66 73,-66 24,-165 24))\" ;\n",
      "    dc:title \"Permissive tracts for Distal disseminated Ag-Au\" ;\n",
      "    dcterms:references <urn:sha:457e0c66941f7c4069c334684f58642ee57c005b30f9225d3e956b87> ;\n",
      "    esip:eastBound \"-66.0\"^^xsd:float ;\n",
      "    esip:northBound \"73.0\"^^xsd:float ;\n",
      "    esip:southBound \"24.0\"^^xsd:float ;\n",
      "    esip:westBound \"-165.0\"^^xsd:float ;\n",
      "    owl:a bcube:Layer .\n",
      "\n",
      "<urn:uuid:43e39455-a8ec-408f-968e-99af5bf528b5> bcube:dateCreated \"2015-09-15T12:45:00Z\" ;\n",
      "    bcube:lastUpdated \"2015-09-15T12:45:00Z\" ;\n",
      "    dc:description \"Estimates of the number and size of undiscovered mineral deposits of this type\" ;\n",
      "    dc:spatial \"POLYGON ((-165 24,-165 73,-66 73,-66 24,-165 24))\" ;\n",
      "    dc:title \"Permissive tracts for Duluth Cu-Ni-PGE\" ;\n",
      "    dcterms:references <urn:sha:457e0c66941f7c4069c334684f58642ee57c005b30f9225d3e956b87> ;\n",
      "    esip:eastBound \"-66.0\"^^xsd:float ;\n",
      "    esip:northBound \"73.0\"^^xsd:float ;\n",
      "    esip:southBound \"24.0\"^^xsd:float ;\n",
      "    esip:westBound \"-165.0\"^^xsd:float ;\n",
      "    owl:a bcube:Layer .\n",
      "\n",
      "<urn:sha:457e0c66941f7c4069c334684f58642ee57c005b30f9225d3e956b87> bcube:HTTPStatusCodeValue 200 ;\n",
      "    bcube:HTTPStatusFamilyCode 200 ;\n",
      "    bcube:HTTPStatusFamilyType \"Success message\" ;\n",
      "    bcube:atTime \"2015-09-15T12:45:00Z\" ;\n",
      "    bcube:hasConfidence \"Good\" ;\n",
      "    bcube:hasUrlSource \"Generated\" ;\n",
      "    bcube:reasonPhrase \"OK\" ;\n",
      "    bcube:validatedOn \"2015-09-15T12:45:00Z\" ;\n",
      "    owl:a bcube:Url ;\n",
      "    vcard:hasUrl \"http://www.example.com\" .\n",
      "\n",
      "\n"
     ]
    }
   ],
   "source": [
    "with open('../inputs/wfs_v1_1_0.xml', 'r') as f:\n",
    "    response = f.read()\n",
    "\n",
    "rr = RawResponse(response, 'text/xml')\n",
    "response = rr.clean_raw_content()\n",
    "    \n",
    "url = 'http://ferret.pmel.noaa.gov/thredds/wms/las/woa05_monthly/data_ferret.pmel.noaa.gov_thredds_dodsC_data_PMEL_WOA05nc_monthly_o0112mn1.nc.jnl'\n",
    "identity = {\n",
    "    \"service\": {\n",
    "        \"name\": \"WFS\",\n",
    "        \"request\": \"GetCapabilities\",\n",
    "        \"version\": [\n",
    "            \"1.1.0\"\n",
    "        ]\n",
    "    },\n",
    "    \"protocol\": \"OGC\"\n",
    "}\n",
    "\n",
    "reader = OgcReader(identity, response, url, {'harvest_date': '2015-09-15T12:45:00Z'})\n",
    "reader.parse()\n",
    "grapher = RdfGrapher(reader.description)\n",
    "grapher.serialize()\n",
    "print grapher.emit_format()"
   ]
  },
  {
   "cell_type": "code",
   "execution_count": 16,
   "metadata": {
    "collapsed": false,
    "scrolled": true
   },
   "outputs": [],
   "source": [
    "# x = reader._get_service_reader('WFS', '1.1.0')\n",
    "# reader._parse_getcap_datasets(x)"
   ]
  },
  {
   "cell_type": "markdown",
   "metadata": {},
   "source": [
    "Once more for WCS, although it does generally have a more limited GetCapabilities.\n",
    "\n",
    "<a id='wcs_triples'></a>"
   ]
  },
  {
   "cell_type": "code",
   "execution_count": 17,
   "metadata": {
    "collapsed": false
   },
   "outputs": [
    {
     "name": "stdout",
     "output_type": "stream",
     "text": [
      "@prefix bcube: <http://purl.org/BCube/#> .\n",
      "@prefix bibo: <http://purl.org/ontology/bibo/#> .\n",
      "@prefix dc: <http://purl.org/dc/elements/1.1/> .\n",
      "@prefix dcat: <http://www.w3.org/TR/vocab-dcat/#> .\n",
      "@prefix dcterms: <http://purl.org/dc/terms/> .\n",
      "@prefix esip: <http://purl.org/esip/#> .\n",
      "@prefix foaf: <http://xmlns.com/foaf/0.1/> .\n",
      "@prefix owl: <http://www.w3.org/2002/07/owl#> .\n",
      "@prefix rdf: <http://www.w3.org/1999/02/22-rdf-syntax-ns#> .\n",
      "@prefix rdfs: <http://www.w3.org/2000/01/rdf-schema#> .\n",
      "@prefix vcard: <http://www.w3.org/TR/vcard-rdf/#> .\n",
      "@prefix xml: <http://www.w3.org/XML/1998/namespace> .\n",
      "@prefix xsd: <http://www.w3.org/2001/XMLSchema#> .\n",
      "\n",
      "<urn:uuid:0e12cd52-6c87-459c-baff-028927bab1d3> a \"OGC:WCS\" ;\n",
      "    bcube:contains <urn:uuid:1fc1956b-e113-4516-a42e-28ac0123a78d> ;\n",
      "    bcube:dateCreated \"2015-09-15T12:45:00Z\" ;\n",
      "    bcube:lastUpdated \"2015-09-15T12:45:00Z\" ;\n",
      "    bcube:originatedFrom <urn:sha:89c0265fb336ecbb52b9997aede4c7730d61334d49a103cd66e98e48> ;\n",
      "    owl:a bcube:service .\n",
      "\n",
      "<urn:sha:457e0c66941f7c4069c334684f58642ee57c005b30f9225d3e956b87> bcube:HTTPStatusCodeValue 200 ;\n",
      "    bcube:HTTPStatusFamilyCode 200 ;\n",
      "    bcube:HTTPStatusFamilyType \"Success message\" ;\n",
      "    bcube:atTime \"2015-09-15T12:45:00Z\" ;\n",
      "    bcube:hasConfidence \"Good\" ;\n",
      "    bcube:hasUrlSource \"Generated\" ;\n",
      "    bcube:reasonPhrase \"OK\" ;\n",
      "    bcube:validatedOn \"2015-09-15T12:45:00Z\" ;\n",
      "    owl:a bcube:Url ;\n",
      "    vcard:hasUrl \"http://www.example.com\" .\n",
      "\n",
      "<urn:sha:89c0265fb336ecbb52b9997aede4c7730d61334d49a103cd66e98e48> bcube:HTTPStatusCodeValue 200 ;\n",
      "    bcube:HTTPStatusFamilyCode 200 ;\n",
      "    bcube:HTTPStatusFamilyType \"Success message\" ;\n",
      "    bcube:atTime \"2015-09-15T12:45:00Z\" ;\n",
      "    bcube:hasConfidence \"Good\" ;\n",
      "    bcube:hasUrlSource \"Harvested\" ;\n",
      "    bcube:reasonPhrase \"OK\" ;\n",
      "    bcube:validatedOn \"2015-09-15T12:45:00Z\" ;\n",
      "    owl:a bcube:Url ;\n",
      "    vcard:hasUrl \"http://ferret.pmel.noaa.gov/thredds/wms/las/woa05_monthly/data_ferret.pmel.noaa.gov_thredds_dodsC_data_PMEL_WOA05nc_monthly_o0112mn1.nc.jnl\" .\n",
      "\n",
      "<urn:uuid:1fc1956b-e113-4516-a42e-28ac0123a78d> bcube:dateCreated \"2015-09-15T12:45:00Z\" ;\n",
      "    bcube:lastUpdated \"2015-09-15T12:45:00Z\" ;\n",
      "    dc:description \"Gridded, high resolution ocean surface vector winds and wind stresses on a global 0.25\\\\xc2\\\\xb0 grid. This is the seasonal fall average of wind speeds from 1990 to 2010. Speeds are recorded in meters per second.\" ;\n",
      "    dc:spatial \"POLYGON ((-99.307299753899997 16.849217106099999,-99.307299753899997 31.0960075335,-79.168204535800001 31.0960075335,-79.168204535800001 16.849217106099999,-99.307299753899997 16.849217106099999))\" ;\n",
      "    dc:title \"Wind Speed_1\" ;\n",
      "    dcterms:references <urn:sha:457e0c66941f7c4069c334684f58642ee57c005b30f9225d3e956b87> ;\n",
      "    esip:eastBound \"-79.1682045358\"^^xsd:float ;\n",
      "    esip:northBound \"31.0960075335\"^^xsd:float ;\n",
      "    esip:southBound \"16.8492171061\"^^xsd:float ;\n",
      "    esip:westBound \"-99.3072997539\"^^xsd:float ;\n",
      "    owl:a bcube:Layer .\n",
      "\n",
      "\n"
     ]
    }
   ],
   "source": [
    "with open('../inputs/wcs_v1_1_2.xml', 'r') as f:\n",
    "    response = f.read()\n",
    "\n",
    "rr = RawResponse(response.encode('string_escape'), 'text/xml')\n",
    "response = rr.clean_raw_content()\n",
    "    \n",
    "url = 'http://ferret.pmel.noaa.gov/thredds/wms/las/woa05_monthly/data_ferret.pmel.noaa.gov_thredds_dodsC_data_PMEL_WOA05nc_monthly_o0112mn1.nc.jnl'\n",
    "identity = {\n",
    "    \"service\": {\n",
    "        \"name\": \"WCS\",\n",
    "        \"request\": \"GetCapabilities\",\n",
    "        \"version\": [\n",
    "            \"1.1.2\"\n",
    "        ]\n",
    "    },\n",
    "    \"protocol\": \"OGC\"\n",
    "}\n",
    "\n",
    "reader = OgcReader(identity, response, url, {'harvest_date': '2015-09-15T12:45:00Z'})\n",
    "reader.parse()\n",
    "grapher = RdfGrapher(reader.description)\n",
    "grapher.serialize()\n",
    "print grapher.emit_format()"
   ]
  },
  {
   "cell_type": "code",
   "execution_count": null,
   "metadata": {
    "collapsed": true
   },
   "outputs": [],
   "source": []
  }
 ],
 "metadata": {
  "kernelspec": {
   "display_name": "Python 2",
   "language": "python",
   "name": "python2"
  },
  "language_info": {
   "codemirror_mode": {
    "name": "ipython",
    "version": 2
   },
   "file_extension": ".py",
   "mimetype": "text/x-python",
   "name": "python",
   "nbconvert_exporter": "python",
   "pygments_lexer": "ipython2",
   "version": "2.7.10"
  }
 },
 "nbformat": 4,
 "nbformat_minor": 0
}
