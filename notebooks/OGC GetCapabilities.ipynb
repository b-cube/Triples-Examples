{
 "cells": [
  {
   "cell_type": "markdown",
   "metadata": {},
   "source": [
    "###OGC triples for WxS GetCapabilities as Catalog Records\n",
    "\n",
    "\n",
    "[WMS ttl](#wms_triples)\n",
    "\n",
    "[WFS ttl](#wfs_triples)\n",
    "\n",
    "[WCS ttl](#wcs_triples)"
   ]
  },
  {
   "cell_type": "code",
   "execution_count": 1,
   "metadata": {
    "collapsed": false
   },
   "outputs": [],
   "source": [
    "%reload_ext autoreload\n",
    "%autoreload 2\n",
    "\n",
    "import os\n",
    "import json\n",
    "import glob\n",
    "from semproc.rawresponse import RawResponse\n",
    "from semproc.parser import Parser\n",
    "from semproc.preprocessors.ogc_preprocessors import OgcReader\n",
    "from semproc.serializers.rdfgraphs import RdfGrapher"
   ]
  },
  {
   "cell_type": "code",
   "execution_count": 2,
   "metadata": {
    "collapsed": true
   },
   "outputs": [],
   "source": [
    "with open('../inputs/wms_v1.3.0.xml', 'r') as f:\n",
    "    response = f.read()\n",
    "\n",
    "rr = RawResponse(response, 'text/xml')\n",
    "response = rr.clean_raw_content()\n",
    "    \n",
    "url = 'http://ferret.pmel.noaa.gov/thredds/wms/las/woa05_monthly/data_ferret.pmel.noaa.gov_thredds_dodsC_data_PMEL_WOA05nc_monthly_o0112mn1.nc.jnl'\n",
    "identity = {\n",
    "    \"service\": {\n",
    "        \"name\": \"WMS\",\n",
    "        \"request\": \"GetCapabilities\",\n",
    "        \"version\": [\n",
    "            \"1.3.0\"\n",
    "        ]\n",
    "    },\n",
    "    \"protocol\": \"OGC\"\n",
    "}"
   ]
  },
  {
   "cell_type": "code",
   "execution_count": 3,
   "metadata": {
    "collapsed": true
   },
   "outputs": [],
   "source": [
    "reader = OgcReader(identity, response, url, {'harvest_date': '2015-09-15T12:45:00Z'})"
   ]
  },
  {
   "cell_type": "code",
   "execution_count": 4,
   "metadata": {
    "collapsed": false
   },
   "outputs": [],
   "source": [
    "reader.parse()"
   ]
  },
  {
   "cell_type": "code",
   "execution_count": 5,
   "metadata": {
    "collapsed": true
   },
   "outputs": [],
   "source": [
    "# reader.description"
   ]
  },
  {
   "cell_type": "markdown",
   "metadata": {},
   "source": [
    "<a id='wms_triples'></a>"
   ]
  },
  {
   "cell_type": "code",
   "execution_count": 37,
   "metadata": {
    "collapsed": false,
    "scrolled": false
   },
   "outputs": [
    {
     "name": "stdout",
     "output_type": "stream",
     "text": [
      "@prefix bcube: <http://purl.org/BCube/#> .\n",
      "@prefix bibo: <http://purl.org/ontology/bibo/#> .\n",
      "@prefix dc: <http://purl.org/dc/elements/1.1/> .\n",
      "@prefix dcat: <http://www.w3.org/TR/vocab-dcat/#> .\n",
      "@prefix dcterms: <http://purl.org/dc/terms/> .\n",
      "@prefix esip: <http://purl.org/esip/#> .\n",
      "@prefix foaf: <http://xmlns.com/foaf/0.1/> .\n",
      "@prefix owl: <http://www.w3.org/2002/07/owl#> .\n",
      "@prefix rdf: <http://www.w3.org/1999/02/22-rdf-syntax-ns#> .\n",
      "@prefix rdfs: <http://www.w3.org/2000/01/rdf-schema#> .\n",
      "@prefix vcard: <http://www.w3.org/TR/vcard-rdf/#> .\n",
      "@prefix xml: <http://www.w3.org/XML/1998/namespace> .\n",
      "@prefix xsd: <http://www.w3.org/2001/XMLSchema#> .\n",
      "\n",
      "<urn:sha:89c0265fb336ecbb52b9997aede4c7730d61334d49a103cd66e98e48> a \"OGC:WMS\" ;\n",
      "    bcube:contains <urn:uuid:1652dba3-b2ea-4631-9b24-03752bf2bd0c> ;\n",
      "    bcube:dateCreated \"2015-09-15T12:45:00Z\" ;\n",
      "    bcube:lastUpdated \"2015-09-15T12:45:00Z\" ;\n",
      "    bcube:originatedFrom <urn:uuid:cc2c7fe2-a6ab-44f4-a371-f9de207aff92> ;\n",
      "    dc:conformsTo <urn:uuid:3bd42451-f9f9-41f2-9ad0-36f4965b56a7>,\n",
      "        \"http://schemas.opengis.net/wms/1.3.0/capabilities_1_3_0.xsd\",\n",
      "        \"http://www.opengis.net/wms\" ;\n",
      "    dc:description \"Scientific Data\" ;\n",
      "    owl:a bcube:service .\n",
      "\n",
      "<urn:sha:457e0c66941f7c4069c334684f58642ee57c005b30f9225d3e956b87> bcube:HTTPStatusCodeValue 200 ;\n",
      "    bcube:HTTPStatusFamilyCode 200 ;\n",
      "    bcube:HTTPStatusFamilyType \"Success message\" ;\n",
      "    bcube:atTime \"2015-09-15T12:45:00Z\" ;\n",
      "    bcube:hasConfidence \"Good\" ;\n",
      "    bcube:hasUrlSource \"Generated\" ;\n",
      "    bcube:reasonPhrase \"OK\" ;\n",
      "    bcube:validatedOn \"2015-09-15T12:45:00Z\" ;\n",
      "    owl:a bcube:Url ;\n",
      "    vcard:hasUrl \"http://www.example.com\" .\n",
      "\n",
      "<urn:uuid:1652dba3-b2ea-4631-9b24-03752bf2bd0c> bcube:dateCreated \"2015-09-15T12:45:00Z\" ;\n",
      "    bcube:lastUpdated \"2015-09-15T12:45:00Z\" ;\n",
      "    dc:description \"Dissolved Oxygen\" ;\n",
      "    dc:spatial \"POLYGON ((-180.0 -89.5,-180.0 89.5,180.0 89.5,180.0 -89.5,-180.0 -89.5))\" ;\n",
      "    dc:title \"dissolved_oxygen\" ;\n",
      "    dcterms:references <urn:sha:457e0c66941f7c4069c334684f58642ee57c005b30f9225d3e956b87> ;\n",
      "    esip:eastBound \"180.0\"^^xsd:float ;\n",
      "    esip:northBound \"89.5\"^^xsd:float ;\n",
      "    esip:southBound \"-89.5\"^^xsd:float ;\n",
      "    esip:westBound \"-180.0\"^^xsd:float ;\n",
      "    owl:a bcube:Layer .\n",
      "\n",
      "<urn:uuid:3bd42451-f9f9-41f2-9ad0-36f4965b56a7> bcube:hasValue \"atmosphere\",\n",
      "        \"climate\",\n",
      "        \"earth science\",\n",
      "        \"meteorology\",\n",
      "        \"ocean\" ;\n",
      "    owl:a bcube:thesaurusSubset .\n",
      "\n",
      "<urn:uuid:cc2c7fe2-a6ab-44f4-a371-f9de207aff92> bcube:HTTPStatusCodeValue 200 ;\n",
      "    bcube:HTTPStatusFamilyCode 200 ;\n",
      "    bcube:HTTPStatusFamilyType \"Success message\" ;\n",
      "    bcube:atTime \"2015-09-15T12:45:00Z\" ;\n",
      "    bcube:hasConfidence \"Good\" ;\n",
      "    bcube:hasUrlSource \"Harvested\" ;\n",
      "    bcube:reasonPhrase \"OK\" ;\n",
      "    bcube:validatedOn \"2015-09-15T12:45:00Z\" ;\n",
      "    owl:a bcube:Url ;\n",
      "    vcard:hasUrl \"http://ferret.pmel.noaa.gov/thredds/wms/las/woa05_monthly/data_ferret.pmel.noaa.gov_thredds_dodsC_data_PMEL_WOA05nc_monthly_o0112mn1.nc.jnl\" .\n",
      "\n",
      "\n"
     ]
    }
   ],
   "source": [
    "grapher = RdfGrapher(reader.description)\n",
    "grapher.serialize()\n",
    "print grapher.emit_format()"
   ]
  },
  {
   "cell_type": "markdown",
   "metadata": {
    "collapsed": true
   },
   "source": [
    "Moving on to our other WxS options, starting with WFS.\n",
    "\n",
    "<a id='wfs_triples'></a>"
   ]
  },
  {
   "cell_type": "code",
   "execution_count": 6,
   "metadata": {
    "collapsed": false,
    "scrolled": true
   },
   "outputs": [
    {
     "name": "stdout",
     "output_type": "stream",
     "text": [
      "@prefix bcube: <http://purl.org/BCube/#> .\n",
      "@prefix bibo: <http://purl.org/ontology/bibo/#> .\n",
      "@prefix dc: <http://purl.org/dc/elements/1.1/> .\n",
      "@prefix dcat: <http://www.w3.org/TR/vocab-dcat/#> .\n",
      "@prefix dcterms: <http://purl.org/dc/terms/> .\n",
      "@prefix esip: <http://purl.org/esip/#> .\n",
      "@prefix foaf: <http://xmlns.com/foaf/0.1/> .\n",
      "@prefix owl: <http://www.w3.org/2002/07/owl#> .\n",
      "@prefix rdf: <http://www.w3.org/1999/02/22-rdf-syntax-ns#> .\n",
      "@prefix rdfs: <http://www.w3.org/2000/01/rdf-schema#> .\n",
      "@prefix vcard: <http://www.w3.org/TR/vcard-rdf/#> .\n",
      "@prefix xml: <http://www.w3.org/XML/1998/namespace> .\n",
      "@prefix xsd: <http://www.w3.org/2001/XMLSchema#> .\n",
      "\n",
      "<urn:uuid:0a76353a-affa-4c80-a53e-f8db2a458595> a \"OGC:WFS\" ;\n",
      "    bcube:contains <urn:uuid:2379d980-f1a0-4a5f-95f0-b84d16fecfba>,\n",
      "        <urn:uuid:478e8095-d640-4e10-a229-66c079546cbd>,\n",
      "        <urn:uuid:ac3bd388-30ee-48e6-af83-6a1e669610b2> ;\n",
      "    bcube:dateCreated \"2015-09-15T12:45:00Z\" ;\n",
      "    bcube:lastUpdated \"2015-09-15T12:45:00Z\" ;\n",
      "    bcube:originatedFrom <urn:sha:89c0265fb336ecbb52b9997aede4c7730d61334d49a103cd66e98e48> ;\n",
      "    dc:conformsTo <urn:uuid:648dcbe6-075d-4410-b7aa-e89c45427c3f>,\n",
      "        \"http://schemas.opengis.net/wfs/1.1.0/wfs.xsd\",\n",
      "        \"http://www.opengis.net/wfs\" ;\n",
      "    dc:description \"Estimates of the number and size of undiscovered mineral deposits containing gold, silver, copper, lead, and zinc in the US, by type of deposit.\" ;\n",
      "    owl:a bcube:service .\n",
      "\n",
      "<urn:uuid:6aed81de-e197-49d6-abf2-ec2739d9db63> bcube:originatedFrom <urn:sha:d2db93911fbfeae23ee061ae4651497702563ea40b6664af45653905> ;\n",
      "    dc:describes <urn:uuid:478e8095-d640-4e10-a229-66c079546cbd> ;\n",
      "    owl:a dcat:CatalogRecord .\n",
      "\n",
      "<urn:sha:89c0265fb336ecbb52b9997aede4c7730d61334d49a103cd66e98e48> bcube:HTTPStatusCodeValue 200 ;\n",
      "    bcube:HTTPStatusFamilyCode 200 ;\n",
      "    bcube:HTTPStatusFamilyType \"Success message\" ;\n",
      "    bcube:atTime \"2015-09-15T12:45:00Z\" ;\n",
      "    bcube:hasConfidence \"Good\" ;\n",
      "    bcube:hasUrlSource \"Harvested\" ;\n",
      "    bcube:reasonPhrase \"OK\" ;\n",
      "    bcube:validatedOn \"2015-09-15T12:45:00Z\" ;\n",
      "    owl:a bcube:Url ;\n",
      "    vcard:hasUrl \"http://ferret.pmel.noaa.gov/thredds/wms/las/woa05_monthly/data_ferret.pmel.noaa.gov_thredds_dodsC_data_PMEL_WOA05nc_monthly_o0112mn1.nc.jnl\" .\n",
      "\n",
      "<urn:sha:d2db93911fbfeae23ee061ae4651497702563ea40b6664af45653905> bcube:HTTPStatusCodeValue 200 ;\n",
      "    bcube:HTTPStatusFamilyCode 200 ;\n",
      "    bcube:HTTPStatusFamilyType \"Success message\" ;\n",
      "    bcube:atTime \"2015-09-15T12:45:00Z\" ;\n",
      "    bcube:hasConfidence \"Good\" ;\n",
      "    bcube:hasUrlSource \"Harvested\" ;\n",
      "    bcube:reasonPhrase \"OK\" ;\n",
      "    bcube:validatedOn \"2015-09-15T12:45:00Z\" ;\n",
      "    owl:a bcube:Url ;\n",
      "    vcard:hasUrl \"http://mrdata.usgs.gov/metadata/nmra.xml\" .\n",
      "\n",
      "<urn:uuid:2379d980-f1a0-4a5f-95f0-b84d16fecfba> bcube:dateCreated \"2015-09-15T12:45:00Z\" ;\n",
      "    bcube:lastUpdated \"2015-09-15T12:45:00Z\" ;\n",
      "    dc:description \"Estimates of the number and size of undiscovered mineral deposits of this type\" ;\n",
      "    dc:spatial \"POLYGON ((-165 24,-165 73,-66 73,-66 24,-165 24))\" ;\n",
      "    dc:title \"Permissive tracts for Distal disseminated Ag-Au\" ;\n",
      "    dcterms:references <urn:sha:457e0c66941f7c4069c334684f58642ee57c005b30f9225d3e956b87> ;\n",
      "    esip:eastBound \"-66.0\"^^xsd:float ;\n",
      "    esip:northBound \"73.0\"^^xsd:float ;\n",
      "    esip:southBound \"24.0\"^^xsd:float ;\n",
      "    esip:westBound \"-165.0\"^^xsd:float ;\n",
      "    owl:a bcube:Layer .\n",
      "\n",
      "<urn:uuid:648dcbe6-075d-4410-b7aa-e89c45427c3f> bcube:hasValue \"metallic mineral resources; natural resource assessment; gold; silver; copper; lead; zinc\" ;\n",
      "    owl:a bcube:thesaurusSubset .\n",
      "\n",
      "<urn:uuid:ac3bd388-30ee-48e6-af83-6a1e669610b2> bcube:dateCreated \"2015-09-15T12:45:00Z\" ;\n",
      "    bcube:lastUpdated \"2015-09-15T12:45:00Z\" ;\n",
      "    dc:description \"Estimates of the number and size of undiscovered mineral deposits of this type\" ;\n",
      "    dc:spatial \"POLYGON ((-165 24,-165 73,-66 73,-66 24,-165 24))\" ;\n",
      "    dc:title \"Permissive tracts for Alkaline Au-Te\" ;\n",
      "    dcterms:references <urn:sha:457e0c66941f7c4069c334684f58642ee57c005b30f9225d3e956b87> ;\n",
      "    esip:eastBound \"-66.0\"^^xsd:float ;\n",
      "    esip:northBound \"73.0\"^^xsd:float ;\n",
      "    esip:southBound \"24.0\"^^xsd:float ;\n",
      "    esip:westBound \"-165.0\"^^xsd:float ;\n",
      "    owl:a bcube:Layer .\n",
      "\n",
      "<urn:uuid:478e8095-d640-4e10-a229-66c079546cbd> bcube:dateCreated \"2015-09-15T12:45:00Z\" ;\n",
      "    bcube:lastUpdated \"2015-09-15T12:45:00Z\" ;\n",
      "    dc:description \"Estimates of the number and size of undiscovered mineral deposits of this type\" ;\n",
      "    dc:spatial \"POLYGON ((-165 24,-165 73,-66 73,-66 24,-165 24))\" ;\n",
      "    dc:title \"Permissive tracts for Duluth Cu-Ni-PGE\" ;\n",
      "    dcterms:references <urn:sha:457e0c66941f7c4069c334684f58642ee57c005b30f9225d3e956b87> ;\n",
      "    esip:eastBound \"-66.0\"^^xsd:float ;\n",
      "    esip:northBound \"73.0\"^^xsd:float ;\n",
      "    esip:southBound \"24.0\"^^xsd:float ;\n",
      "    esip:westBound \"-165.0\"^^xsd:float ;\n",
      "    owl:a bcube:Layer .\n",
      "\n",
      "<urn:sha:457e0c66941f7c4069c334684f58642ee57c005b30f9225d3e956b87> bcube:HTTPStatusCodeValue 200 ;\n",
      "    bcube:HTTPStatusFamilyCode 200 ;\n",
      "    bcube:HTTPStatusFamilyType \"Success message\" ;\n",
      "    bcube:atTime \"2015-09-15T12:45:00Z\" ;\n",
      "    bcube:hasConfidence \"Good\" ;\n",
      "    bcube:hasUrlSource \"Generated\" ;\n",
      "    bcube:reasonPhrase \"OK\" ;\n",
      "    bcube:validatedOn \"2015-09-15T12:45:00Z\" ;\n",
      "    owl:a bcube:Url ;\n",
      "    vcard:hasUrl \"http://www.example.com\" .\n",
      "\n",
      "\n"
     ]
    }
   ],
   "source": [
    "with open('../inputs/wfs_v1_1_0.xml', 'r') as f:\n",
    "    response = f.read()\n",
    "\n",
    "rr = RawResponse(response, 'text/xml')\n",
    "response = rr.clean_raw_content()\n",
    "    \n",
    "url = 'http://ferret.pmel.noaa.gov/thredds/wms/las/woa05_monthly/data_ferret.pmel.noaa.gov_thredds_dodsC_data_PMEL_WOA05nc_monthly_o0112mn1.nc.jnl'\n",
    "identity = {\n",
    "    \"service\": {\n",
    "        \"name\": \"WFS\",\n",
    "        \"request\": \"GetCapabilities\",\n",
    "        \"version\": [\n",
    "            \"1.1.0\"\n",
    "        ]\n",
    "    },\n",
    "    \"protocol\": \"OGC\"\n",
    "}\n",
    "\n",
    "reader = OgcReader(identity, response, url, {'harvest_date': '2015-09-15T12:45:00Z'})\n",
    "reader.parse()\n",
    "grapher = RdfGrapher(reader.description)\n",
    "grapher.serialize()\n",
    "print grapher.emit_format()"
   ]
  },
  {
   "cell_type": "code",
   "execution_count": 7,
   "metadata": {
    "collapsed": false,
    "scrolled": true
   },
   "outputs": [],
   "source": [
    "# x = reader._get_service_reader('WFS', '1.1.0')\n",
    "# reader._parse_getcap_datasets(x)"
   ]
  },
  {
   "cell_type": "markdown",
   "metadata": {},
   "source": [
    "Once more for WCS, although it does generally have a more limited GetCapabilities.\n",
    "\n",
    "<a id='wcs_triples'></a>"
   ]
  },
  {
   "cell_type": "code",
   "execution_count": 8,
   "metadata": {
    "collapsed": false
   },
   "outputs": [
    {
     "name": "stdout",
     "output_type": "stream",
     "text": [
      "@prefix bcube: <http://purl.org/BCube/#> .\n",
      "@prefix bibo: <http://purl.org/ontology/bibo/#> .\n",
      "@prefix dc: <http://purl.org/dc/elements/1.1/> .\n",
      "@prefix dcat: <http://www.w3.org/TR/vocab-dcat/#> .\n",
      "@prefix dcterms: <http://purl.org/dc/terms/> .\n",
      "@prefix esip: <http://purl.org/esip/#> .\n",
      "@prefix foaf: <http://xmlns.com/foaf/0.1/> .\n",
      "@prefix owl: <http://www.w3.org/2002/07/owl#> .\n",
      "@prefix rdf: <http://www.w3.org/1999/02/22-rdf-syntax-ns#> .\n",
      "@prefix rdfs: <http://www.w3.org/2000/01/rdf-schema#> .\n",
      "@prefix vcard: <http://www.w3.org/TR/vcard-rdf/#> .\n",
      "@prefix xml: <http://www.w3.org/XML/1998/namespace> .\n",
      "@prefix xsd: <http://www.w3.org/2001/XMLSchema#> .\n",
      "\n",
      "<urn:uuid:00a433ad-e6c9-4d41-89e4-c7700049bed3> a \"OGC:WCS\" ;\n",
      "    bcube:contains <urn:uuid:6fc48a20-312e-47de-b776-c6468193be5b> ;\n",
      "    bcube:dateCreated \"2015-09-15T12:45:00Z\" ;\n",
      "    bcube:lastUpdated \"2015-09-15T12:45:00Z\" ;\n",
      "    bcube:originatedFrom <urn:sha:89c0265fb336ecbb52b9997aede4c7730d61334d49a103cd66e98e48> ;\n",
      "    dc:conformsTo \"http://schemas.opengis.net/ows/1.1.0/owsAll.xsd\",\n",
      "        \"http://schemas.opengis.net/wcs/1.1/wcsGetCapabilities.xsd\",\n",
      "        \"http://www.opengis.net/ows/1.1/\",\n",
      "        \"http://www.opengis.net/wcs/1.1\" ;\n",
      "    owl:a bcube:service .\n",
      "\n",
      "<urn:sha:457e0c66941f7c4069c334684f58642ee57c005b30f9225d3e956b87> bcube:HTTPStatusCodeValue 200 ;\n",
      "    bcube:HTTPStatusFamilyCode 200 ;\n",
      "    bcube:HTTPStatusFamilyType \"Success message\" ;\n",
      "    bcube:atTime \"2015-09-15T12:45:00Z\" ;\n",
      "    bcube:hasConfidence \"Good\" ;\n",
      "    bcube:hasUrlSource \"Generated\" ;\n",
      "    bcube:reasonPhrase \"OK\" ;\n",
      "    bcube:validatedOn \"2015-09-15T12:45:00Z\" ;\n",
      "    owl:a bcube:Url ;\n",
      "    vcard:hasUrl \"http://www.example.com\" .\n",
      "\n",
      "<urn:sha:89c0265fb336ecbb52b9997aede4c7730d61334d49a103cd66e98e48> bcube:HTTPStatusCodeValue 200 ;\n",
      "    bcube:HTTPStatusFamilyCode 200 ;\n",
      "    bcube:HTTPStatusFamilyType \"Success message\" ;\n",
      "    bcube:atTime \"2015-09-15T12:45:00Z\" ;\n",
      "    bcube:hasConfidence \"Good\" ;\n",
      "    bcube:hasUrlSource \"Harvested\" ;\n",
      "    bcube:reasonPhrase \"OK\" ;\n",
      "    bcube:validatedOn \"2015-09-15T12:45:00Z\" ;\n",
      "    owl:a bcube:Url ;\n",
      "    vcard:hasUrl \"http://ferret.pmel.noaa.gov/thredds/wms/las/woa05_monthly/data_ferret.pmel.noaa.gov_thredds_dodsC_data_PMEL_WOA05nc_monthly_o0112mn1.nc.jnl\" .\n",
      "\n",
      "<urn:uuid:6fc48a20-312e-47de-b776-c6468193be5b> bcube:dateCreated \"2015-09-15T12:45:00Z\" ;\n",
      "    bcube:lastUpdated \"2015-09-15T12:45:00Z\" ;\n",
      "    dc:description \"Gridded, high resolution ocean surface vector winds and wind stresses on a global 0.25\\\\xc2\\\\xb0 grid. This is the seasonal fall average of wind speeds from 1990 to 2010. Speeds are recorded in meters per second.\" ;\n",
      "    dc:spatial \"POLYGON ((-99.307299753899997 16.849217106099999,-99.307299753899997 31.0960075335,-79.168204535800001 31.0960075335,-79.168204535800001 16.849217106099999,-99.307299753899997 16.849217106099999))\" ;\n",
      "    dc:title \"Wind Speed_1\" ;\n",
      "    dcterms:references <urn:sha:457e0c66941f7c4069c334684f58642ee57c005b30f9225d3e956b87> ;\n",
      "    esip:eastBound \"-79.1682045358\"^^xsd:float ;\n",
      "    esip:northBound \"31.0960075335\"^^xsd:float ;\n",
      "    esip:southBound \"16.8492171061\"^^xsd:float ;\n",
      "    esip:westBound \"-99.3072997539\"^^xsd:float ;\n",
      "    owl:a bcube:Layer .\n",
      "\n",
      "\n"
     ]
    }
   ],
   "source": [
    "with open('../inputs/wcs_v1_1_2.xml', 'r') as f:\n",
    "    response = f.read()\n",
    "\n",
    "rr = RawResponse(response.encode('string_escape'), 'text/xml')\n",
    "response = rr.clean_raw_content()\n",
    "    \n",
    "url = 'http://ferret.pmel.noaa.gov/thredds/wms/las/woa05_monthly/data_ferret.pmel.noaa.gov_thredds_dodsC_data_PMEL_WOA05nc_monthly_o0112mn1.nc.jnl'\n",
    "identity = {\n",
    "    \"service\": {\n",
    "        \"name\": \"WCS\",\n",
    "        \"request\": \"GetCapabilities\",\n",
    "        \"version\": [\n",
    "            \"1.1.2\"\n",
    "        ]\n",
    "    },\n",
    "    \"protocol\": \"OGC\"\n",
    "}\n",
    "\n",
    "reader = OgcReader(identity, response, url, {'harvest_date': '2015-09-15T12:45:00Z'})\n",
    "reader.parse()\n",
    "grapher = RdfGrapher(reader.description)\n",
    "grapher.serialize()\n",
    "print grapher.emit_format()"
   ]
  },
  {
   "cell_type": "code",
   "execution_count": null,
   "metadata": {
    "collapsed": true
   },
   "outputs": [],
   "source": []
  }
 ],
 "metadata": {
  "kernelspec": {
   "display_name": "Python 2",
   "language": "python",
   "name": "python2"
  },
  "language_info": {
   "codemirror_mode": {
    "name": "ipython",
    "version": 2
   },
   "file_extension": ".py",
   "mimetype": "text/x-python",
   "name": "python",
   "nbconvert_exporter": "python",
   "pygments_lexer": "ipython2",
   "version": "2.7.10"
  }
 },
 "nbformat": 4,
 "nbformat_minor": 0
}
