{
 "cells": [
  {
   "cell_type": "markdown",
   "metadata": {},
   "source": [
    "##THREDDS\n",
    "\n",
    "Not actually sure how to handle the intermediate sections.\n"
   ]
  },
  {
   "cell_type": "code",
   "execution_count": 1,
   "metadata": {
    "collapsed": false
   },
   "outputs": [],
   "source": [
    "%reload_ext autoreload\n",
    "%autoreload 2\n",
    "\n",
    "import os\n",
    "import json\n",
    "import glob\n",
    "from semproc.rawresponse import RawResponse\n",
    "from semproc.parser import Parser\n",
    "from semproc.preprocessors.thredds_preprocessors import ThreddsReader\n",
    "from semproc.serializers.rdfgraphs import RdfGrapher"
   ]
  },
  {
   "cell_type": "code",
   "execution_count": 5,
   "metadata": {
    "collapsed": true
   },
   "outputs": [],
   "source": [
    "# load the proto-triples example\n",
    "with open('../inputs/thredds_catalog.xml', 'r') as f:\n",
    "    response = f.read()\n",
    "    \n",
    "rr = RawResponse(response, 'text/xml')\n",
    "response = rr.clean_raw_content()\n",
    "  \n",
    "url = 'https://bluehub.jrc.ec.europa.eu/opendap/hyrax/TRMM_3Hourly_3B42/1997/365/3B42.19980101.00.7.HDF.Z'\n",
    "identity ={\n",
    "        \"protocol\": \"UNIDATA\", \n",
    "     \"service\": {\n",
    "            \"version\": [\"1.1\"], \n",
    "            \"name\": \"THREDDS\"}\n",
    "    }\n",
    "\n",
    "\n",
    "parser = Parser(response)"
   ]
  },
  {
   "cell_type": "code",
   "execution_count": 8,
   "metadata": {
    "collapsed": false
   },
   "outputs": [],
   "source": [
    "# execute the parse \n",
    "reader = ThreddsReader(identity, response, url, {'harvest_date': '2015-06-20T20:22:00.643Z'})\n",
    "reader.parse()"
   ]
  },
  {
   "cell_type": "code",
   "execution_count": 41,
   "metadata": {
    "collapsed": false
   },
   "outputs": [],
   "source": [
    "# the parsed JSON\n",
    "#reader.description"
   ]
  },
  {
   "cell_type": "markdown",
   "metadata": {},
   "source": [
    "<a id='fgdc_triples'></a>"
   ]
  },
  {
   "cell_type": "code",
   "execution_count": 9,
   "metadata": {
    "collapsed": false
   },
   "outputs": [
    {
     "name": "stdout",
     "output_type": "stream",
     "text": [
      "@prefix bcube: <http://purl.org/BCube/#> .\n",
      "@prefix bibo: <http://purl.org/ontology/bibo/#> .\n",
      "@prefix dc: <http://purl.org/dc/elements/1.1/> .\n",
      "@prefix dcat: <http://www.w3.org/TR/vocab-dcat/#> .\n",
      "@prefix dcterms: <http://purl.org/dc/terms/> .\n",
      "@prefix esip: <http://purl.org/esip/#> .\n",
      "@prefix foaf: <http://xmlns.com/foaf/0.1/> .\n",
      "@prefix owl: <http://www.w3.org/2002/07/owl#> .\n",
      "@prefix rdf: <http://www.w3.org/1999/02/22-rdf-syntax-ns#> .\n",
      "@prefix rdfs: <http://www.w3.org/2000/01/rdf-schema#> .\n",
      "@prefix vcard: <http://www.w3.org/TR/vcard-rdf/#> .\n",
      "@prefix xml: <http://www.w3.org/XML/1998/namespace> .\n",
      "@prefix xsd: <http://www.w3.org/2001/XMLSchema#> .\n",
      "\n",
      "<urn:uuid:ac1934ef-10ea-4173-b6e6-e463450baec9> a \"UNIDATA:THREDDS \" ;\n",
      "    bcube:dateCreated \"2015-06-20T20:22:00.643Z\" ;\n",
      "    bcube:lastUpdated \"2015-06-20T20:22:00.643Z\" ;\n",
      "    bcube:originatedFrom <urn:sha:c19a6b9e3d91fd23f1d9e9a9afeded4c46af46ac28a9577b2ef17a17> ;\n",
      "    owl:a bcube:service .\n",
      "\n",
      "<urn:sha:c19a6b9e3d91fd23f1d9e9a9afeded4c46af46ac28a9577b2ef17a17> bcube:HTTPStatusCodeValue 200 ;\n",
      "    bcube:HTTPStatusFamilyCode 200 ;\n",
      "    bcube:HTTPStatusFamilyType \"Success message\" ;\n",
      "    bcube:atTime \"2015-06-20T20:22:00.643Z\" ;\n",
      "    bcube:hasConfidence \"Good\" ;\n",
      "    bcube:hasUrlSource \"Harvested\" ;\n",
      "    bcube:reasonPhrase \"OK\" ;\n",
      "    bcube:validatedOn \"2015-06-20T20:22:00.643Z\" ;\n",
      "    owl:a bcube:Url ;\n",
      "    vcard:hasUrl \"https://bluehub.jrc.ec.europa.eu/opendap/hyrax/TRMM_3Hourly_3B42/1997/365/3B42.19980101.00.7.HDF.Z\" .\n",
      "\n",
      "\n"
     ]
    }
   ],
   "source": [
    "# export the triples\n",
    "g= RdfGrapher(reader.description)\n",
    "g.serialize()\n",
    "ttl = g.emit_format()\n",
    "print ttl"
   ]
  },
  {
   "cell_type": "code",
   "execution_count": null,
   "metadata": {
    "collapsed": true
   },
   "outputs": [],
   "source": []
  },
  {
   "cell_type": "code",
   "execution_count": null,
   "metadata": {
    "collapsed": true
   },
   "outputs": [],
   "source": []
  }
 ],
 "metadata": {
  "kernelspec": {
   "display_name": "Python 2",
   "language": "python",
   "name": "python2"
  },
  "language_info": {
   "codemirror_mode": {
    "name": "ipython",
    "version": 2
   },
   "file_extension": ".py",
   "mimetype": "text/x-python",
   "name": "python",
   "nbconvert_exporter": "python",
   "pygments_lexer": "ipython2",
   "version": "2.7.10"
  }
 },
 "nbformat": 4,
 "nbformat_minor": 0
}
